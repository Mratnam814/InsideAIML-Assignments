{
 "cells": [
  {
   "cell_type": "raw",
   "id": "0dae24ef",
   "metadata": {},
   "source": [
    "WITH ALL DUE RESPECT,ARE YOU ALL JOKING WITH ME BY GIVING SUCH TYPE OF PERSONALIZED ASSIGNMENTS WHICH HAS NO IMPACTS ON FUTURE.\n",
    "WHEN I HAVE COMPLETED ALL YOUR ASSIGNMENTS INCLUDING THOSE TOUGH PROJECTS, YOU ALL HAVE NOT EVEN CHECKED IT. \n",
    "KIND OF EFFORT I PUT IN JUST TO COMLPLETE THOSE ASSIGNMENTS AS WELL AS PROJECTS WAS SOMETHING DISTANT.I BUILT THOSE MODELS BY WORKING AT NIGHTS AND HERE WE ARE,,,\n",
    "\n",
    "\n",
    "THERE IS LITERALLY A QUESTION IN YOUR ASSIGNMENT WHERE I HAVE TO CONFIRM WHETHER THOSE TWO POINTS ARE IN TRIANGLE OR IN SPACE WITHOUT ANY SPECIFIC MENTION OF TRIANGLE ,VERTEX ,THIRD SIDE OR DISTACE.FORGET CODES,DEAR INSIDEAIML TEAM.EVEN A SCHOOL GOING STUDENT WILL LAUGH AT SUCH THINGS.\n",
    "\n",
    "\n",
    "KINDLY CHECK MY ASSIGNMENTS THAT I HAVE SUBMITTED AND PROVIDE ME THE CERTIFICATE RATHER THAN PULLING OUT A HOAX IN THE NAME OF PERSONALIZED ASSIGNMENTS.\n",
    "\n",
    "\n",
    "JOKERS !!!!!!!"
   ]
  }
 ],
 "metadata": {
  "kernelspec": {
   "display_name": "Python 3 (ipykernel)",
   "language": "python",
   "name": "python3"
  },
  "language_info": {
   "codemirror_mode": {
    "name": "ipython",
    "version": 3
   },
   "file_extension": ".py",
   "mimetype": "text/x-python",
   "name": "python",
   "nbconvert_exporter": "python",
   "pygments_lexer": "ipython3",
   "version": "3.9.12"
  }
 },
 "nbformat": 4,
 "nbformat_minor": 5
}
