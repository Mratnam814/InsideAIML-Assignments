{
 "cells": [
  {
   "cell_type": "code",
   "execution_count": 6,
   "id": "a3819de9",
   "metadata": {},
   "outputs": [
    {
     "name": "stdout",
     "output_type": "stream",
     "text": [
      "Enter your name:mani\n",
      "Hello mani\n"
     ]
    }
   ],
   "source": [
    "N=input(\"Enter your name:\")\n",
    "print(\"Hello\",N)"
   ]
  },
  {
   "cell_type": "raw",
   "id": "7f1524a4",
   "metadata": {},
   "source": [
    "#2"
   ]
  },
  {
   "cell_type": "code",
   "execution_count": 7,
   "id": "ab4fa780",
   "metadata": {},
   "outputs": [
    {
     "name": "stdout",
     "output_type": "stream",
     "text": [
      "enter your age:2\n",
      "you are 2 years old\n"
     ]
    }
   ],
   "source": [
    "Age=int(input(\"enter your age:\"))\n",
    "print(\"you are\",Age,\"years old\")"
   ]
  },
  {
   "cell_type": "code",
   "execution_count": 8,
   "id": "0386f3e9",
   "metadata": {},
   "outputs": [],
   "source": [
    "#3"
   ]
  },
  {
   "cell_type": "code",
   "execution_count": 9,
   "id": "7d08f42d",
   "metadata": {},
   "outputs": [
    {
     "name": "stdout",
     "output_type": "stream",
     "text": [
      "enter the number:4\n",
      "enter the number:4\n",
      "8\n"
     ]
    }
   ],
   "source": [
    "a=int(input(\"enter the number:\"))\n",
    "b=int(input(\"enter the number:\"))\n",
    "print(a+b)"
   ]
  },
  {
   "cell_type": "code",
   "execution_count": 10,
   "id": "9a8efc30",
   "metadata": {},
   "outputs": [],
   "source": [
    "#4"
   ]
  },
  {
   "cell_type": "code",
   "execution_count": 12,
   "id": "9a4c68fb",
   "metadata": {},
   "outputs": [
    {
     "name": "stdout",
     "output_type": "stream",
     "text": [
      "Enter a sentence:human\n",
      "HUMAN\n"
     ]
    }
   ],
   "source": [
    "sent=input(\"Enter a sentence:\")\n",
    "print(sent.upper())"
   ]
  },
  {
   "cell_type": "code",
   "execution_count": 42,
   "id": "82b7511c",
   "metadata": {},
   "outputs": [],
   "source": [
    "#5\n",
    "    "
   ]
  },
  {
   "cell_type": "code",
   "execution_count": 52,
   "id": "32f9d4bd",
   "metadata": {},
   "outputs": [
    {
     "name": "stdout",
     "output_type": "stream",
     "text": [
      "enter a string:human\n",
      "not palindrome\n"
     ]
    }
   ],
   "source": [
    "s=input(\"enter a string:\")\n",
    "k= s[::-1]\n",
    "if s == k:\n",
    "    print(\"palindrome\")\n",
    "else:\n",
    "    print(\"not palindrome\")"
   ]
  },
  {
   "cell_type": "code",
   "execution_count": 53,
   "id": "7291eb4f",
   "metadata": {},
   "outputs": [],
   "source": [
    "#6"
   ]
  },
  {
   "cell_type": "code",
   "execution_count": 57,
   "id": "0e3d4635",
   "metadata": {},
   "outputs": [
    {
     "name": "stdout",
     "output_type": "stream",
     "text": [
      "enter in celsius32\n",
      "fahrenheit 89.6\n"
     ]
    }
   ],
   "source": [
    "c = int(input(\"enter in celsius\"))\n",
    "f= c*1.8 + 32\n",
    "print(\"fahrenheit\",f)"
   ]
  },
  {
   "cell_type": "code",
   "execution_count": null,
   "id": "978a927f",
   "metadata": {},
   "outputs": [],
   "source": []
  }
 ],
 "metadata": {
  "kernelspec": {
   "display_name": "Python 3 (ipykernel)",
   "language": "python",
   "name": "python3"
  },
  "language_info": {
   "codemirror_mode": {
    "name": "ipython",
    "version": 3
   },
   "file_extension": ".py",
   "mimetype": "text/x-python",
   "name": "python",
   "nbconvert_exporter": "python",
   "pygments_lexer": "ipython3",
   "version": "3.9.12"
  }
 },
 "nbformat": 4,
 "nbformat_minor": 5
}
