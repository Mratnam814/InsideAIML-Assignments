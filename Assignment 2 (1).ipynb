{
 "cells": [
  {
   "cell_type": "code",
   "execution_count": 1,
   "id": "3f9decd7",
   "metadata": {},
   "outputs": [],
   "source": [
    "#1"
   ]
  },
  {
   "cell_type": "code",
   "execution_count": 2,
   "id": "6ed8d050",
   "metadata": {},
   "outputs": [],
   "source": [
    "list=[]"
   ]
  },
  {
   "cell_type": "code",
   "execution_count": 4,
   "id": "a94de15f",
   "metadata": {},
   "outputs": [],
   "source": [
    "#2\n",
    "l=[\"guava\",\"pomegranate\",\"apple\",\"papaya\"]"
   ]
  },
  {
   "cell_type": "code",
   "execution_count": 5,
   "id": "30aa870f",
   "metadata": {},
   "outputs": [],
   "source": [
    "#3\n",
    "l=[\"papaya\",12334,{'country':'India'},456.83,{67,67,88}]"
   ]
  },
  {
   "cell_type": "code",
   "execution_count": 7,
   "id": "3df98100",
   "metadata": {},
   "outputs": [
    {
     "name": "stdout",
     "output_type": "stream",
     "text": [
      "enter100\n",
      "false\n"
     ]
    }
   ],
   "source": [
    "#4 code to check a particular element in the list\n",
    "list= [44,66,88,9,99]\n",
    "c=int(input(\"enter\"))\n",
    "if c in list:\n",
    "    print(\"true\")\n",
    "else:\n",
    "    print(\"false\")"
   ]
  },
  {
   "cell_type": "code",
   "execution_count": 9,
   "id": "b8910be0",
   "metadata": {},
   "outputs": [
    {
     "data": {
      "text/plain": [
       "66"
      ]
     },
     "execution_count": 9,
     "metadata": {},
     "output_type": "execute_result"
    }
   ],
   "source": [
    "#5\n",
    "l=[34,45,66,34,56]\n",
    "l[2]"
   ]
  },
  {
   "cell_type": "code",
   "execution_count": 25,
   "id": "e3d6c6cc",
   "metadata": {},
   "outputs": [
    {
     "data": {
      "text/plain": [
       "[12, 34, 44]"
      ]
     },
     "execution_count": 25,
     "metadata": {},
     "output_type": "execute_result"
    }
   ],
   "source": [
    "#6\n",
    "l=[12,34,44,56,78,67,89,67,100,56,34]\n",
    "p=[]\n",
    "q=[]\n",
    "for i in range(0,3):\n",
    "    p.append(l[i])\n",
    "\n",
    "for i in range(3,10):\n",
    "    q.append(l[i])\n",
    "    \n",
    "p"
   ]
  },
  {
   "cell_type": "code",
   "execution_count": 27,
   "id": "b2088e9e",
   "metadata": {},
   "outputs": [
    {
     "data": {
      "text/plain": [
       "[12, 34, 56, 67, 78, 90, 45]"
      ]
     },
     "execution_count": 27,
     "metadata": {},
     "output_type": "execute_result"
    }
   ],
   "source": [
    "#7\n",
    "l=[12,34,56,67,78,90]\n",
    "l.append(45)\n",
    "l"
   ]
  },
  {
   "cell_type": "code",
   "execution_count": 53,
   "id": "6191de99",
   "metadata": {},
   "outputs": [
    {
     "name": "stdout",
     "output_type": "stream",
     "text": [
      "0 12\n",
      "-1 21\n",
      "-2 43\n",
      "-3 65\n",
      "-4 78\n",
      "-5 787\n",
      "-6 56\n",
      "-7 34\n"
     ]
    }
   ],
   "source": [
    "#8\n",
    "s=[12,34,56,787,78,65,43,21]\n",
    "for i in range(len(s)):\n",
    "    print(-i,s[-i])"
   ]
  },
  {
   "cell_type": "code",
   "execution_count": 54,
   "id": "bebb916b",
   "metadata": {},
   "outputs": [
    {
     "data": {
      "text/plain": [
       "8"
      ]
     },
     "execution_count": 54,
     "metadata": {},
     "output_type": "execute_result"
    }
   ],
   "source": [
    "len(s)"
   ]
  },
  {
   "cell_type": "code",
   "execution_count": 55,
   "id": "e105a768",
   "metadata": {},
   "outputs": [],
   "source": [
    "#tuple"
   ]
  },
  {
   "cell_type": "code",
   "execution_count": 57,
   "id": "94a0920f",
   "metadata": {},
   "outputs": [],
   "source": [
    "#1 tuples have ( ) brackets whereas lists have []bracket ,tuples are mainly defined by comma sepration after the last element\n",
    "\n",
    "t=(32,)"
   ]
  },
  {
   "cell_type": "code",
   "execution_count": 62,
   "id": "dc0a6e96",
   "metadata": {},
   "outputs": [
    {
     "name": "stdout",
     "output_type": "stream",
     "text": [
      "enter the number of elements :1\n",
      "enter the elements1\n"
     ]
    },
    {
     "data": {
      "text/plain": [
       "(1,)"
      ]
     },
     "execution_count": 62,
     "metadata": {},
     "output_type": "execute_result"
    }
   ],
   "source": [
    "#2 python programme to create tuple\n",
    "p=int(input(\"enter the number of elements :\"))\n",
    "t=[]\n",
    "for i in range(0,p):\n",
    "    ele=int(input(\"enter the elements\"))\n",
    "    t.append(ele)\n",
    "tuple(t)\n",
    "    "
   ]
  },
  {
   "cell_type": "code",
   "execution_count": 68,
   "id": "ec48581d",
   "metadata": {},
   "outputs": [
    {
     "name": "stdout",
     "output_type": "stream",
     "text": [
      "enter the number of elements:2\n",
      "enter the elements:\"human\"\n",
      "enter the elements:34\n"
     ]
    },
    {
     "data": {
      "text/plain": [
       "('human', 34)"
      ]
     },
     "execution_count": 68,
     "metadata": {},
     "output_type": "execute_result"
    }
   ],
   "source": [
    "#3 python program to create tuple with different data types\n",
    "s=int(input(\"enter the number of elements:\"))\n",
    "k=[]\n",
    "for i in range(0,s):\n",
    "    ele=eval(input(\"enter the elements:\"))\n",
    "    k.append(ele)\n",
    "tuple(k)"
   ]
  },
  {
   "cell_type": "code",
   "execution_count": 70,
   "id": "21e97b4d",
   "metadata": {},
   "outputs": [
    {
     "name": "stdout",
     "output_type": "stream",
     "text": [
      "enter the number of elements2\n",
      "enter the elements:2\n",
      "enter the elements:3\n",
      "2\n",
      "3\n"
     ]
    }
   ],
   "source": [
    "#4 python program to create tuple with numbers\n",
    "l=int(input(\"enter the number of elements\"))\n",
    "m=[]\n",
    "for i in range(0,l):\n",
    "    ele=int(input(\"enter the elements:\"))\n",
    "    m.append(ele)\n",
    "m=tuple(m)\n",
    "for i in m:\n",
    "    print(i)"
   ]
  },
  {
   "cell_type": "code",
   "execution_count": 78,
   "id": "6f4ef017",
   "metadata": {},
   "outputs": [
    {
     "name": "stdout",
     "output_type": "stream",
     "text": [
      "enter the new element:34\n"
     ]
    },
    {
     "data": {
      "text/plain": [
       "(23, 34, 56, 34)"
      ]
     },
     "execution_count": 78,
     "metadata": {},
     "output_type": "execute_result"
    }
   ],
   "source": [
    "#5 python program to add an item in a tuple\n",
    "t=(23,34,56)\n",
    "l=[]\n",
    "for i in t:\n",
    "    l.append(i)\n",
    "m=eval(input(\"enter the new element:\"))\n",
    "l.append(m)\n",
    "tuple(l)"
   ]
  },
  {
   "cell_type": "code",
   "execution_count": 98,
   "id": "e076bc42",
   "metadata": {},
   "outputs": [
    {
     "name": "stdout",
     "output_type": "stream",
     "text": [
      "787\n",
      "78\n"
     ]
    }
   ],
   "source": [
    "#6 Write a Python program to get the 4th element and 4th element from the last\n",
    "#of a tuple?\n",
    "s=(12,34,56,787,78,65,43,21)\n",
    "for i in range(len(s)):\n",
    "    if i==3:\n",
    "        print(s[i])\n",
    "\n",
    "for i in range(-len(s),1):\n",
    "    if i == -4:\n",
    "        print(s[i])"
   ]
  },
  {
   "cell_type": "code",
   "execution_count": 99,
   "id": "6161ddb5",
   "metadata": {},
   "outputs": [],
   "source": [
    "#7 Check Whether an element exist in tuple"
   ]
  },
  {
   "cell_type": "code",
   "execution_count": 100,
   "id": "9474c1ce",
   "metadata": {},
   "outputs": [
    {
     "name": "stdout",
     "output_type": "stream",
     "text": [
      "enter the element you want to find45\n",
      "it exists\n"
     ]
    }
   ],
   "source": [
    "t=(34,45,67,67,78,78)\n",
    "ele=eval(input(\"enter the element you want to find\"))\n",
    "if ele in t:\n",
    "    print(\"it exists\")\n",
    "else:\n",
    "    print(\"it doesnt exist\")"
   ]
  },
  {
   "cell_type": "code",
   "execution_count": 3,
   "id": "658e8271",
   "metadata": {},
   "outputs": [
    {
     "name": "stdout",
     "output_type": "stream",
     "text": [
      "enter the item you want to remove:34\n"
     ]
    },
    {
     "data": {
      "text/plain": [
       "(45, 67, 67, 78, 78)"
      ]
     },
     "execution_count": 3,
     "metadata": {},
     "output_type": "execute_result"
    }
   ],
   "source": [
    "#8 remove an item from tuple\n",
    "t=(34,45,67,67,78,78)\n",
    "l=[]\n",
    "n=eval(input(\"enter the item you want to remove:\"))\n",
    "for i in t:\n",
    "    l.append(i)\n",
    "l.remove(n)\n",
    "tuple(l)\n"
   ]
  },
  {
   "cell_type": "code",
   "execution_count": 6,
   "id": "db6612b9",
   "metadata": {},
   "outputs": [
    {
     "data": {
      "text/plain": [
       "(67, 67, 78)"
      ]
     },
     "execution_count": 6,
     "metadata": {},
     "output_type": "execute_result"
    }
   ],
   "source": [
    "#9 slice a tuple\n",
    "t[2:5]"
   ]
  },
  {
   "cell_type": "code",
   "execution_count": 121,
   "id": "6a64aac4",
   "metadata": {},
   "outputs": [
    {
     "name": "stdout",
     "output_type": "stream",
     "text": [
      "6\n"
     ]
    }
   ],
   "source": [
    "#10 length of tuple\n",
    "count=0\n",
    "for i in t:\n",
    "    count=count+1\n",
    "print(count)\n",
    "    "
   ]
  },
  {
   "cell_type": "code",
   "execution_count": 127,
   "id": "98a6d18c",
   "metadata": {},
   "outputs": [
    {
     "name": "stdout",
     "output_type": "stream",
     "text": [
      "enter the number of elements:3\n",
      "element insertion:100\n",
      "element insertion:200\n",
      "element insertion:300\n",
      "(100, 200, 300)\n"
     ]
    }
   ],
   "source": [
    "#11 \n",
    "n=eval(input(\"enter the number of elements:\"))\n",
    "l=[]\n",
    "for i in range(n):\n",
    "    ele = eval(input(\"element insertion:\"))\n",
    "    l.append(ele)\n",
    "print(tuple(l))"
   ]
  },
  {
   "cell_type": "code",
   "execution_count": null,
   "id": "dfbaac43",
   "metadata": {},
   "outputs": [],
   "source": []
  }
 ],
 "metadata": {
  "kernelspec": {
   "display_name": "Python 3 (ipykernel)",
   "language": "python",
   "name": "python3"
  },
  "language_info": {
   "codemirror_mode": {
    "name": "ipython",
    "version": 3
   },
   "file_extension": ".py",
   "mimetype": "text/x-python",
   "name": "python",
   "nbconvert_exporter": "python",
   "pygments_lexer": "ipython3",
   "version": "3.9.12"
  }
 },
 "nbformat": 4,
 "nbformat_minor": 5
}
