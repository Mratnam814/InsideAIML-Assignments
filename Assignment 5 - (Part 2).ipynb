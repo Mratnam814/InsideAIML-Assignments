{
 "cells": [
  {
   "cell_type": "code",
   "execution_count": 3,
   "id": "d9e0fdb3",
   "metadata": {},
   "outputs": [],
   "source": [
    "import numpy as np\n",
    "import pandas as pd \n",
    "import cufflinks as cf\n",
    "import seaborn as sns\n",
    "import matplotlib.pyplot as plt"
   ]
  },
  {
   "cell_type": "code",
   "execution_count": 4,
   "id": "3f4ca582",
   "metadata": {},
   "outputs": [
    {
     "name": "stdout",
     "output_type": "stream",
     "text": [
      "Requirement already satisfied: cufflinks in c:\\users\\mani ratnam\\anaconda3\\lib\\site-packages (0.17.3)\n",
      "Requirement already satisfied: setuptools>=34.4.1 in c:\\users\\mani ratnam\\anaconda3\\lib\\site-packages (from cufflinks) (61.2.0)\n",
      "Requirement already satisfied: colorlover>=0.2.1 in c:\\users\\mani ratnam\\anaconda3\\lib\\site-packages (from cufflinks) (0.3.0)\n",
      "Requirement already satisfied: six>=1.9.0 in c:\\users\\mani ratnam\\anaconda3\\lib\\site-packages (from cufflinks) (1.16.0)\n",
      "Requirement already satisfied: pandas>=0.19.2 in c:\\users\\mani ratnam\\anaconda3\\lib\\site-packages (from cufflinks) (1.4.2)\n",
      "Requirement already satisfied: ipywidgets>=7.0.0 in c:\\users\\mani ratnam\\anaconda3\\lib\\site-packages (from cufflinks) (7.6.5)\n",
      "Requirement already satisfied: plotly>=4.1.1 in c:\\users\\mani ratnam\\anaconda3\\lib\\site-packages (from cufflinks) (5.6.0)\n",
      "Requirement already satisfied: ipython>=5.3.0 in c:\\users\\mani ratnam\\anaconda3\\lib\\site-packages (from cufflinks) (8.2.0)\n",
      "Requirement already satisfied: numpy>=1.9.2 in c:\\users\\mani ratnam\\anaconda3\\lib\\site-packages (from cufflinks) (1.21.5)\n",
      "Requirement already satisfied: decorator in c:\\users\\mani ratnam\\anaconda3\\lib\\site-packages (from ipython>=5.3.0->cufflinks) (5.1.1)\n",
      "Requirement already satisfied: backcall in c:\\users\\mani ratnam\\anaconda3\\lib\\site-packages (from ipython>=5.3.0->cufflinks) (0.2.0)\n",
      "Requirement already satisfied: matplotlib-inline in c:\\users\\mani ratnam\\anaconda3\\lib\\site-packages (from ipython>=5.3.0->cufflinks) (0.1.2)\n",
      "Requirement already satisfied: colorama in c:\\users\\mani ratnam\\anaconda3\\lib\\site-packages (from ipython>=5.3.0->cufflinks) (0.4.4)\n",
      "Requirement already satisfied: jedi>=0.16 in c:\\users\\mani ratnam\\anaconda3\\lib\\site-packages (from ipython>=5.3.0->cufflinks) (0.18.1)\n",
      "Requirement already satisfied: traitlets>=5 in c:\\users\\mani ratnam\\anaconda3\\lib\\site-packages (from ipython>=5.3.0->cufflinks) (5.1.1)\n",
      "Requirement already satisfied: stack-data in c:\\users\\mani ratnam\\anaconda3\\lib\\site-packages (from ipython>=5.3.0->cufflinks) (0.2.0)\n",
      "Requirement already satisfied: pygments>=2.4.0 in c:\\users\\mani ratnam\\anaconda3\\lib\\site-packages (from ipython>=5.3.0->cufflinks) (2.11.2)\n",
      "Requirement already satisfied: pickleshare in c:\\users\\mani ratnam\\anaconda3\\lib\\site-packages (from ipython>=5.3.0->cufflinks) (0.7.5)\n",
      "Requirement already satisfied: prompt-toolkit!=3.0.0,!=3.0.1,<3.1.0,>=2.0.0 in c:\\users\\mani ratnam\\anaconda3\\lib\\site-packages (from ipython>=5.3.0->cufflinks) (3.0.20)\n",
      "Requirement already satisfied: nbformat>=4.2.0 in c:\\users\\mani ratnam\\anaconda3\\lib\\site-packages (from ipywidgets>=7.0.0->cufflinks) (5.3.0)\n",
      "Requirement already satisfied: ipykernel>=4.5.1 in c:\\users\\mani ratnam\\anaconda3\\lib\\site-packages (from ipywidgets>=7.0.0->cufflinks) (6.9.1)\n",
      "Requirement already satisfied: widgetsnbextension~=3.5.0 in c:\\users\\mani ratnam\\anaconda3\\lib\\site-packages (from ipywidgets>=7.0.0->cufflinks) (3.5.2)\n",
      "Requirement already satisfied: ipython-genutils~=0.2.0 in c:\\users\\mani ratnam\\anaconda3\\lib\\site-packages (from ipywidgets>=7.0.0->cufflinks) (0.2.0)\n",
      "Requirement already satisfied: jupyterlab-widgets>=1.0.0 in c:\\users\\mani ratnam\\anaconda3\\lib\\site-packages (from ipywidgets>=7.0.0->cufflinks) (1.0.0)\n",
      "Requirement already satisfied: tornado<7.0,>=4.2 in c:\\users\\mani ratnam\\anaconda3\\lib\\site-packages (from ipykernel>=4.5.1->ipywidgets>=7.0.0->cufflinks) (6.1)\n",
      "Requirement already satisfied: jupyter-client<8.0 in c:\\users\\mani ratnam\\anaconda3\\lib\\site-packages (from ipykernel>=4.5.1->ipywidgets>=7.0.0->cufflinks) (6.1.12)\n",
      "Requirement already satisfied: nest-asyncio in c:\\users\\mani ratnam\\anaconda3\\lib\\site-packages (from ipykernel>=4.5.1->ipywidgets>=7.0.0->cufflinks) (1.5.5)\n",
      "Requirement already satisfied: debugpy<2.0,>=1.0.0 in c:\\users\\mani ratnam\\anaconda3\\lib\\site-packages (from ipykernel>=4.5.1->ipywidgets>=7.0.0->cufflinks) (1.5.1)\n",
      "Requirement already satisfied: parso<0.9.0,>=0.8.0 in c:\\users\\mani ratnam\\anaconda3\\lib\\site-packages (from jedi>=0.16->ipython>=5.3.0->cufflinks) (0.8.3)\n",
      "Requirement already satisfied: jupyter-core>=4.6.0 in c:\\users\\mani ratnam\\anaconda3\\lib\\site-packages (from jupyter-client<8.0->ipykernel>=4.5.1->ipywidgets>=7.0.0->cufflinks) (4.9.2)\n",
      "Requirement already satisfied: pyzmq>=13 in c:\\users\\mani ratnam\\anaconda3\\lib\\site-packages (from jupyter-client<8.0->ipykernel>=4.5.1->ipywidgets>=7.0.0->cufflinks) (22.3.0)\n",
      "Requirement already satisfied: python-dateutil>=2.1 in c:\\users\\mani ratnam\\anaconda3\\lib\\site-packages (from jupyter-client<8.0->ipykernel>=4.5.1->ipywidgets>=7.0.0->cufflinks) (2.8.2)\n",
      "Requirement already satisfied: pywin32>=1.0 in c:\\users\\mani ratnam\\anaconda3\\lib\\site-packages (from jupyter-core>=4.6.0->jupyter-client<8.0->ipykernel>=4.5.1->ipywidgets>=7.0.0->cufflinks) (302)\n",
      "Requirement already satisfied: fastjsonschema in c:\\users\\mani ratnam\\anaconda3\\lib\\site-packages (from nbformat>=4.2.0->ipywidgets>=7.0.0->cufflinks) (2.15.1)\n",
      "Requirement already satisfied: jsonschema>=2.6 in c:\\users\\mani ratnam\\anaconda3\\lib\\site-packages (from nbformat>=4.2.0->ipywidgets>=7.0.0->cufflinks) (4.4.0)\n",
      "Requirement already satisfied: attrs>=17.4.0 in c:\\users\\mani ratnam\\anaconda3\\lib\\site-packages (from jsonschema>=2.6->nbformat>=4.2.0->ipywidgets>=7.0.0->cufflinks) (21.4.0)\n",
      "Requirement already satisfied: pyrsistent!=0.17.0,!=0.17.1,!=0.17.2,>=0.14.0 in c:\\users\\mani ratnam\\anaconda3\\lib\\site-packages (from jsonschema>=2.6->nbformat>=4.2.0->ipywidgets>=7.0.0->cufflinks) (0.18.0)\n",
      "Requirement already satisfied: pytz>=2020.1 in c:\\users\\mani ratnam\\anaconda3\\lib\\site-packages (from pandas>=0.19.2->cufflinks) (2021.3)\n",
      "Requirement already satisfied: tenacity>=6.2.0 in c:\\users\\mani ratnam\\anaconda3\\lib\\site-packages (from plotly>=4.1.1->cufflinks) (8.0.1)\n",
      "Requirement already satisfied: wcwidth in c:\\users\\mani ratnam\\anaconda3\\lib\\site-packages (from prompt-toolkit!=3.0.0,!=3.0.1,<3.1.0,>=2.0.0->ipython>=5.3.0->cufflinks) (0.2.5)\n",
      "Requirement already satisfied: notebook>=4.4.1 in c:\\users\\mani ratnam\\anaconda3\\lib\\site-packages (from widgetsnbextension~=3.5.0->ipywidgets>=7.0.0->cufflinks) (6.4.8)\n",
      "Requirement already satisfied: nbconvert in c:\\users\\mani ratnam\\anaconda3\\lib\\site-packages (from notebook>=4.4.1->widgetsnbextension~=3.5.0->ipywidgets>=7.0.0->cufflinks) (6.4.4)\n",
      "Requirement already satisfied: Send2Trash>=1.8.0 in c:\\users\\mani ratnam\\anaconda3\\lib\\site-packages (from notebook>=4.4.1->widgetsnbextension~=3.5.0->ipywidgets>=7.0.0->cufflinks) (1.8.0)\n",
      "Requirement already satisfied: terminado>=0.8.3 in c:\\users\\mani ratnam\\anaconda3\\lib\\site-packages (from notebook>=4.4.1->widgetsnbextension~=3.5.0->ipywidgets>=7.0.0->cufflinks) (0.13.1)\n",
      "Requirement already satisfied: jinja2 in c:\\users\\mani ratnam\\anaconda3\\lib\\site-packages (from notebook>=4.4.1->widgetsnbextension~=3.5.0->ipywidgets>=7.0.0->cufflinks) (2.11.3)\n",
      "Requirement already satisfied: argon2-cffi in c:\\users\\mani ratnam\\anaconda3\\lib\\site-packages (from notebook>=4.4.1->widgetsnbextension~=3.5.0->ipywidgets>=7.0.0->cufflinks) (21.3.0)\n",
      "Requirement already satisfied: prometheus-client in c:\\users\\mani ratnam\\anaconda3\\lib\\site-packages (from notebook>=4.4.1->widgetsnbextension~=3.5.0->ipywidgets>=7.0.0->cufflinks) (0.13.1)\n",
      "Requirement already satisfied: pywinpty>=1.1.0 in c:\\users\\mani ratnam\\anaconda3\\lib\\site-packages (from terminado>=0.8.3->notebook>=4.4.1->widgetsnbextension~=3.5.0->ipywidgets>=7.0.0->cufflinks) (2.0.2)\n",
      "Requirement already satisfied: argon2-cffi-bindings in c:\\users\\mani ratnam\\anaconda3\\lib\\site-packages (from argon2-cffi->notebook>=4.4.1->widgetsnbextension~=3.5.0->ipywidgets>=7.0.0->cufflinks) (21.2.0)\n",
      "Requirement already satisfied: cffi>=1.0.1 in c:\\users\\mani ratnam\\anaconda3\\lib\\site-packages (from argon2-cffi-bindings->argon2-cffi->notebook>=4.4.1->widgetsnbextension~=3.5.0->ipywidgets>=7.0.0->cufflinks) (1.15.0)\n",
      "Requirement already satisfied: pycparser in c:\\users\\mani ratnam\\anaconda3\\lib\\site-packages (from cffi>=1.0.1->argon2-cffi-bindings->argon2-cffi->notebook>=4.4.1->widgetsnbextension~=3.5.0->ipywidgets>=7.0.0->cufflinks) (2.21)\n",
      "Requirement already satisfied: MarkupSafe>=0.23 in c:\\users\\mani ratnam\\anaconda3\\lib\\site-packages (from jinja2->notebook>=4.4.1->widgetsnbextension~=3.5.0->ipywidgets>=7.0.0->cufflinks) (2.0.1)\n",
      "Requirement already satisfied: entrypoints>=0.2.2 in c:\\users\\mani ratnam\\anaconda3\\lib\\site-packages (from nbconvert->notebook>=4.4.1->widgetsnbextension~=3.5.0->ipywidgets>=7.0.0->cufflinks) (0.4)\n",
      "Requirement already satisfied: defusedxml in c:\\users\\mani ratnam\\anaconda3\\lib\\site-packages (from nbconvert->notebook>=4.4.1->widgetsnbextension~=3.5.0->ipywidgets>=7.0.0->cufflinks) (0.7.1)\n",
      "Requirement already satisfied: testpath in c:\\users\\mani ratnam\\anaconda3\\lib\\site-packages (from nbconvert->notebook>=4.4.1->widgetsnbextension~=3.5.0->ipywidgets>=7.0.0->cufflinks) (0.5.0)\n",
      "Requirement already satisfied: jupyterlab-pygments in c:\\users\\mani ratnam\\anaconda3\\lib\\site-packages (from nbconvert->notebook>=4.4.1->widgetsnbextension~=3.5.0->ipywidgets>=7.0.0->cufflinks) (0.1.2)\n",
      "Requirement already satisfied: mistune<2,>=0.8.1 in c:\\users\\mani ratnam\\anaconda3\\lib\\site-packages (from nbconvert->notebook>=4.4.1->widgetsnbextension~=3.5.0->ipywidgets>=7.0.0->cufflinks) (0.8.4)\n",
      "Requirement already satisfied: beautifulsoup4 in c:\\users\\mani ratnam\\anaconda3\\lib\\site-packages (from nbconvert->notebook>=4.4.1->widgetsnbextension~=3.5.0->ipywidgets>=7.0.0->cufflinks) (4.11.1)\n",
      "Requirement already satisfied: pandocfilters>=1.4.1 in c:\\users\\mani ratnam\\anaconda3\\lib\\site-packages (from nbconvert->notebook>=4.4.1->widgetsnbextension~=3.5.0->ipywidgets>=7.0.0->cufflinks) (1.5.0)\n",
      "Requirement already satisfied: bleach in c:\\users\\mani ratnam\\anaconda3\\lib\\site-packages (from nbconvert->notebook>=4.4.1->widgetsnbextension~=3.5.0->ipywidgets>=7.0.0->cufflinks) (4.1.0)\n",
      "Requirement already satisfied: nbclient<0.6.0,>=0.5.0 in c:\\users\\mani ratnam\\anaconda3\\lib\\site-packages (from nbconvert->notebook>=4.4.1->widgetsnbextension~=3.5.0->ipywidgets>=7.0.0->cufflinks) (0.5.13)\n",
      "Requirement already satisfied: soupsieve>1.2 in c:\\users\\mani ratnam\\anaconda3\\lib\\site-packages (from beautifulsoup4->nbconvert->notebook>=4.4.1->widgetsnbextension~=3.5.0->ipywidgets>=7.0.0->cufflinks) (2.3.1)\n",
      "Requirement already satisfied: webencodings in c:\\users\\mani ratnam\\anaconda3\\lib\\site-packages (from bleach->nbconvert->notebook>=4.4.1->widgetsnbextension~=3.5.0->ipywidgets>=7.0.0->cufflinks) (0.5.1)\n",
      "Requirement already satisfied: packaging in c:\\users\\mani ratnam\\anaconda3\\lib\\site-packages (from bleach->nbconvert->notebook>=4.4.1->widgetsnbextension~=3.5.0->ipywidgets>=7.0.0->cufflinks) (21.3)\n",
      "Requirement already satisfied: pyparsing!=3.0.5,>=2.0.2 in c:\\users\\mani ratnam\\anaconda3\\lib\\site-packages (from packaging->bleach->nbconvert->notebook>=4.4.1->widgetsnbextension~=3.5.0->ipywidgets>=7.0.0->cufflinks) (3.0.4)\n",
      "Requirement already satisfied: asttokens in c:\\users\\mani ratnam\\anaconda3\\lib\\site-packages (from stack-data->ipython>=5.3.0->cufflinks) (2.0.5)\n",
      "Requirement already satisfied: pure-eval in c:\\users\\mani ratnam\\anaconda3\\lib\\site-packages (from stack-data->ipython>=5.3.0->cufflinks) (0.2.2)\n",
      "Requirement already satisfied: executing in c:\\users\\mani ratnam\\anaconda3\\lib\\site-packages (from stack-data->ipython>=5.3.0->cufflinks) (0.8.3)\n"
     ]
    }
   ],
   "source": [
    "!pip install cufflinks\n",
    "\n",
    "    \n"
   ]
  },
  {
   "cell_type": "code",
   "execution_count": 5,
   "id": "4e998157",
   "metadata": {},
   "outputs": [
    {
     "data": {
      "text/html": [
       "        <script type=\"text/javascript\">\n",
       "        window.PlotlyConfig = {MathJaxConfig: 'local'};\n",
       "        if (window.MathJax) {MathJax.Hub.Config({SVG: {font: \"STIX-Web\"}});}\n",
       "        if (typeof require !== 'undefined') {\n",
       "        require.undef(\"plotly\");\n",
       "        requirejs.config({\n",
       "            paths: {\n",
       "                'plotly': ['https://cdn.plot.ly/plotly-2.9.0.min']\n",
       "            }\n",
       "        });\n",
       "        require(['plotly'], function(Plotly) {\n",
       "            window._Plotly = Plotly;\n",
       "        });\n",
       "        }\n",
       "        </script>\n",
       "        "
      ]
     },
     "metadata": {},
     "output_type": "display_data"
    }
   ],
   "source": [
    "cf.go_offline()"
   ]
  },
  {
   "cell_type": "code",
   "execution_count": 6,
   "id": "1be41a67",
   "metadata": {},
   "outputs": [
    {
     "data": {
      "text/html": [
       "<div>\n",
       "<style scoped>\n",
       "    .dataframe tbody tr th:only-of-type {\n",
       "        vertical-align: middle;\n",
       "    }\n",
       "\n",
       "    .dataframe tbody tr th {\n",
       "        vertical-align: top;\n",
       "    }\n",
       "\n",
       "    .dataframe thead th {\n",
       "        text-align: right;\n",
       "    }\n",
       "</style>\n",
       "<table border=\"1\" class=\"dataframe\">\n",
       "  <thead>\n",
       "    <tr style=\"text-align: right;\">\n",
       "      <th></th>\n",
       "      <th>name</th>\n",
       "      <th>datetime</th>\n",
       "      <th>tempmax</th>\n",
       "      <th>tempmin</th>\n",
       "      <th>temp</th>\n",
       "      <th>feelslikemax</th>\n",
       "      <th>feelslikemin</th>\n",
       "      <th>feelslike</th>\n",
       "      <th>dew</th>\n",
       "      <th>humidity</th>\n",
       "      <th>...</th>\n",
       "      <th>solarenergy</th>\n",
       "      <th>uvindex</th>\n",
       "      <th>severerisk</th>\n",
       "      <th>sunrise</th>\n",
       "      <th>sunset</th>\n",
       "      <th>moonphase</th>\n",
       "      <th>conditions</th>\n",
       "      <th>description</th>\n",
       "      <th>icon</th>\n",
       "      <th>stations</th>\n",
       "    </tr>\n",
       "  </thead>\n",
       "  <tbody>\n",
       "    <tr>\n",
       "      <th>0</th>\n",
       "      <td>Delhi,India</td>\n",
       "      <td>2022-01-01</td>\n",
       "      <td>67.0</td>\n",
       "      <td>43.3</td>\n",
       "      <td>53.5</td>\n",
       "      <td>67.0</td>\n",
       "      <td>42.8</td>\n",
       "      <td>53.3</td>\n",
       "      <td>47.0</td>\n",
       "      <td>80.7</td>\n",
       "      <td>...</td>\n",
       "      <td>13.5</td>\n",
       "      <td>6</td>\n",
       "      <td>NaN</td>\n",
       "      <td>2022-01-01T07:14:02</td>\n",
       "      <td>2022-01-01T17:35:18</td>\n",
       "      <td>0.95</td>\n",
       "      <td>Clear</td>\n",
       "      <td>Clear conditions throughout the day.</td>\n",
       "      <td>fog</td>\n",
       "      <td>42182099999,42176099999,VIDP,42139099999,42181...</td>\n",
       "    </tr>\n",
       "    <tr>\n",
       "      <th>1</th>\n",
       "      <td>Delhi,India</td>\n",
       "      <td>2022-01-02</td>\n",
       "      <td>67.5</td>\n",
       "      <td>45.5</td>\n",
       "      <td>55.0</td>\n",
       "      <td>67.5</td>\n",
       "      <td>44.4</td>\n",
       "      <td>54.9</td>\n",
       "      <td>47.7</td>\n",
       "      <td>79.1</td>\n",
       "      <td>...</td>\n",
       "      <td>11.8</td>\n",
       "      <td>5</td>\n",
       "      <td>NaN</td>\n",
       "      <td>2022-01-02T07:14:16</td>\n",
       "      <td>2022-01-02T17:36:00</td>\n",
       "      <td>0.98</td>\n",
       "      <td>Clear</td>\n",
       "      <td>Clear conditions throughout the day.</td>\n",
       "      <td>fog</td>\n",
       "      <td>42182099999,42176099999,VIDP,42139099999,42181...</td>\n",
       "    </tr>\n",
       "    <tr>\n",
       "      <th>2</th>\n",
       "      <td>Delhi,India</td>\n",
       "      <td>2022-01-03</td>\n",
       "      <td>69.0</td>\n",
       "      <td>45.5</td>\n",
       "      <td>56.8</td>\n",
       "      <td>69.0</td>\n",
       "      <td>45.5</td>\n",
       "      <td>56.8</td>\n",
       "      <td>48.2</td>\n",
       "      <td>76.1</td>\n",
       "      <td>...</td>\n",
       "      <td>12.0</td>\n",
       "      <td>6</td>\n",
       "      <td>NaN</td>\n",
       "      <td>2022-01-03T07:14:30</td>\n",
       "      <td>2022-01-03T17:36:43</td>\n",
       "      <td>0.00</td>\n",
       "      <td>Partially cloudy</td>\n",
       "      <td>Partly cloudy throughout the day.</td>\n",
       "      <td>fog</td>\n",
       "      <td>42182099999,42176099999,VIDP,42139099999,42181...</td>\n",
       "    </tr>\n",
       "    <tr>\n",
       "      <th>3</th>\n",
       "      <td>Delhi,India</td>\n",
       "      <td>2022-01-04</td>\n",
       "      <td>72.5</td>\n",
       "      <td>49.6</td>\n",
       "      <td>60.5</td>\n",
       "      <td>72.5</td>\n",
       "      <td>49.6</td>\n",
       "      <td>60.5</td>\n",
       "      <td>48.6</td>\n",
       "      <td>71.1</td>\n",
       "      <td>...</td>\n",
       "      <td>13.1</td>\n",
       "      <td>6</td>\n",
       "      <td>NaN</td>\n",
       "      <td>2022-01-04T07:14:42</td>\n",
       "      <td>2022-01-04T17:37:27</td>\n",
       "      <td>0.05</td>\n",
       "      <td>Partially cloudy</td>\n",
       "      <td>Partly cloudy throughout the day.</td>\n",
       "      <td>partly-cloudy-day</td>\n",
       "      <td>42182099999,42176099999,VIDP,42139099999,42181...</td>\n",
       "    </tr>\n",
       "    <tr>\n",
       "      <th>4</th>\n",
       "      <td>Delhi,India</td>\n",
       "      <td>2022-01-05</td>\n",
       "      <td>59.0</td>\n",
       "      <td>54.0</td>\n",
       "      <td>56.7</td>\n",
       "      <td>59.0</td>\n",
       "      <td>54.0</td>\n",
       "      <td>56.7</td>\n",
       "      <td>54.2</td>\n",
       "      <td>91.8</td>\n",
       "      <td>...</td>\n",
       "      <td>4.4</td>\n",
       "      <td>3</td>\n",
       "      <td>NaN</td>\n",
       "      <td>2022-01-05T07:14:52</td>\n",
       "      <td>2022-01-05T17:38:11</td>\n",
       "      <td>0.08</td>\n",
       "      <td>Rain, Overcast</td>\n",
       "      <td>Cloudy skies throughout the day with rain.</td>\n",
       "      <td>rain</td>\n",
       "      <td>42182099999,42176099999,VIDP,42139099999,42181...</td>\n",
       "    </tr>\n",
       "    <tr>\n",
       "      <th>...</th>\n",
       "      <td>...</td>\n",
       "      <td>...</td>\n",
       "      <td>...</td>\n",
       "      <td>...</td>\n",
       "      <td>...</td>\n",
       "      <td>...</td>\n",
       "      <td>...</td>\n",
       "      <td>...</td>\n",
       "      <td>...</td>\n",
       "      <td>...</td>\n",
       "      <td>...</td>\n",
       "      <td>...</td>\n",
       "      <td>...</td>\n",
       "      <td>...</td>\n",
       "      <td>...</td>\n",
       "      <td>...</td>\n",
       "      <td>...</td>\n",
       "      <td>...</td>\n",
       "      <td>...</td>\n",
       "      <td>...</td>\n",
       "      <td>...</td>\n",
       "    </tr>\n",
       "    <tr>\n",
       "      <th>563</th>\n",
       "      <td>Delhi,India</td>\n",
       "      <td>2023-07-18</td>\n",
       "      <td>89.6</td>\n",
       "      <td>82.4</td>\n",
       "      <td>84.9</td>\n",
       "      <td>111.8</td>\n",
       "      <td>94.1</td>\n",
       "      <td>101.9</td>\n",
       "      <td>82.3</td>\n",
       "      <td>92.2</td>\n",
       "      <td>...</td>\n",
       "      <td>20.1</td>\n",
       "      <td>7</td>\n",
       "      <td>30.0</td>\n",
       "      <td>2023-07-18T05:34:35</td>\n",
       "      <td>2023-07-18T19:19:58</td>\n",
       "      <td>0.00</td>\n",
       "      <td>Rain, Overcast</td>\n",
       "      <td>Cloudy skies throughout the day with rain in t...</td>\n",
       "      <td>rain</td>\n",
       "      <td>42182099999,42176099999,VIDP,42139099999,42181...</td>\n",
       "    </tr>\n",
       "    <tr>\n",
       "      <th>564</th>\n",
       "      <td>Delhi,India</td>\n",
       "      <td>2023-07-19</td>\n",
       "      <td>95.0</td>\n",
       "      <td>82.4</td>\n",
       "      <td>87.6</td>\n",
       "      <td>115.9</td>\n",
       "      <td>94.1</td>\n",
       "      <td>104.7</td>\n",
       "      <td>81.2</td>\n",
       "      <td>82.6</td>\n",
       "      <td>...</td>\n",
       "      <td>22.1</td>\n",
       "      <td>9</td>\n",
       "      <td>30.0</td>\n",
       "      <td>2023-07-19T05:35:07</td>\n",
       "      <td>2023-07-19T19:19:35</td>\n",
       "      <td>0.05</td>\n",
       "      <td>Partially cloudy</td>\n",
       "      <td>Partly cloudy throughout the day.</td>\n",
       "      <td>partly-cloudy-day</td>\n",
       "      <td>42182099999,42176099999,VIDP,42139099999,42181...</td>\n",
       "    </tr>\n",
       "    <tr>\n",
       "      <th>565</th>\n",
       "      <td>Delhi,India</td>\n",
       "      <td>2023-07-20</td>\n",
       "      <td>98.3</td>\n",
       "      <td>84.2</td>\n",
       "      <td>91.0</td>\n",
       "      <td>119.6</td>\n",
       "      <td>100.7</td>\n",
       "      <td>107.9</td>\n",
       "      <td>79.6</td>\n",
       "      <td>70.8</td>\n",
       "      <td>...</td>\n",
       "      <td>25.5</td>\n",
       "      <td>9</td>\n",
       "      <td>30.0</td>\n",
       "      <td>2023-07-20T05:35:39</td>\n",
       "      <td>2023-07-20T19:19:10</td>\n",
       "      <td>0.08</td>\n",
       "      <td>Partially cloudy</td>\n",
       "      <td>Partly cloudy throughout the day.</td>\n",
       "      <td>partly-cloudy-day</td>\n",
       "      <td>42182099999,42176099999,VIDP,42139099999,42181...</td>\n",
       "    </tr>\n",
       "    <tr>\n",
       "      <th>566</th>\n",
       "      <td>Delhi,India</td>\n",
       "      <td>2023-07-21</td>\n",
       "      <td>96.7</td>\n",
       "      <td>85.9</td>\n",
       "      <td>91.4</td>\n",
       "      <td>118.3</td>\n",
       "      <td>104.4</td>\n",
       "      <td>110.9</td>\n",
       "      <td>80.8</td>\n",
       "      <td>72.3</td>\n",
       "      <td>...</td>\n",
       "      <td>25.1</td>\n",
       "      <td>9</td>\n",
       "      <td>30.0</td>\n",
       "      <td>2023-07-21T05:36:11</td>\n",
       "      <td>2023-07-21T19:18:44</td>\n",
       "      <td>0.12</td>\n",
       "      <td>Partially cloudy</td>\n",
       "      <td>Partly cloudy throughout the day.</td>\n",
       "      <td>partly-cloudy-day</td>\n",
       "      <td>42182099999,VIDP,42181099999</td>\n",
       "    </tr>\n",
       "    <tr>\n",
       "      <th>567</th>\n",
       "      <td>Delhi,India</td>\n",
       "      <td>2023-07-22</td>\n",
       "      <td>94.9</td>\n",
       "      <td>84.1</td>\n",
       "      <td>89.4</td>\n",
       "      <td>116.8</td>\n",
       "      <td>100.4</td>\n",
       "      <td>108.7</td>\n",
       "      <td>81.4</td>\n",
       "      <td>78.3</td>\n",
       "      <td>...</td>\n",
       "      <td>23.5</td>\n",
       "      <td>9</td>\n",
       "      <td>30.0</td>\n",
       "      <td>2023-07-22T05:36:44</td>\n",
       "      <td>2023-07-22T19:18:16</td>\n",
       "      <td>0.15</td>\n",
       "      <td>Partially cloudy</td>\n",
       "      <td>Partly cloudy throughout the day.</td>\n",
       "      <td>partly-cloudy-day</td>\n",
       "      <td>VIDP</td>\n",
       "    </tr>\n",
       "  </tbody>\n",
       "</table>\n",
       "<p>568 rows × 33 columns</p>\n",
       "</div>"
      ],
      "text/plain": [
       "            name    datetime  tempmax  tempmin  temp  feelslikemax  \\\n",
       "0    Delhi,India  2022-01-01     67.0     43.3  53.5          67.0   \n",
       "1    Delhi,India  2022-01-02     67.5     45.5  55.0          67.5   \n",
       "2    Delhi,India  2022-01-03     69.0     45.5  56.8          69.0   \n",
       "3    Delhi,India  2022-01-04     72.5     49.6  60.5          72.5   \n",
       "4    Delhi,India  2022-01-05     59.0     54.0  56.7          59.0   \n",
       "..           ...         ...      ...      ...   ...           ...   \n",
       "563  Delhi,India  2023-07-18     89.6     82.4  84.9         111.8   \n",
       "564  Delhi,India  2023-07-19     95.0     82.4  87.6         115.9   \n",
       "565  Delhi,India  2023-07-20     98.3     84.2  91.0         119.6   \n",
       "566  Delhi,India  2023-07-21     96.7     85.9  91.4         118.3   \n",
       "567  Delhi,India  2023-07-22     94.9     84.1  89.4         116.8   \n",
       "\n",
       "     feelslikemin  feelslike   dew  humidity  ...  solarenergy  uvindex  \\\n",
       "0            42.8       53.3  47.0      80.7  ...         13.5        6   \n",
       "1            44.4       54.9  47.7      79.1  ...         11.8        5   \n",
       "2            45.5       56.8  48.2      76.1  ...         12.0        6   \n",
       "3            49.6       60.5  48.6      71.1  ...         13.1        6   \n",
       "4            54.0       56.7  54.2      91.8  ...          4.4        3   \n",
       "..            ...        ...   ...       ...  ...          ...      ...   \n",
       "563          94.1      101.9  82.3      92.2  ...         20.1        7   \n",
       "564          94.1      104.7  81.2      82.6  ...         22.1        9   \n",
       "565         100.7      107.9  79.6      70.8  ...         25.5        9   \n",
       "566         104.4      110.9  80.8      72.3  ...         25.1        9   \n",
       "567         100.4      108.7  81.4      78.3  ...         23.5        9   \n",
       "\n",
       "     severerisk              sunrise               sunset  moonphase  \\\n",
       "0           NaN  2022-01-01T07:14:02  2022-01-01T17:35:18       0.95   \n",
       "1           NaN  2022-01-02T07:14:16  2022-01-02T17:36:00       0.98   \n",
       "2           NaN  2022-01-03T07:14:30  2022-01-03T17:36:43       0.00   \n",
       "3           NaN  2022-01-04T07:14:42  2022-01-04T17:37:27       0.05   \n",
       "4           NaN  2022-01-05T07:14:52  2022-01-05T17:38:11       0.08   \n",
       "..          ...                  ...                  ...        ...   \n",
       "563        30.0  2023-07-18T05:34:35  2023-07-18T19:19:58       0.00   \n",
       "564        30.0  2023-07-19T05:35:07  2023-07-19T19:19:35       0.05   \n",
       "565        30.0  2023-07-20T05:35:39  2023-07-20T19:19:10       0.08   \n",
       "566        30.0  2023-07-21T05:36:11  2023-07-21T19:18:44       0.12   \n",
       "567        30.0  2023-07-22T05:36:44  2023-07-22T19:18:16       0.15   \n",
       "\n",
       "           conditions                                        description  \\\n",
       "0               Clear               Clear conditions throughout the day.   \n",
       "1               Clear               Clear conditions throughout the day.   \n",
       "2    Partially cloudy                  Partly cloudy throughout the day.   \n",
       "3    Partially cloudy                  Partly cloudy throughout the day.   \n",
       "4      Rain, Overcast         Cloudy skies throughout the day with rain.   \n",
       "..                ...                                                ...   \n",
       "563    Rain, Overcast  Cloudy skies throughout the day with rain in t...   \n",
       "564  Partially cloudy                  Partly cloudy throughout the day.   \n",
       "565  Partially cloudy                  Partly cloudy throughout the day.   \n",
       "566  Partially cloudy                  Partly cloudy throughout the day.   \n",
       "567  Partially cloudy                  Partly cloudy throughout the day.   \n",
       "\n",
       "                  icon                                           stations  \n",
       "0                  fog  42182099999,42176099999,VIDP,42139099999,42181...  \n",
       "1                  fog  42182099999,42176099999,VIDP,42139099999,42181...  \n",
       "2                  fog  42182099999,42176099999,VIDP,42139099999,42181...  \n",
       "3    partly-cloudy-day  42182099999,42176099999,VIDP,42139099999,42181...  \n",
       "4                 rain  42182099999,42176099999,VIDP,42139099999,42181...  \n",
       "..                 ...                                                ...  \n",
       "563               rain  42182099999,42176099999,VIDP,42139099999,42181...  \n",
       "564  partly-cloudy-day  42182099999,42176099999,VIDP,42139099999,42181...  \n",
       "565  partly-cloudy-day  42182099999,42176099999,VIDP,42139099999,42181...  \n",
       "566  partly-cloudy-day                       42182099999,VIDP,42181099999  \n",
       "567  partly-cloudy-day                                               VIDP  \n",
       "\n",
       "[568 rows x 33 columns]"
      ]
     },
     "execution_count": 6,
     "metadata": {},
     "output_type": "execute_result"
    }
   ],
   "source": [
    "#Data of Delhi last one year plus.\n",
    "df=pd.read_csv(r'C:\\Users\\MANI RATNAM\\Downloads\\Delhi,India 2022-01-01 to 2023-07-22.csv')\n",
    "df\n",
    "\n"
   ]
  },
  {
   "cell_type": "code",
   "execution_count": 10,
   "id": "8174461e",
   "metadata": {},
   "outputs": [
    {
     "name": "stdout",
     "output_type": "stream",
     "text": [
      "Enter the section name:temp\n",
      "Enter the section name:humidity\n",
      "Enter the section name:dew\n"
     ]
    },
    {
     "data": {
      "application/vnd.plotly.v1+json": {
       "config": {
        "linkText": "Export to plot.ly",
        "plotlyServerURL": "https://plot.ly",
        "showLink": true
       },
       "data": [
        {
         "line": {
          "color": "rgba(255, 153, 51, 1.0)",
          "dash": "solid",
          "shape": "linear",
          "width": 1.3
         },
         "mode": "lines",
         "name": "humidity",
         "text": "",
         "type": "scatter",
         "x": [
          53.5,
          55,
          56.8,
          60.5,
          56.7,
          59.4,
          61.1,
          60.6,
          56.8,
          54.4,
          52.4,
          52.8,
          52.4,
          51,
          50.1,
          51.3,
          52.2,
          51.1,
          53.4,
          54.8,
          56.1,
          55.4,
          54.6,
          53.1,
          49.9,
          52.1,
          54,
          54.8,
          56.6,
          58.3,
          58.1,
          56.1,
          57.8,
          55.5,
          55.6,
          54.5,
          57.3,
          63.4,
          65.2,
          61.7,
          60.3,
          59.8,
          60.9,
          63.3,
          64.2,
          65.9,
          64.5,
          65.1,
          66.4,
          65.8,
          64.2,
          64.3,
          66.4,
          66.5,
          67.3,
          68.1,
          65.1,
          65.8,
          64.5,
          65,
          66.9,
          71.3,
          68.7,
          67.2,
          68.6,
          71.8,
          72.5,
          73.7,
          73.2,
          72.9,
          73.6,
          76.2,
          78,
          80.5,
          81.7,
          81.9,
          82.7,
          83.2,
          85.4,
          83.8,
          82.9,
          82.1,
          82.4,
          81.7,
          80.8,
          84.7,
          85.3,
          86.6,
          86.9,
          87.2,
          85.8,
          85.7,
          86.6,
          86.3,
          86.4,
          87.3,
          88.5,
          89.9,
          91.4,
          92.1,
          92.6,
          90.9,
          91,
          90.2,
          90.3,
          89.8,
          90.6,
          92.1,
          93.7,
          93.3,
          88.5,
          88.7,
          89.1,
          90.3,
          93,
          92.3,
          93.1,
          94.2,
          96.4,
          96.1,
          93,
          93.3,
          91.7,
          88.1,
          85.9,
          90.2,
          92.1,
          92.4,
          92.8,
          92.8,
          94.3,
          96.6,
          94.9,
          99,
          98.6,
          99.4,
          94.3,
          96.4,
          97.2,
          98.6,
          94.6,
          90,
          78.4,
          79.3,
          84.3,
          87.1,
          89.9,
          93.9,
          93.1,
          88.5,
          91.2,
          95,
          95.7,
          96.1,
          97.7,
          99.2,
          98.2,
          99.1,
          99.1,
          99.5,
          100,
          99.8,
          99.8,
          99.7,
          95.5,
          96.9,
          93.3,
          84.6,
          84.1,
          82.9,
          84.3,
          86.3,
          87.8,
          91.6,
          91.9,
          93.8,
          95,
          96.2,
          96.5,
          94.8,
          81.9,
          82.7,
          87.8,
          91.5,
          92.3,
          93.1,
          94,
          94.3,
          94.8,
          89.6,
          87.8,
          89.2,
          86.5,
          88.6,
          90.1,
          91.2,
          84.9,
          85.7,
          91.8,
          90.3,
          85.5,
          84.1,
          85,
          85.4,
          86,
          85.9,
          84.9,
          86,
          83.4,
          82.4,
          83.2,
          83.6,
          85.5,
          87.7,
          87.5,
          84.9,
          82.2,
          86.4,
          81.6,
          86.2,
          89.6,
          90.4,
          85.4,
          88.3,
          87.6,
          84.1,
          84.7,
          84.3,
          84.6,
          86.5,
          87.9,
          85.3,
          87.6,
          88.7,
          87.2,
          84.3,
          86.3,
          87.2,
          87.2,
          87,
          86.5,
          86.4,
          88.8,
          89.8,
          89.7,
          90,
          90.2,
          89.4,
          89,
          89.8,
          89.9,
          89.9,
          88.8,
          90,
          89.1,
          86,
          83.4,
          79.5,
          76.6,
          83.2,
          85.2,
          84.8,
          83.9,
          80.8,
          77.7,
          77,
          77.5,
          80.7,
          82.5,
          83.5,
          84.5,
          83.9,
          84,
          84.3,
          85,
          84.2,
          84.4,
          83.7,
          78.8,
          74.9,
          72.4,
          71.6,
          71.7,
          76.7,
          77.6,
          77.6,
          77.8,
          78.3,
          79.2,
          79.7,
          78.7,
          79.7,
          79.2,
          79.1,
          77.4,
          75.1,
          74.4,
          74.7,
          75.3,
          75.8,
          75.2,
          74.9,
          74,
          74.1,
          76.3,
          75.1,
          75.1,
          76,
          75.2,
          76.7,
          77,
          74.6,
          74.1,
          74.2,
          71.3,
          69.8,
          68.9,
          72.6,
          71.6,
          69.1,
          65.7,
          65.5,
          65.6,
          65.7,
          65.5,
          65.5,
          65.3,
          65,
          64.9,
          64.7,
          63.6,
          64,
          63.6,
          63.4,
          63.3,
          64,
          63.9,
          63.5,
          62.1,
          60.8,
          61.2,
          62.8,
          63.8,
          63.7,
          64.4,
          63.6,
          63.8,
          61.9,
          59.1,
          59.2,
          59.4,
          59.1,
          58.4,
          56.7,
          56.5,
          54.3,
          54.7,
          53.2,
          50,
          48.2,
          50.6,
          55.7,
          58.7,
          60.1,
          57,
          56.1,
          54.3,
          52.1,
          49.2,
          49.4,
          48.4,
          47,
          49.3,
          51.8,
          52,
          53.3,
          57.9,
          59.2,
          55.4,
          50.9,
          51.1,
          52.4,
          51.9,
          57.7,
          61.1,
          59.2,
          60.1,
          61.8,
          62.7,
          59.9,
          57.5,
          55.2,
          56.3,
          55.5,
          58.1,
          58.5,
          57.5,
          60.5,
          61.2,
          63,
          63.4,
          67.4,
          65,
          62.5,
          66.8,
          70.1,
          68.3,
          63.1,
          59.9,
          62.9,
          65.4,
          67.6,
          70,
          69.8,
          71.1,
          74,
          73,
          70.3,
          69.9,
          69.3,
          71.1,
          73.9,
          74.2,
          73,
          73.8,
          74.3,
          74.5,
          72.1,
          74.3,
          73.6,
          74.3,
          74.1,
          75,
          74.6,
          76,
          77.5,
          78.3,
          78.4,
          79.2,
          79.4,
          75.6,
          69.3,
          69.4,
          68.1,
          67.8,
          70.2,
          74.1,
          71.9,
          73,
          75.6,
          73.4,
          75.5,
          76.8,
          74.4,
          69.3,
          69.8,
          74,
          76.5,
          76,
          77.1,
          78.4,
          78.9,
          79.6,
          81.1,
          80.8,
          83.2,
          85.2,
          86.6,
          87.6,
          90.2,
          91.2,
          90.1,
          91.2,
          88.5,
          84.6,
          84.5,
          85,
          80.8,
          80.4,
          81.7,
          84.4,
          85.8,
          83,
          82.2,
          78.8,
          71.1,
          74.2,
          73.1,
          76.3,
          82.2,
          83.5,
          84.9,
          84.5,
          86.6,
          87,
          88,
          91.1,
          92.3,
          92.6,
          93,
          92.2,
          91.9,
          85.6,
          89.7,
          92.3,
          96.3,
          99.3,
          98.4,
          85.9,
          83.9,
          82.8,
          81.3,
          86.1,
          81,
          80.8,
          77.4,
          78.9,
          83.4,
          86.6,
          84.9,
          89.1,
          88.6,
          90.3,
          92.9,
          92.8,
          94,
          91,
          94.8,
          97.7,
          95.8,
          92.5,
          89.6,
          90.4,
          88.7,
          83.5,
          88.9,
          87.9,
          90.4,
          91.1,
          90.1,
          79.6,
          83.8,
          85.1,
          85.2,
          83.8,
          82.8,
          85.2,
          87.5,
          91.1,
          88.2,
          85.8,
          83,
          85.4,
          81,
          80.5,
          81.4,
          83.2,
          84.8,
          85.4,
          85.2,
          85.1,
          84.1,
          86.8,
          84.9,
          87.6,
          91,
          91.4,
          89.4
         ],
         "y": [
          80.7,
          79.1,
          76.1,
          71.1,
          91.8,
          88.8,
          90.2,
          96.4,
          97.2,
          92.3,
          91.5,
          88.6,
          91.2,
          94.6,
          93.9,
          87.5,
          88.5,
          92.2,
          89.4,
          92.4,
          90.4,
          94.3,
          94.4,
          93.5,
          94.5,
          92.5,
          83.9,
          76,
          73.8,
          78.2,
          78.9,
          89.2,
          84.6,
          89,
          87.3,
          82.4,
          72,
          72.1,
          77.3,
          84.6,
          74.5,
          69.7,
          66.7,
          65.5,
          64.6,
          58.3,
          68.5,
          66.4,
          61.6,
          64,
          69.4,
          57.4,
          58.6,
          78.2,
          72,
          71.7,
          70.8,
          66.9,
          62.7,
          68.6,
          68.7,
          63.7,
          73.3,
          71.6,
          70,
          63.8,
          62.9,
          56.2,
          57,
          65.2,
          58.9,
          61.9,
          68.1,
          69.5,
          65.1,
          66.2,
          70.7,
          64.3,
          49.7,
          54,
          51.2,
          50.1,
          42,
          51.5,
          44.2,
          23.9,
          34.8,
          31.9,
          34.4,
          34.4,
          29,
          28.1,
          26.1,
          24.6,
          26.7,
          23.9,
          25.2,
          23,
          23.5,
          20.9,
          22.8,
          22.3,
          26,
          23.1,
          27.1,
          30,
          28.2,
          27,
          25.8,
          21.6,
          28.7,
          29.3,
          25.8,
          23.6,
          22.2,
          22.6,
          23.7,
          23.3,
          20.2,
          17.8,
          32.4,
          41.7,
          49.2,
          54.8,
          53.2,
          44.5,
          36.2,
          39.6,
          45.3,
          45.9,
          44.4,
          41.8,
          45.9,
          28.4,
          21.3,
          18.1,
          31.2,
          31,
          32.6,
          30.6,
          30.8,
          44.9,
          71.2,
          75.1,
          66.6,
          59.1,
          50.5,
          46.6,
          50.4,
          59.4,
          49.2,
          38.7,
          32.8,
          28.5,
          27,
          20.8,
          23.8,
          22.2,
          21.5,
          24.6,
          26.1,
          22.1,
          24.7,
          29.2,
          38,
          39.3,
          46.1,
          70.8,
          74.1,
          74.4,
          65.6,
          61.2,
          59.3,
          48.1,
          38.6,
          34.8,
          48,
          51.1,
          53.1,
          53.8,
          88.2,
          88.6,
          72.9,
          57.4,
          64.1,
          64.5,
          63,
          59.3,
          54.8,
          66.5,
          73.6,
          67.9,
          80.1,
          73.3,
          67.6,
          63.7,
          80.4,
          81.9,
          68.8,
          73.5,
          84,
          84,
          86.7,
          85.6,
          82.5,
          80.3,
          81,
          80,
          86.3,
          89.2,
          87.1,
          84.3,
          79.6,
          75.9,
          76.1,
          84.6,
          92.1,
          84.5,
          93.3,
          79.9,
          75.3,
          68.9,
          73.9,
          71.1,
          73.4,
          86.6,
          81.3,
          78.7,
          76.8,
          76.1,
          71.6,
          80.8,
          76.7,
          74.3,
          71.4,
          80.9,
          72.3,
          73,
          70.2,
          65.9,
          66.9,
          77.4,
          66.9,
          66.3,
          62.9,
          58.2,
          56.6,
          58.7,
          59.4,
          59.3,
          61.8,
          64.8,
          71.9,
          61.3,
          62.8,
          70.4,
          78.6,
          92.7,
          96.6,
          82.2,
          73.6,
          77.3,
          77.1,
          87.1,
          95.9,
          98.3,
          97.2,
          84.8,
          82.4,
          76.5,
          71.1,
          71.6,
          73.5,
          72,
          64.1,
          59.4,
          63.3,
          69.7,
          78.3,
          87.3,
          96.9,
          99,
          97.2,
          87.1,
          81.7,
          72.7,
          71.6,
          70.1,
          61,
          56,
          55.6,
          50.8,
          54.1,
          55.3,
          56.8,
          55,
          60.1,
          53.7,
          60.9,
          59.7,
          64.5,
          68.2,
          62,
          66,
          62.6,
          64.6,
          65.1,
          66.9,
          78.3,
          72.3,
          64.1,
          69.5,
          60.6,
          64.6,
          61.9,
          53.4,
          56.7,
          55.4,
          56.5,
          52.9,
          57.4,
          54.3,
          54.7,
          55.7,
          58.5,
          54.4,
          49.6,
          51.3,
          54.6,
          56.4,
          61.6,
          61.5,
          65.3,
          65.9,
          69,
          65.4,
          70,
          74.1,
          69.3,
          70.7,
          67.3,
          62.6,
          62.2,
          69.3,
          67,
          61,
          55.3,
          57.3,
          56.4,
          58.5,
          61.7,
          71.7,
          74.7,
          79,
          81.3,
          84.2,
          80.5,
          80.9,
          90.1,
          95.6,
          88.7,
          74.1,
          68.8,
          75.2,
          84.9,
          79.8,
          87.9,
          85.6,
          90.1,
          83,
          87.7,
          89.2,
          85.3,
          91.8,
          88.6,
          87.6,
          87,
          90.5,
          82,
          59.6,
          61.2,
          55.1,
          60.1,
          54.4,
          62.1,
          80,
          72.4,
          68.2,
          81.5,
          91.8,
          94.1,
          65.8,
          68.6,
          91.8,
          93.5,
          92.9,
          82,
          68,
          68.8,
          65.8,
          67.1,
          65.2,
          70,
          60.1,
          60.8,
          61,
          74.9,
          49.7,
          41.8,
          43.2,
          52.7,
          67.8,
          72.5,
          70.9,
          69.3,
          63.3,
          67.4,
          71.5,
          60.9,
          58.3,
          61.2,
          56.3,
          57,
          55.1,
          46.8,
          56.6,
          59.3,
          57.3,
          55,
          57.2,
          50.3,
          51.6,
          51,
          60.7,
          53.1,
          46.2,
          50.6,
          54.9,
          49.9,
          44.6,
          49.3,
          80.7,
          84,
          81.4,
          81.5,
          74.5,
          61.3,
          71.5,
          70.7,
          51.4,
          58.9,
          52.6,
          53.3,
          63.6,
          81.2,
          79.7,
          68,
          59.8,
          57.9,
          47.2,
          37.6,
          34.6,
          30.3,
          31.5,
          31,
          31,
          32.1,
          29.3,
          26.3,
          24.7,
          26.4,
          30,
          31.6,
          35.1,
          40,
          35.1,
          29.1,
          28.2,
          35,
          36.3,
          35.5,
          33.6,
          40.3,
          43.4,
          55.6,
          89.7,
          82.1,
          85.4,
          71.2,
          56.9,
          49.4,
          46.3,
          53,
          35.8,
          24.8,
          29,
          27.9,
          31.6,
          30.8,
          27.6,
          30.4,
          33.3,
          50.9,
          39.2,
          32.9,
          27.5,
          24.6,
          25,
          46.3,
          52.1,
          52.6,
          65,
          59.1,
          68.5,
          68.7,
          81.3,
          73.3,
          53.9,
          49,
          60.3,
          52.6,
          48.1,
          39.3,
          35.1,
          40.9,
          39.5,
          48.5,
          45.1,
          39.7,
          40.4,
          44.6,
          56.2,
          62,
          66.2,
          81,
          67.8,
          71.7,
          68.1,
          69.8,
          69.2,
          93.6,
          86.1,
          86.9,
          85,
          87.6,
          90.7,
          83.4,
          75.7,
          69.9,
          78.9,
          86,
          91.9,
          84.6,
          97.1,
          98.1,
          96.7,
          89.8,
          88.1,
          88.1,
          88.9,
          87,
          89.1,
          86.2,
          92.2,
          82.6,
          70.8,
          72.3,
          78.3
         ]
        }
       ],
       "layout": {
        "legend": {
         "bgcolor": "#F5F6F9",
         "font": {
          "color": "#4D5663"
         }
        },
        "paper_bgcolor": "#F5F6F9",
        "plot_bgcolor": "#F5F6F9",
        "template": {
         "data": {
          "bar": [
           {
            "error_x": {
             "color": "#2a3f5f"
            },
            "error_y": {
             "color": "#2a3f5f"
            },
            "marker": {
             "line": {
              "color": "#E5ECF6",
              "width": 0.5
             },
             "pattern": {
              "fillmode": "overlay",
              "size": 10,
              "solidity": 0.2
             }
            },
            "type": "bar"
           }
          ],
          "barpolar": [
           {
            "marker": {
             "line": {
              "color": "#E5ECF6",
              "width": 0.5
             },
             "pattern": {
              "fillmode": "overlay",
              "size": 10,
              "solidity": 0.2
             }
            },
            "type": "barpolar"
           }
          ],
          "carpet": [
           {
            "aaxis": {
             "endlinecolor": "#2a3f5f",
             "gridcolor": "white",
             "linecolor": "white",
             "minorgridcolor": "white",
             "startlinecolor": "#2a3f5f"
            },
            "baxis": {
             "endlinecolor": "#2a3f5f",
             "gridcolor": "white",
             "linecolor": "white",
             "minorgridcolor": "white",
             "startlinecolor": "#2a3f5f"
            },
            "type": "carpet"
           }
          ],
          "choropleth": [
           {
            "colorbar": {
             "outlinewidth": 0,
             "ticks": ""
            },
            "type": "choropleth"
           }
          ],
          "contour": [
           {
            "colorbar": {
             "outlinewidth": 0,
             "ticks": ""
            },
            "colorscale": [
             [
              0,
              "#0d0887"
             ],
             [
              0.1111111111111111,
              "#46039f"
             ],
             [
              0.2222222222222222,
              "#7201a8"
             ],
             [
              0.3333333333333333,
              "#9c179e"
             ],
             [
              0.4444444444444444,
              "#bd3786"
             ],
             [
              0.5555555555555556,
              "#d8576b"
             ],
             [
              0.6666666666666666,
              "#ed7953"
             ],
             [
              0.7777777777777778,
              "#fb9f3a"
             ],
             [
              0.8888888888888888,
              "#fdca26"
             ],
             [
              1,
              "#f0f921"
             ]
            ],
            "type": "contour"
           }
          ],
          "contourcarpet": [
           {
            "colorbar": {
             "outlinewidth": 0,
             "ticks": ""
            },
            "type": "contourcarpet"
           }
          ],
          "heatmap": [
           {
            "colorbar": {
             "outlinewidth": 0,
             "ticks": ""
            },
            "colorscale": [
             [
              0,
              "#0d0887"
             ],
             [
              0.1111111111111111,
              "#46039f"
             ],
             [
              0.2222222222222222,
              "#7201a8"
             ],
             [
              0.3333333333333333,
              "#9c179e"
             ],
             [
              0.4444444444444444,
              "#bd3786"
             ],
             [
              0.5555555555555556,
              "#d8576b"
             ],
             [
              0.6666666666666666,
              "#ed7953"
             ],
             [
              0.7777777777777778,
              "#fb9f3a"
             ],
             [
              0.8888888888888888,
              "#fdca26"
             ],
             [
              1,
              "#f0f921"
             ]
            ],
            "type": "heatmap"
           }
          ],
          "heatmapgl": [
           {
            "colorbar": {
             "outlinewidth": 0,
             "ticks": ""
            },
            "colorscale": [
             [
              0,
              "#0d0887"
             ],
             [
              0.1111111111111111,
              "#46039f"
             ],
             [
              0.2222222222222222,
              "#7201a8"
             ],
             [
              0.3333333333333333,
              "#9c179e"
             ],
             [
              0.4444444444444444,
              "#bd3786"
             ],
             [
              0.5555555555555556,
              "#d8576b"
             ],
             [
              0.6666666666666666,
              "#ed7953"
             ],
             [
              0.7777777777777778,
              "#fb9f3a"
             ],
             [
              0.8888888888888888,
              "#fdca26"
             ],
             [
              1,
              "#f0f921"
             ]
            ],
            "type": "heatmapgl"
           }
          ],
          "histogram": [
           {
            "marker": {
             "pattern": {
              "fillmode": "overlay",
              "size": 10,
              "solidity": 0.2
             }
            },
            "type": "histogram"
           }
          ],
          "histogram2d": [
           {
            "colorbar": {
             "outlinewidth": 0,
             "ticks": ""
            },
            "colorscale": [
             [
              0,
              "#0d0887"
             ],
             [
              0.1111111111111111,
              "#46039f"
             ],
             [
              0.2222222222222222,
              "#7201a8"
             ],
             [
              0.3333333333333333,
              "#9c179e"
             ],
             [
              0.4444444444444444,
              "#bd3786"
             ],
             [
              0.5555555555555556,
              "#d8576b"
             ],
             [
              0.6666666666666666,
              "#ed7953"
             ],
             [
              0.7777777777777778,
              "#fb9f3a"
             ],
             [
              0.8888888888888888,
              "#fdca26"
             ],
             [
              1,
              "#f0f921"
             ]
            ],
            "type": "histogram2d"
           }
          ],
          "histogram2dcontour": [
           {
            "colorbar": {
             "outlinewidth": 0,
             "ticks": ""
            },
            "colorscale": [
             [
              0,
              "#0d0887"
             ],
             [
              0.1111111111111111,
              "#46039f"
             ],
             [
              0.2222222222222222,
              "#7201a8"
             ],
             [
              0.3333333333333333,
              "#9c179e"
             ],
             [
              0.4444444444444444,
              "#bd3786"
             ],
             [
              0.5555555555555556,
              "#d8576b"
             ],
             [
              0.6666666666666666,
              "#ed7953"
             ],
             [
              0.7777777777777778,
              "#fb9f3a"
             ],
             [
              0.8888888888888888,
              "#fdca26"
             ],
             [
              1,
              "#f0f921"
             ]
            ],
            "type": "histogram2dcontour"
           }
          ],
          "mesh3d": [
           {
            "colorbar": {
             "outlinewidth": 0,
             "ticks": ""
            },
            "type": "mesh3d"
           }
          ],
          "parcoords": [
           {
            "line": {
             "colorbar": {
              "outlinewidth": 0,
              "ticks": ""
             }
            },
            "type": "parcoords"
           }
          ],
          "pie": [
           {
            "automargin": true,
            "type": "pie"
           }
          ],
          "scatter": [
           {
            "marker": {
             "colorbar": {
              "outlinewidth": 0,
              "ticks": ""
             }
            },
            "type": "scatter"
           }
          ],
          "scatter3d": [
           {
            "line": {
             "colorbar": {
              "outlinewidth": 0,
              "ticks": ""
             }
            },
            "marker": {
             "colorbar": {
              "outlinewidth": 0,
              "ticks": ""
             }
            },
            "type": "scatter3d"
           }
          ],
          "scattercarpet": [
           {
            "marker": {
             "colorbar": {
              "outlinewidth": 0,
              "ticks": ""
             }
            },
            "type": "scattercarpet"
           }
          ],
          "scattergeo": [
           {
            "marker": {
             "colorbar": {
              "outlinewidth": 0,
              "ticks": ""
             }
            },
            "type": "scattergeo"
           }
          ],
          "scattergl": [
           {
            "marker": {
             "colorbar": {
              "outlinewidth": 0,
              "ticks": ""
             }
            },
            "type": "scattergl"
           }
          ],
          "scattermapbox": [
           {
            "marker": {
             "colorbar": {
              "outlinewidth": 0,
              "ticks": ""
             }
            },
            "type": "scattermapbox"
           }
          ],
          "scatterpolar": [
           {
            "marker": {
             "colorbar": {
              "outlinewidth": 0,
              "ticks": ""
             }
            },
            "type": "scatterpolar"
           }
          ],
          "scatterpolargl": [
           {
            "marker": {
             "colorbar": {
              "outlinewidth": 0,
              "ticks": ""
             }
            },
            "type": "scatterpolargl"
           }
          ],
          "scatterternary": [
           {
            "marker": {
             "colorbar": {
              "outlinewidth": 0,
              "ticks": ""
             }
            },
            "type": "scatterternary"
           }
          ],
          "surface": [
           {
            "colorbar": {
             "outlinewidth": 0,
             "ticks": ""
            },
            "colorscale": [
             [
              0,
              "#0d0887"
             ],
             [
              0.1111111111111111,
              "#46039f"
             ],
             [
              0.2222222222222222,
              "#7201a8"
             ],
             [
              0.3333333333333333,
              "#9c179e"
             ],
             [
              0.4444444444444444,
              "#bd3786"
             ],
             [
              0.5555555555555556,
              "#d8576b"
             ],
             [
              0.6666666666666666,
              "#ed7953"
             ],
             [
              0.7777777777777778,
              "#fb9f3a"
             ],
             [
              0.8888888888888888,
              "#fdca26"
             ],
             [
              1,
              "#f0f921"
             ]
            ],
            "type": "surface"
           }
          ],
          "table": [
           {
            "cells": {
             "fill": {
              "color": "#EBF0F8"
             },
             "line": {
              "color": "white"
             }
            },
            "header": {
             "fill": {
              "color": "#C8D4E3"
             },
             "line": {
              "color": "white"
             }
            },
            "type": "table"
           }
          ]
         },
         "layout": {
          "annotationdefaults": {
           "arrowcolor": "#2a3f5f",
           "arrowhead": 0,
           "arrowwidth": 1
          },
          "autotypenumbers": "strict",
          "coloraxis": {
           "colorbar": {
            "outlinewidth": 0,
            "ticks": ""
           }
          },
          "colorscale": {
           "diverging": [
            [
             0,
             "#8e0152"
            ],
            [
             0.1,
             "#c51b7d"
            ],
            [
             0.2,
             "#de77ae"
            ],
            [
             0.3,
             "#f1b6da"
            ],
            [
             0.4,
             "#fde0ef"
            ],
            [
             0.5,
             "#f7f7f7"
            ],
            [
             0.6,
             "#e6f5d0"
            ],
            [
             0.7,
             "#b8e186"
            ],
            [
             0.8,
             "#7fbc41"
            ],
            [
             0.9,
             "#4d9221"
            ],
            [
             1,
             "#276419"
            ]
           ],
           "sequential": [
            [
             0,
             "#0d0887"
            ],
            [
             0.1111111111111111,
             "#46039f"
            ],
            [
             0.2222222222222222,
             "#7201a8"
            ],
            [
             0.3333333333333333,
             "#9c179e"
            ],
            [
             0.4444444444444444,
             "#bd3786"
            ],
            [
             0.5555555555555556,
             "#d8576b"
            ],
            [
             0.6666666666666666,
             "#ed7953"
            ],
            [
             0.7777777777777778,
             "#fb9f3a"
            ],
            [
             0.8888888888888888,
             "#fdca26"
            ],
            [
             1,
             "#f0f921"
            ]
           ],
           "sequentialminus": [
            [
             0,
             "#0d0887"
            ],
            [
             0.1111111111111111,
             "#46039f"
            ],
            [
             0.2222222222222222,
             "#7201a8"
            ],
            [
             0.3333333333333333,
             "#9c179e"
            ],
            [
             0.4444444444444444,
             "#bd3786"
            ],
            [
             0.5555555555555556,
             "#d8576b"
            ],
            [
             0.6666666666666666,
             "#ed7953"
            ],
            [
             0.7777777777777778,
             "#fb9f3a"
            ],
            [
             0.8888888888888888,
             "#fdca26"
            ],
            [
             1,
             "#f0f921"
            ]
           ]
          },
          "colorway": [
           "#636efa",
           "#EF553B",
           "#00cc96",
           "#ab63fa",
           "#FFA15A",
           "#19d3f3",
           "#FF6692",
           "#B6E880",
           "#FF97FF",
           "#FECB52"
          ],
          "font": {
           "color": "#2a3f5f"
          },
          "geo": {
           "bgcolor": "white",
           "lakecolor": "white",
           "landcolor": "#E5ECF6",
           "showlakes": true,
           "showland": true,
           "subunitcolor": "white"
          },
          "hoverlabel": {
           "align": "left"
          },
          "hovermode": "closest",
          "mapbox": {
           "style": "light"
          },
          "paper_bgcolor": "white",
          "plot_bgcolor": "#E5ECF6",
          "polar": {
           "angularaxis": {
            "gridcolor": "white",
            "linecolor": "white",
            "ticks": ""
           },
           "bgcolor": "#E5ECF6",
           "radialaxis": {
            "gridcolor": "white",
            "linecolor": "white",
            "ticks": ""
           }
          },
          "scene": {
           "xaxis": {
            "backgroundcolor": "#E5ECF6",
            "gridcolor": "white",
            "gridwidth": 2,
            "linecolor": "white",
            "showbackground": true,
            "ticks": "",
            "zerolinecolor": "white"
           },
           "yaxis": {
            "backgroundcolor": "#E5ECF6",
            "gridcolor": "white",
            "gridwidth": 2,
            "linecolor": "white",
            "showbackground": true,
            "ticks": "",
            "zerolinecolor": "white"
           },
           "zaxis": {
            "backgroundcolor": "#E5ECF6",
            "gridcolor": "white",
            "gridwidth": 2,
            "linecolor": "white",
            "showbackground": true,
            "ticks": "",
            "zerolinecolor": "white"
           }
          },
          "shapedefaults": {
           "line": {
            "color": "#2a3f5f"
           }
          },
          "ternary": {
           "aaxis": {
            "gridcolor": "white",
            "linecolor": "white",
            "ticks": ""
           },
           "baxis": {
            "gridcolor": "white",
            "linecolor": "white",
            "ticks": ""
           },
           "bgcolor": "#E5ECF6",
           "caxis": {
            "gridcolor": "white",
            "linecolor": "white",
            "ticks": ""
           }
          },
          "title": {
           "x": 0.05
          },
          "xaxis": {
           "automargin": true,
           "gridcolor": "white",
           "linecolor": "white",
           "ticks": "",
           "title": {
            "standoff": 15
           },
           "zerolinecolor": "white",
           "zerolinewidth": 2
          },
          "yaxis": {
           "automargin": true,
           "gridcolor": "white",
           "linecolor": "white",
           "ticks": "",
           "title": {
            "standoff": 15
           },
           "zerolinecolor": "white",
           "zerolinewidth": 2
          }
         }
        },
        "title": {
         "font": {
          "color": "#4D5663"
         }
        },
        "xaxis": {
         "gridcolor": "#E1E5ED",
         "showgrid": true,
         "tickfont": {
          "color": "#4D5663"
         },
         "title": {
          "font": {
           "color": "#4D5663"
          },
          "text": ""
         },
         "zerolinecolor": "#E1E5ED"
        },
        "yaxis": {
         "gridcolor": "#E1E5ED",
         "showgrid": true,
         "tickfont": {
          "color": "#4D5663"
         },
         "title": {
          "font": {
           "color": "#4D5663"
          },
          "text": ""
         },
         "zerolinecolor": "#E1E5ED"
        }
       }
      },
      "text/html": [
       "<div>                            <div id=\"92a7d334-1664-4254-8471-d155e79f7bb3\" class=\"plotly-graph-div\" style=\"height:525px; width:100%;\"></div>            <script type=\"text/javascript\">                require([\"plotly\"], function(Plotly) {                    window.PLOTLYENV=window.PLOTLYENV || {};\n",
       "                    window.PLOTLYENV.BASE_URL='https://plot.ly';                                    if (document.getElementById(\"92a7d334-1664-4254-8471-d155e79f7bb3\")) {                    Plotly.newPlot(                        \"92a7d334-1664-4254-8471-d155e79f7bb3\",                        [{\"line\":{\"color\":\"rgba(255, 153, 51, 1.0)\",\"dash\":\"solid\",\"shape\":\"linear\",\"width\":1.3},\"mode\":\"lines\",\"name\":\"humidity\",\"text\":\"\",\"x\":[53.5,55.0,56.8,60.5,56.7,59.4,61.1,60.6,56.8,54.4,52.4,52.8,52.4,51.0,50.1,51.3,52.2,51.1,53.4,54.8,56.1,55.4,54.6,53.1,49.9,52.1,54.0,54.8,56.6,58.3,58.1,56.1,57.8,55.5,55.6,54.5,57.3,63.4,65.2,61.7,60.3,59.8,60.9,63.3,64.2,65.9,64.5,65.1,66.4,65.8,64.2,64.3,66.4,66.5,67.3,68.1,65.1,65.8,64.5,65.0,66.9,71.3,68.7,67.2,68.6,71.8,72.5,73.7,73.2,72.9,73.6,76.2,78.0,80.5,81.7,81.9,82.7,83.2,85.4,83.8,82.9,82.1,82.4,81.7,80.8,84.7,85.3,86.6,86.9,87.2,85.8,85.7,86.6,86.3,86.4,87.3,88.5,89.9,91.4,92.1,92.6,90.9,91.0,90.2,90.3,89.8,90.6,92.1,93.7,93.3,88.5,88.7,89.1,90.3,93.0,92.3,93.1,94.2,96.4,96.1,93.0,93.3,91.7,88.1,85.9,90.2,92.1,92.4,92.8,92.8,94.3,96.6,94.9,99.0,98.6,99.4,94.3,96.4,97.2,98.6,94.6,90.0,78.4,79.3,84.3,87.1,89.9,93.9,93.1,88.5,91.2,95.0,95.7,96.1,97.7,99.2,98.2,99.1,99.1,99.5,100.0,99.8,99.8,99.7,95.5,96.9,93.3,84.6,84.1,82.9,84.3,86.3,87.8,91.6,91.9,93.8,95.0,96.2,96.5,94.8,81.9,82.7,87.8,91.5,92.3,93.1,94.0,94.3,94.8,89.6,87.8,89.2,86.5,88.6,90.1,91.2,84.9,85.7,91.8,90.3,85.5,84.1,85.0,85.4,86.0,85.9,84.9,86.0,83.4,82.4,83.2,83.6,85.5,87.7,87.5,84.9,82.2,86.4,81.6,86.2,89.6,90.4,85.4,88.3,87.6,84.1,84.7,84.3,84.6,86.5,87.9,85.3,87.6,88.7,87.2,84.3,86.3,87.2,87.2,87.0,86.5,86.4,88.8,89.8,89.7,90.0,90.2,89.4,89.0,89.8,89.9,89.9,88.8,90.0,89.1,86.0,83.4,79.5,76.6,83.2,85.2,84.8,83.9,80.8,77.7,77.0,77.5,80.7,82.5,83.5,84.5,83.9,84.0,84.3,85.0,84.2,84.4,83.7,78.8,74.9,72.4,71.6,71.7,76.7,77.6,77.6,77.8,78.3,79.2,79.7,78.7,79.7,79.2,79.1,77.4,75.1,74.4,74.7,75.3,75.8,75.2,74.9,74.0,74.1,76.3,75.1,75.1,76.0,75.2,76.7,77.0,74.6,74.1,74.2,71.3,69.8,68.9,72.6,71.6,69.1,65.7,65.5,65.6,65.7,65.5,65.5,65.3,65.0,64.9,64.7,63.6,64.0,63.6,63.4,63.3,64.0,63.9,63.5,62.1,60.8,61.2,62.8,63.8,63.7,64.4,63.6,63.8,61.9,59.1,59.2,59.4,59.1,58.4,56.7,56.5,54.3,54.7,53.2,50.0,48.2,50.6,55.7,58.7,60.1,57.0,56.1,54.3,52.1,49.2,49.4,48.4,47.0,49.3,51.8,52.0,53.3,57.9,59.2,55.4,50.9,51.1,52.4,51.9,57.7,61.1,59.2,60.1,61.8,62.7,59.9,57.5,55.2,56.3,55.5,58.1,58.5,57.5,60.5,61.2,63.0,63.4,67.4,65.0,62.5,66.8,70.1,68.3,63.1,59.9,62.9,65.4,67.6,70.0,69.8,71.1,74.0,73.0,70.3,69.9,69.3,71.1,73.9,74.2,73.0,73.8,74.3,74.5,72.1,74.3,73.6,74.3,74.1,75.0,74.6,76.0,77.5,78.3,78.4,79.2,79.4,75.6,69.3,69.4,68.1,67.8,70.2,74.1,71.9,73.0,75.6,73.4,75.5,76.8,74.4,69.3,69.8,74.0,76.5,76.0,77.1,78.4,78.9,79.6,81.1,80.8,83.2,85.2,86.6,87.6,90.2,91.2,90.1,91.2,88.5,84.6,84.5,85.0,80.8,80.4,81.7,84.4,85.8,83.0,82.2,78.8,71.1,74.2,73.1,76.3,82.2,83.5,84.9,84.5,86.6,87.0,88.0,91.1,92.3,92.6,93.0,92.2,91.9,85.6,89.7,92.3,96.3,99.3,98.4,85.9,83.9,82.8,81.3,86.1,81.0,80.8,77.4,78.9,83.4,86.6,84.9,89.1,88.6,90.3,92.9,92.8,94.0,91.0,94.8,97.7,95.8,92.5,89.6,90.4,88.7,83.5,88.9,87.9,90.4,91.1,90.1,79.6,83.8,85.1,85.2,83.8,82.8,85.2,87.5,91.1,88.2,85.8,83.0,85.4,81.0,80.5,81.4,83.2,84.8,85.4,85.2,85.1,84.1,86.8,84.9,87.6,91.0,91.4,89.4],\"y\":[80.7,79.1,76.1,71.1,91.8,88.8,90.2,96.4,97.2,92.3,91.5,88.6,91.2,94.6,93.9,87.5,88.5,92.2,89.4,92.4,90.4,94.3,94.4,93.5,94.5,92.5,83.9,76.0,73.8,78.2,78.9,89.2,84.6,89.0,87.3,82.4,72.0,72.1,77.3,84.6,74.5,69.7,66.7,65.5,64.6,58.3,68.5,66.4,61.6,64.0,69.4,57.4,58.6,78.2,72.0,71.7,70.8,66.9,62.7,68.6,68.7,63.7,73.3,71.6,70.0,63.8,62.9,56.2,57.0,65.2,58.9,61.9,68.1,69.5,65.1,66.2,70.7,64.3,49.7,54.0,51.2,50.1,42.0,51.5,44.2,23.9,34.8,31.9,34.4,34.4,29.0,28.1,26.1,24.6,26.7,23.9,25.2,23.0,23.5,20.9,22.8,22.3,26.0,23.1,27.1,30.0,28.2,27.0,25.8,21.6,28.7,29.3,25.8,23.6,22.2,22.6,23.7,23.3,20.2,17.8,32.4,41.7,49.2,54.8,53.2,44.5,36.2,39.6,45.3,45.9,44.4,41.8,45.9,28.4,21.3,18.1,31.2,31.0,32.6,30.6,30.8,44.9,71.2,75.1,66.6,59.1,50.5,46.6,50.4,59.4,49.2,38.7,32.8,28.5,27.0,20.8,23.8,22.2,21.5,24.6,26.1,22.1,24.7,29.2,38.0,39.3,46.1,70.8,74.1,74.4,65.6,61.2,59.3,48.1,38.6,34.8,48.0,51.1,53.1,53.8,88.2,88.6,72.9,57.4,64.1,64.5,63.0,59.3,54.8,66.5,73.6,67.9,80.1,73.3,67.6,63.7,80.4,81.9,68.8,73.5,84.0,84.0,86.7,85.6,82.5,80.3,81.0,80.0,86.3,89.2,87.1,84.3,79.6,75.9,76.1,84.6,92.1,84.5,93.3,79.9,75.3,68.9,73.9,71.1,73.4,86.6,81.3,78.7,76.8,76.1,71.6,80.8,76.7,74.3,71.4,80.9,72.3,73.0,70.2,65.9,66.9,77.4,66.9,66.3,62.9,58.2,56.6,58.7,59.4,59.3,61.8,64.8,71.9,61.3,62.8,70.4,78.6,92.7,96.6,82.2,73.6,77.3,77.1,87.1,95.9,98.3,97.2,84.8,82.4,76.5,71.1,71.6,73.5,72.0,64.1,59.4,63.3,69.7,78.3,87.3,96.9,99.0,97.2,87.1,81.7,72.7,71.6,70.1,61.0,56.0,55.6,50.8,54.1,55.3,56.8,55.0,60.1,53.7,60.9,59.7,64.5,68.2,62.0,66.0,62.6,64.6,65.1,66.9,78.3,72.3,64.1,69.5,60.6,64.6,61.9,53.4,56.7,55.4,56.5,52.9,57.4,54.3,54.7,55.7,58.5,54.4,49.6,51.3,54.6,56.4,61.6,61.5,65.3,65.9,69.0,65.4,70.0,74.1,69.3,70.7,67.3,62.6,62.2,69.3,67.0,61.0,55.3,57.3,56.4,58.5,61.7,71.7,74.7,79.0,81.3,84.2,80.5,80.9,90.1,95.6,88.7,74.1,68.8,75.2,84.9,79.8,87.9,85.6,90.1,83.0,87.7,89.2,85.3,91.8,88.6,87.6,87.0,90.5,82.0,59.6,61.2,55.1,60.1,54.4,62.1,80.0,72.4,68.2,81.5,91.8,94.1,65.8,68.6,91.8,93.5,92.9,82.0,68.0,68.8,65.8,67.1,65.2,70.0,60.1,60.8,61.0,74.9,49.7,41.8,43.2,52.7,67.8,72.5,70.9,69.3,63.3,67.4,71.5,60.9,58.3,61.2,56.3,57.0,55.1,46.8,56.6,59.3,57.3,55.0,57.2,50.3,51.6,51.0,60.7,53.1,46.2,50.6,54.9,49.9,44.6,49.3,80.7,84.0,81.4,81.5,74.5,61.3,71.5,70.7,51.4,58.9,52.6,53.3,63.6,81.2,79.7,68.0,59.8,57.9,47.2,37.6,34.6,30.3,31.5,31.0,31.0,32.1,29.3,26.3,24.7,26.4,30.0,31.6,35.1,40.0,35.1,29.1,28.2,35.0,36.3,35.5,33.6,40.3,43.4,55.6,89.7,82.1,85.4,71.2,56.9,49.4,46.3,53.0,35.8,24.8,29.0,27.9,31.6,30.8,27.6,30.4,33.3,50.9,39.2,32.9,27.5,24.6,25.0,46.3,52.1,52.6,65.0,59.1,68.5,68.7,81.3,73.3,53.9,49.0,60.3,52.6,48.1,39.3,35.1,40.9,39.5,48.5,45.1,39.7,40.4,44.6,56.2,62.0,66.2,81.0,67.8,71.7,68.1,69.8,69.2,93.6,86.1,86.9,85.0,87.6,90.7,83.4,75.7,69.9,78.9,86.0,91.9,84.6,97.1,98.1,96.7,89.8,88.1,88.1,88.9,87.0,89.1,86.2,92.2,82.6,70.8,72.3,78.3],\"type\":\"scatter\"}],                        {\"legend\":{\"bgcolor\":\"#F5F6F9\",\"font\":{\"color\":\"#4D5663\"}},\"paper_bgcolor\":\"#F5F6F9\",\"plot_bgcolor\":\"#F5F6F9\",\"template\":{\"data\":{\"barpolar\":[{\"marker\":{\"line\":{\"color\":\"#E5ECF6\",\"width\":0.5},\"pattern\":{\"fillmode\":\"overlay\",\"size\":10,\"solidity\":0.2}},\"type\":\"barpolar\"}],\"bar\":[{\"error_x\":{\"color\":\"#2a3f5f\"},\"error_y\":{\"color\":\"#2a3f5f\"},\"marker\":{\"line\":{\"color\":\"#E5ECF6\",\"width\":0.5},\"pattern\":{\"fillmode\":\"overlay\",\"size\":10,\"solidity\":0.2}},\"type\":\"bar\"}],\"carpet\":[{\"aaxis\":{\"endlinecolor\":\"#2a3f5f\",\"gridcolor\":\"white\",\"linecolor\":\"white\",\"minorgridcolor\":\"white\",\"startlinecolor\":\"#2a3f5f\"},\"baxis\":{\"endlinecolor\":\"#2a3f5f\",\"gridcolor\":\"white\",\"linecolor\":\"white\",\"minorgridcolor\":\"white\",\"startlinecolor\":\"#2a3f5f\"},\"type\":\"carpet\"}],\"choropleth\":[{\"colorbar\":{\"outlinewidth\":0,\"ticks\":\"\"},\"type\":\"choropleth\"}],\"contourcarpet\":[{\"colorbar\":{\"outlinewidth\":0,\"ticks\":\"\"},\"type\":\"contourcarpet\"}],\"contour\":[{\"colorbar\":{\"outlinewidth\":0,\"ticks\":\"\"},\"colorscale\":[[0.0,\"#0d0887\"],[0.1111111111111111,\"#46039f\"],[0.2222222222222222,\"#7201a8\"],[0.3333333333333333,\"#9c179e\"],[0.4444444444444444,\"#bd3786\"],[0.5555555555555556,\"#d8576b\"],[0.6666666666666666,\"#ed7953\"],[0.7777777777777778,\"#fb9f3a\"],[0.8888888888888888,\"#fdca26\"],[1.0,\"#f0f921\"]],\"type\":\"contour\"}],\"heatmapgl\":[{\"colorbar\":{\"outlinewidth\":0,\"ticks\":\"\"},\"colorscale\":[[0.0,\"#0d0887\"],[0.1111111111111111,\"#46039f\"],[0.2222222222222222,\"#7201a8\"],[0.3333333333333333,\"#9c179e\"],[0.4444444444444444,\"#bd3786\"],[0.5555555555555556,\"#d8576b\"],[0.6666666666666666,\"#ed7953\"],[0.7777777777777778,\"#fb9f3a\"],[0.8888888888888888,\"#fdca26\"],[1.0,\"#f0f921\"]],\"type\":\"heatmapgl\"}],\"heatmap\":[{\"colorbar\":{\"outlinewidth\":0,\"ticks\":\"\"},\"colorscale\":[[0.0,\"#0d0887\"],[0.1111111111111111,\"#46039f\"],[0.2222222222222222,\"#7201a8\"],[0.3333333333333333,\"#9c179e\"],[0.4444444444444444,\"#bd3786\"],[0.5555555555555556,\"#d8576b\"],[0.6666666666666666,\"#ed7953\"],[0.7777777777777778,\"#fb9f3a\"],[0.8888888888888888,\"#fdca26\"],[1.0,\"#f0f921\"]],\"type\":\"heatmap\"}],\"histogram2dcontour\":[{\"colorbar\":{\"outlinewidth\":0,\"ticks\":\"\"},\"colorscale\":[[0.0,\"#0d0887\"],[0.1111111111111111,\"#46039f\"],[0.2222222222222222,\"#7201a8\"],[0.3333333333333333,\"#9c179e\"],[0.4444444444444444,\"#bd3786\"],[0.5555555555555556,\"#d8576b\"],[0.6666666666666666,\"#ed7953\"],[0.7777777777777778,\"#fb9f3a\"],[0.8888888888888888,\"#fdca26\"],[1.0,\"#f0f921\"]],\"type\":\"histogram2dcontour\"}],\"histogram2d\":[{\"colorbar\":{\"outlinewidth\":0,\"ticks\":\"\"},\"colorscale\":[[0.0,\"#0d0887\"],[0.1111111111111111,\"#46039f\"],[0.2222222222222222,\"#7201a8\"],[0.3333333333333333,\"#9c179e\"],[0.4444444444444444,\"#bd3786\"],[0.5555555555555556,\"#d8576b\"],[0.6666666666666666,\"#ed7953\"],[0.7777777777777778,\"#fb9f3a\"],[0.8888888888888888,\"#fdca26\"],[1.0,\"#f0f921\"]],\"type\":\"histogram2d\"}],\"histogram\":[{\"marker\":{\"pattern\":{\"fillmode\":\"overlay\",\"size\":10,\"solidity\":0.2}},\"type\":\"histogram\"}],\"mesh3d\":[{\"colorbar\":{\"outlinewidth\":0,\"ticks\":\"\"},\"type\":\"mesh3d\"}],\"parcoords\":[{\"line\":{\"colorbar\":{\"outlinewidth\":0,\"ticks\":\"\"}},\"type\":\"parcoords\"}],\"pie\":[{\"automargin\":true,\"type\":\"pie\"}],\"scatter3d\":[{\"line\":{\"colorbar\":{\"outlinewidth\":0,\"ticks\":\"\"}},\"marker\":{\"colorbar\":{\"outlinewidth\":0,\"ticks\":\"\"}},\"type\":\"scatter3d\"}],\"scattercarpet\":[{\"marker\":{\"colorbar\":{\"outlinewidth\":0,\"ticks\":\"\"}},\"type\":\"scattercarpet\"}],\"scattergeo\":[{\"marker\":{\"colorbar\":{\"outlinewidth\":0,\"ticks\":\"\"}},\"type\":\"scattergeo\"}],\"scattergl\":[{\"marker\":{\"colorbar\":{\"outlinewidth\":0,\"ticks\":\"\"}},\"type\":\"scattergl\"}],\"scattermapbox\":[{\"marker\":{\"colorbar\":{\"outlinewidth\":0,\"ticks\":\"\"}},\"type\":\"scattermapbox\"}],\"scatterpolargl\":[{\"marker\":{\"colorbar\":{\"outlinewidth\":0,\"ticks\":\"\"}},\"type\":\"scatterpolargl\"}],\"scatterpolar\":[{\"marker\":{\"colorbar\":{\"outlinewidth\":0,\"ticks\":\"\"}},\"type\":\"scatterpolar\"}],\"scatter\":[{\"marker\":{\"colorbar\":{\"outlinewidth\":0,\"ticks\":\"\"}},\"type\":\"scatter\"}],\"scatterternary\":[{\"marker\":{\"colorbar\":{\"outlinewidth\":0,\"ticks\":\"\"}},\"type\":\"scatterternary\"}],\"surface\":[{\"colorbar\":{\"outlinewidth\":0,\"ticks\":\"\"},\"colorscale\":[[0.0,\"#0d0887\"],[0.1111111111111111,\"#46039f\"],[0.2222222222222222,\"#7201a8\"],[0.3333333333333333,\"#9c179e\"],[0.4444444444444444,\"#bd3786\"],[0.5555555555555556,\"#d8576b\"],[0.6666666666666666,\"#ed7953\"],[0.7777777777777778,\"#fb9f3a\"],[0.8888888888888888,\"#fdca26\"],[1.0,\"#f0f921\"]],\"type\":\"surface\"}],\"table\":[{\"cells\":{\"fill\":{\"color\":\"#EBF0F8\"},\"line\":{\"color\":\"white\"}},\"header\":{\"fill\":{\"color\":\"#C8D4E3\"},\"line\":{\"color\":\"white\"}},\"type\":\"table\"}]},\"layout\":{\"annotationdefaults\":{\"arrowcolor\":\"#2a3f5f\",\"arrowhead\":0,\"arrowwidth\":1},\"autotypenumbers\":\"strict\",\"coloraxis\":{\"colorbar\":{\"outlinewidth\":0,\"ticks\":\"\"}},\"colorscale\":{\"diverging\":[[0,\"#8e0152\"],[0.1,\"#c51b7d\"],[0.2,\"#de77ae\"],[0.3,\"#f1b6da\"],[0.4,\"#fde0ef\"],[0.5,\"#f7f7f7\"],[0.6,\"#e6f5d0\"],[0.7,\"#b8e186\"],[0.8,\"#7fbc41\"],[0.9,\"#4d9221\"],[1,\"#276419\"]],\"sequential\":[[0.0,\"#0d0887\"],[0.1111111111111111,\"#46039f\"],[0.2222222222222222,\"#7201a8\"],[0.3333333333333333,\"#9c179e\"],[0.4444444444444444,\"#bd3786\"],[0.5555555555555556,\"#d8576b\"],[0.6666666666666666,\"#ed7953\"],[0.7777777777777778,\"#fb9f3a\"],[0.8888888888888888,\"#fdca26\"],[1.0,\"#f0f921\"]],\"sequentialminus\":[[0.0,\"#0d0887\"],[0.1111111111111111,\"#46039f\"],[0.2222222222222222,\"#7201a8\"],[0.3333333333333333,\"#9c179e\"],[0.4444444444444444,\"#bd3786\"],[0.5555555555555556,\"#d8576b\"],[0.6666666666666666,\"#ed7953\"],[0.7777777777777778,\"#fb9f3a\"],[0.8888888888888888,\"#fdca26\"],[1.0,\"#f0f921\"]]},\"colorway\":[\"#636efa\",\"#EF553B\",\"#00cc96\",\"#ab63fa\",\"#FFA15A\",\"#19d3f3\",\"#FF6692\",\"#B6E880\",\"#FF97FF\",\"#FECB52\"],\"font\":{\"color\":\"#2a3f5f\"},\"geo\":{\"bgcolor\":\"white\",\"lakecolor\":\"white\",\"landcolor\":\"#E5ECF6\",\"showlakes\":true,\"showland\":true,\"subunitcolor\":\"white\"},\"hoverlabel\":{\"align\":\"left\"},\"hovermode\":\"closest\",\"mapbox\":{\"style\":\"light\"},\"paper_bgcolor\":\"white\",\"plot_bgcolor\":\"#E5ECF6\",\"polar\":{\"angularaxis\":{\"gridcolor\":\"white\",\"linecolor\":\"white\",\"ticks\":\"\"},\"bgcolor\":\"#E5ECF6\",\"radialaxis\":{\"gridcolor\":\"white\",\"linecolor\":\"white\",\"ticks\":\"\"}},\"scene\":{\"xaxis\":{\"backgroundcolor\":\"#E5ECF6\",\"gridcolor\":\"white\",\"gridwidth\":2,\"linecolor\":\"white\",\"showbackground\":true,\"ticks\":\"\",\"zerolinecolor\":\"white\"},\"yaxis\":{\"backgroundcolor\":\"#E5ECF6\",\"gridcolor\":\"white\",\"gridwidth\":2,\"linecolor\":\"white\",\"showbackground\":true,\"ticks\":\"\",\"zerolinecolor\":\"white\"},\"zaxis\":{\"backgroundcolor\":\"#E5ECF6\",\"gridcolor\":\"white\",\"gridwidth\":2,\"linecolor\":\"white\",\"showbackground\":true,\"ticks\":\"\",\"zerolinecolor\":\"white\"}},\"shapedefaults\":{\"line\":{\"color\":\"#2a3f5f\"}},\"ternary\":{\"aaxis\":{\"gridcolor\":\"white\",\"linecolor\":\"white\",\"ticks\":\"\"},\"baxis\":{\"gridcolor\":\"white\",\"linecolor\":\"white\",\"ticks\":\"\"},\"bgcolor\":\"#E5ECF6\",\"caxis\":{\"gridcolor\":\"white\",\"linecolor\":\"white\",\"ticks\":\"\"}},\"title\":{\"x\":0.05},\"xaxis\":{\"automargin\":true,\"gridcolor\":\"white\",\"linecolor\":\"white\",\"ticks\":\"\",\"title\":{\"standoff\":15},\"zerolinecolor\":\"white\",\"zerolinewidth\":2},\"yaxis\":{\"automargin\":true,\"gridcolor\":\"white\",\"linecolor\":\"white\",\"ticks\":\"\",\"title\":{\"standoff\":15},\"zerolinecolor\":\"white\",\"zerolinewidth\":2}}},\"title\":{\"font\":{\"color\":\"#4D5663\"}},\"xaxis\":{\"gridcolor\":\"#E1E5ED\",\"showgrid\":true,\"tickfont\":{\"color\":\"#4D5663\"},\"title\":{\"font\":{\"color\":\"#4D5663\"},\"text\":\"\"},\"zerolinecolor\":\"#E1E5ED\"},\"yaxis\":{\"gridcolor\":\"#E1E5ED\",\"showgrid\":true,\"tickfont\":{\"color\":\"#4D5663\"},\"title\":{\"font\":{\"color\":\"#4D5663\"},\"text\":\"\"},\"zerolinecolor\":\"#E1E5ED\"}},                        {\"showLink\": true, \"linkText\": \"Export to plot.ly\", \"plotlyServerURL\": \"https://plot.ly\", \"responsive\": true}                    ).then(function(){\n",
       "                            \n",
       "var gd = document.getElementById('92a7d334-1664-4254-8471-d155e79f7bb3');\n",
       "var x = new MutationObserver(function (mutations, observer) {{\n",
       "        var display = window.getComputedStyle(gd).display;\n",
       "        if (!display || display === 'none') {{\n",
       "            console.log([gd, 'removed!']);\n",
       "            Plotly.purge(gd);\n",
       "            observer.disconnect();\n",
       "        }}\n",
       "}});\n",
       "\n",
       "// Listen for the removal of the full notebook cells\n",
       "var notebookContainer = gd.closest('#notebook-container');\n",
       "if (notebookContainer) {{\n",
       "    x.observe(notebookContainer, {childList: true});\n",
       "}}\n",
       "\n",
       "// Listen for the clearing of the current output cell\n",
       "var outputEl = gd.closest('.output');\n",
       "if (outputEl) {{\n",
       "    x.observe(outputEl, {childList: true});\n",
       "}}\n",
       "\n",
       "                        })                };                });            </script>        </div>"
      ]
     },
     "metadata": {},
     "output_type": "display_data"
    }
   ],
   "source": [
    "#1\n",
    "#LineGraph\n",
    "a= input(\"Enter the section name:\")\n",
    "b= input(\"Enter the section name:\")\n",
    "c= input(\"Enter the section name:\")\n",
    "\n",
    "df.iplot(x=a,y=b,z=c)"
   ]
  },
  {
   "cell_type": "code",
   "execution_count": 67,
   "id": "0324f895",
   "metadata": {},
   "outputs": [
    {
     "name": "stdout",
     "output_type": "stream",
     "text": [
      "Enter the section name:temp\n",
      "Enter the section name:windspeed\n",
      "Enter the section name:humidity\n"
     ]
    },
    {
     "data": {
      "text/plain": [
       "<AxesSubplot:xlabel='temp', ylabel='windspeed'>"
      ]
     },
     "execution_count": 67,
     "metadata": {},
     "output_type": "execute_result"
    },
    {
     "data": {
      "image/png": "[encoded data removed]",
      "text/plain": [
       "<Figure size 432x288 with 2 Axes>"
      ]
     },
     "metadata": {
      "needs_background": "light"
     },
     "output_type": "display_data"
    }
   ],
   "source": [
    "#2\n",
    "#ScatterPlot\n",
    "t=input(\"Enter the section name:\")\n",
    "B=input(\"Enter the section name:\")\n",
    "d=input(\"Enter the section name:\")\n",
    "df.plot.scatter(x =A , y =B , c =  d,s = df[A]*1 )"
   ]
  },
  {
   "cell_type": "code",
   "execution_count": 97,
   "id": "3ad62dc6",
   "metadata": {},
   "outputs": [
    {
     "data": {
      "image/png": "[encoded data removed]",
      "text/plain": [
       "<Figure size 432x288 with 2 Axes>"
      ]
     },
     "metadata": {
      "needs_background": "light"
     },
     "output_type": "display_data"
    },
    {
     "data": {
      "text/plain": [
       "<Figure size 10800x7200 with 0 Axes>"
      ]
     },
     "metadata": {},
     "output_type": "display_data"
    }
   ],
   "source": [
    "\n",
    "df1=df.corr()\n",
    "sns.heatmap(df1)\n",
    "fig = plt.figure(figsize=(150,100))"
   ]
  },
  {
   "cell_type": "code",
   "execution_count": 7,
   "id": "e02df1df",
   "metadata": {},
   "outputs": [
    {
     "name": "stdout",
     "output_type": "stream",
     "text": [
      "Enter the number of sections you want:5\n",
      "Enter the name of section:temp\n",
      "Enter the name of section:humidity\n",
      "Enter the name of section:windspeed\n",
      "Enter the name of section:precip\n",
      "Enter the name of section:dew\n"
     ]
    },
    {
     "data": {
      "text/html": [
       "<div>\n",
       "<style scoped>\n",
       "    .dataframe tbody tr th:only-of-type {\n",
       "        vertical-align: middle;\n",
       "    }\n",
       "\n",
       "    .dataframe tbody tr th {\n",
       "        vertical-align: top;\n",
       "    }\n",
       "\n",
       "    .dataframe thead th {\n",
       "        text-align: right;\n",
       "    }\n",
       "</style>\n",
       "<table border=\"1\" class=\"dataframe\">\n",
       "  <thead>\n",
       "    <tr style=\"text-align: right;\">\n",
       "      <th></th>\n",
       "      <th>temp</th>\n",
       "      <th>humidity</th>\n",
       "      <th>windspeed</th>\n",
       "      <th>precip</th>\n",
       "      <th>dew</th>\n",
       "    </tr>\n",
       "  </thead>\n",
       "  <tbody>\n",
       "    <tr>\n",
       "      <th>temp</th>\n",
       "      <td>1.000000</td>\n",
       "      <td>-0.552217</td>\n",
       "      <td>0.274026</td>\n",
       "      <td>-0.038715</td>\n",
       "      <td>0.509496</td>\n",
       "    </tr>\n",
       "    <tr>\n",
       "      <th>humidity</th>\n",
       "      <td>-0.552217</td>\n",
       "      <td>1.000000</td>\n",
       "      <td>-0.193005</td>\n",
       "      <td>0.290309</td>\n",
       "      <td>0.413964</td>\n",
       "    </tr>\n",
       "    <tr>\n",
       "      <th>windspeed</th>\n",
       "      <td>0.274026</td>\n",
       "      <td>-0.193005</td>\n",
       "      <td>1.000000</td>\n",
       "      <td>0.122539</td>\n",
       "      <td>0.086793</td>\n",
       "    </tr>\n",
       "    <tr>\n",
       "      <th>precip</th>\n",
       "      <td>-0.038715</td>\n",
       "      <td>0.290309</td>\n",
       "      <td>0.122539</td>\n",
       "      <td>1.000000</td>\n",
       "      <td>0.206393</td>\n",
       "    </tr>\n",
       "    <tr>\n",
       "      <th>dew</th>\n",
       "      <td>0.509496</td>\n",
       "      <td>0.413964</td>\n",
       "      <td>0.086793</td>\n",
       "      <td>0.206393</td>\n",
       "      <td>1.000000</td>\n",
       "    </tr>\n",
       "  </tbody>\n",
       "</table>\n",
       "</div>"
      ],
      "text/plain": [
       "               temp  humidity  windspeed    precip       dew\n",
       "temp       1.000000 -0.552217   0.274026 -0.038715  0.509496\n",
       "humidity  -0.552217  1.000000  -0.193005  0.290309  0.413964\n",
       "windspeed  0.274026 -0.193005   1.000000  0.122539  0.086793\n",
       "precip    -0.038715  0.290309   0.122539  1.000000  0.206393\n",
       "dew        0.509496  0.413964   0.086793  0.206393  1.000000"
      ]
     },
     "execution_count": 7,
     "metadata": {},
     "output_type": "execute_result"
    }
   ],
   "source": [
    "#4\n",
    "#visualisingCorrelation\n",
    "l=[]\n",
    "l1=[]\n",
    "n= int(input(\"Enter the number of sections you want:\"))\n",
    "for i in range(n):\n",
    "    r=input(\"Enter the name of section:\")\n",
    "    l.append(r)\n",
    "l\n",
    "df2=df[l]\n",
    "df2.corr()\n",
    "\n"
   ]
  },
  {
   "cell_type": "code",
   "execution_count": 8,
   "id": "0b1c5887",
   "metadata": {},
   "outputs": [
    {
     "data": {
      "image/png": "[encoded data removed]",
      "text/plain": [
       "<Figure size 432x288 with 2 Axes>"
      ]
     },
     "metadata": {
      "needs_background": "light"
     },
     "output_type": "display_data"
    }
   ],
   "source": [
    "corr_heatmap=sns.heatmap(df2 ,cmap=\"RdBu\",annot=True,annot_kws ={'fontsize':11,'fontweight':'bold'})"
   ]
  },
  {
   "cell_type": "code",
   "execution_count": 9,
   "id": "d0b589a8",
   "metadata": {},
   "outputs": [
    {
     "data": {
      "text/plain": [
       "<AxesSubplot:>"
      ]
     },
     "execution_count": 9,
     "metadata": {},
     "output_type": "execute_result"
    }
   ],
   "source": [
    "corr_heatmap"
   ]
  },
  {
   "cell_type": "code",
   "execution_count": null,
   "id": "6480f97d",
   "metadata": {},
   "outputs": [],
   "source": []
  }
 ],
 "metadata": {
  "kernelspec": {
   "display_name": "Python 3 (ipykernel)",
   "language": "python",
   "name": "python3"
  },
  "language_info": {
   "codemirror_mode": {
    "name": "ipython",
    "version": 3
   },
   "file_extension": ".py",
   "mimetype": "text/x-python",
   "name": "python",
   "nbconvert_exporter": "python",
   "pygments_lexer": "ipython3",
   "version": "3.9.12"
  }
 },
 "nbformat": 4,
 "nbformat_minor": 5
}
