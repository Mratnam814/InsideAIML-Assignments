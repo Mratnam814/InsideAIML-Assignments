{
 "cells": [
  {
   "cell_type": "code",
   "execution_count": null,
   "id": "d763391d",
   "metadata": {},
   "outputs": [],
   "source": [
    "from flask import Flask ,request,jsonify\n",
    "app = Flask(__name__)\n",
    "@app.route('/abc1',methods =['GET','POST'])\n",
    "def test1():\n",
    "    if(request.method=='POST'):\n",
    "\n",
    "        time=request.json['num1']\n",
    "        todo=request.json['num2']\n",
    "        result = {time : todo}\n",
    "        return result\n",
    "\n",
    "if __name__=='__main__' :\n",
    "    app.run()\n"
   ]
  }
 ],
 "metadata": {
  "kernelspec": {
   "display_name": "Python 3 (ipykernel)",
   "language": "python",
   "name": "python3"
  },
  "language_info": {
   "codemirror_mode": {
    "name": "ipython",
    "version": 3
   },
   "file_extension": ".py",
   "mimetype": "text/x-python",
   "name": "python",
   "nbconvert_exporter": "python",
   "pygments_lexer": "ipython3",
   "version": "3.9.12"
  }
 },
 "nbformat": 4,
 "nbformat_minor": 5
}
