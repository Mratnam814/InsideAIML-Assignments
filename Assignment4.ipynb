{
 "cells": [
  {
   "cell_type": "code",
   "execution_count": 6,
   "id": "0b120b1e",
   "metadata": {},
   "outputs": [
    {
     "name": "stdout",
     "output_type": "stream",
     "text": [
      "number of temperatures:5\n",
      "enter the temperature: 23\n",
      "enter the temperature: 45\n",
      "enter the temperature: 67\n",
      "enter the temperature: 78\n",
      "enter the temperature: 98\n",
      "fahrenheit [23, 45, 67, 78, 98]\n",
      "celsius: [-395.59999999999997, -774.0, -1152.3999999999999, -1341.6, -1685.6]\n"
     ]
    }
   ],
   "source": [
    "#1\n",
    "f=[]\n",
    "c=[]\n",
    "n=int(input(\"number of temperatures:\"))\n",
    "for i in range(n):\n",
    "    temp=int(input(\"enter the temperature: \"))\n",
    "    f.append(temp)\n",
    "print(\"fahrenheit\",f)\n",
    "for k in f:\n",
    "    k = k * (-17.2)\n",
    "    c.append(k)\n",
    "print(\"celsius:\",c)"
   ]
  },
  {
   "cell_type": "code",
   "execution_count": 38,
   "id": "fd0d9ec2",
   "metadata": {},
   "outputs": [
    {
     "name": "stdout",
     "output_type": "stream",
     "text": [
      "{'three mistakes of my life': 'chetan bhagat'}\n"
     ]
    }
   ],
   "source": [
    "#2\n",
    "l=[\"three mistakes of my life\",\"chetan bhagat\"]\n",
    "s=dict()\n",
    "for i in range(len(l)-1):\n",
    "    s.update({l[i]:l[1]})\n",
    "print(s)\n",
    "    \n",
    "    \n",
    "    \n",
    "    \n"
   ]
  },
  {
   "cell_type": "code",
   "execution_count": 49,
   "id": "9e2a2a96",
   "metadata": {},
   "outputs": [
    {
     "name": "stdout",
     "output_type": "stream",
     "text": [
      "enter the number of elements you want:2\n",
      "Enter the name of grocery:paalak\n",
      "Enter the price of respective grocery23\n",
      "Enter the name of grocery:muli\n",
      "Enter the price of respective grocery45\n",
      "['paalak', 23, 'muli', 45]\n",
      "total is 68\n"
     ]
    }
   ],
   "source": [
    "#3\n",
    "l=[]\n",
    "n=int(input(\"enter the number of elements you want:\"))\n",
    "for i in range(n):\n",
    "    grocery=input(\"Enter the name of grocery:\")\n",
    "    price=int(input(\"Enter the price of respective grocery\"))\n",
    "    l.append(grocery)\n",
    "    l.append(price)\n",
    "print(l)\n",
    "sum=0\n",
    "for i in l:\n",
    "    if type(i)==int:\n",
    "        sum =sum + i\n",
    "print(\"total is\",sum)\n",
    "    "
   ]
  },
  {
   "cell_type": "code",
   "execution_count": 162,
   "id": "3e565873",
   "metadata": {},
   "outputs": [
    {
     "name": "stdout",
     "output_type": "stream",
     "text": [
      "enter the number of movies:4\n",
      "enter the name of movie:Chak De India\n",
      "enter the ratings4.8\n",
      "enter the name of movie:Mai Hoon Na\n",
      "enter the ratings4.5\n",
      "enter the name of movie:Rab Ne Bana Di Jodi\n",
      "enter the ratings4.9\n",
      "enter the name of movie:Ra-One\n",
      "enter the ratings5\n",
      "List of movies [(4.8, 'Chak De India'), (4.5, 'Mai Hoon Na'), (4.9, 'Rab Ne Bana Di Jodi'), (5.0, 'Ra-One')]\n",
      "['Ra-One', 'Rab Ne Bana Di Jodi', 'Chak De India', 'Mai Hoon Na']\n"
     ]
    }
   ],
   "source": [
    "#4\n",
    "n=int(input(\"enter the number of movies:\"))\n",
    "s=dict()\n",
    "l=[]\n",
    "l1=[]\n",
    "for i in range(n):\n",
    "    ele=input(\"enter the name of movie:\")\n",
    "    val=float(input(\"enter the ratings\"))\n",
    "    s.update({val:ele})\n",
    "print(\"List of movies\",list(s.items()))\n",
    "for k,v in s.items():\n",
    "    l.append(k)\n",
    "l.sort(reverse=True)\n",
    "for i in l:\n",
    "    l1.append(s[i])\n",
    "print(l1)\n",
    "    \n",
    "    \n",
    "    \n",
    "\n",
    "\n",
    "\n",
    "    "
   ]
  },
  {
   "cell_type": "code",
   "execution_count": 172,
   "id": "2e6a845e",
   "metadata": {},
   "outputs": [
    {
     "name": "stdout",
     "output_type": "stream",
     "text": [
      "number of students4\n",
      "enter the student's name:gyan chand\n",
      "enter the grade of respective student:8.8\n",
      "enter the student's name:dhyan chand\n",
      "enter the grade of respective student:9.8\n",
      "enter the student's name:prem chand\n",
      "enter the grade of respective student:6.8\n",
      "enter the student's name:mool chand\n",
      "enter the grade of respective student:10.0\n",
      "list of students [('gyan chand', 8.8), ('dhyan chand', 9.8), ('prem chand', 6.8), ('mool chand', 10.0)]\n",
      "{'gyan chand': 8.850000000000001, 'dhyan chand': 8.850000000000001, 'prem chand': 8.850000000000001, 'mool chand': 8.850000000000001}\n"
     ]
    }
   ],
   "source": [
    "#5\n",
    "n=int(input(\"number of students\"))\n",
    "p=dict()\n",
    "l=[]\n",
    "l1=[]\n",
    "l2=[]\n",
    "s=dict()\n",
    "for i in range(n):\n",
    "    name=input(\"enter the student's name:\")\n",
    "    grade=float(input(\"enter the grade of respective student:\"))\n",
    "    p.update({name:grade})\n",
    "print(\"list of students\",list(p.items()))\n",
    "for k,v in p.items():\n",
    "    l.append(k)\n",
    "    l1.append(v)\n",
    "    \n",
    "sum=0\n",
    "for j in (l1):\n",
    "    sum=sum+j\n",
    "avg=sum/len(l1)\n",
    "\n",
    "for m in l:\n",
    "    s.update({m:avg})\n",
    "print(s)\n",
    "    \n",
    "    \n",
    "    \n",
    "    \n",
    "\n",
    "    \n",
    "    \n",
    "\n",
    "    \n",
    "\n"
   ]
  },
  {
   "cell_type": "code",
   "execution_count": 178,
   "id": "2bdc784b",
   "metadata": {},
   "outputs": [
    {
     "name": "stdout",
     "output_type": "stream",
     "text": [
      "50\n",
      "1500\n"
     ]
    }
   ],
   "source": [
    "#6\n",
    "class inventory:\n",
    "    def __init__(shop,item_name,quantity,price):\n",
    "        shop.item_name=name\n",
    "        shop.quantity=quantity\n",
    "        shop.price=price\n",
    "retailer=inventory(\"daal\",50,1500)\n",
    "print(retailer.quantity)\n",
    "print(retailer.price)"
   ]
  },
  {
   "cell_type": "code",
   "execution_count": 179,
   "id": "56e21476",
   "metadata": {},
   "outputs": [
    {
     "name": "stdout",
     "output_type": "stream",
     "text": [
      "400000000000\n"
     ]
    }
   ],
   "source": [
    "#7\n",
    "class employee:\n",
    "    def __init__(ai,name,age,salary):\n",
    "        ai.name=name\n",
    "        ai.age=age\n",
    "        ai.salary=salary\n",
    "xiyong=employee(\"xiyong\",19,400000000000)\n",
    "print(xiyong.salary)\n",
    "        \n",
    "\n"
   ]
  },
  {
   "cell_type": "code",
   "execution_count": 183,
   "id": "f0e4cd51",
   "metadata": {},
   "outputs": [
    {
     "name": "stdout",
     "output_type": "stream",
     "text": [
      "7867676776\n"
     ]
    }
   ],
   "source": [
    "#8\n",
    "class account:\n",
    "    def __init__(ni,acc_no,bal,int_rate):\n",
    "        ni.acc_no=acc_no\n",
    "        ni.bal=bal\n",
    "        ni.int_rate=int_rate\n",
    "xiyong=account(\"7867676776\",19,400000000000)\n",
    "print(xiyong.acc_no)\n",
    "        \n"
   ]
  },
  {
   "cell_type": "code",
   "execution_count": 184,
   "id": "8ffe1a13",
   "metadata": {},
   "outputs": [
    {
     "name": "stdout",
     "output_type": "stream",
     "text": [
      "1081\n"
     ]
    }
   ],
   "source": [
    "#9\n",
    "class patient:\n",
    "    def __init__(su,name,age,medical_history):\n",
    "        su.name=name\n",
    "        su.age=age\n",
    "        su.medical_history=medical_history\n",
    "ducim=patient(\"ducim\",\"1081\",\"nil\")\n",
    "print(ducim.age)"
   ]
  },
  {
   "cell_type": "code",
   "execution_count": 185,
   "id": "c5e7fd3b",
   "metadata": {},
   "outputs": [
    {
     "name": "stdout",
     "output_type": "stream",
     "text": [
      "soap\n"
     ]
    }
   ],
   "source": [
    "#10\n",
    "class order:\n",
    "    def __init__(tu,cust_n,order_detail,total_amount):\n",
    "        tu.cust_n=name\n",
    "        tu.order_detail=order_detail\n",
    "        tu.total_amount=total_amount\n",
    "tirak=order(\"tirak\",\"soap\",786556)\n",
    "print(tirak.order_detail)"
   ]
  },
  {
   "cell_type": "code",
   "execution_count": null,
   "id": "6499c351",
   "metadata": {},
   "outputs": [],
   "source": []
  }
 ],
 "metadata": {
  "kernelspec": {
   "display_name": "Python 3 (ipykernel)",
   "language": "python",
   "name": "python3"
  },
  "language_info": {
   "codemirror_mode": {
    "name": "ipython",
    "version": 3
   },
   "file_extension": ".py",
   "mimetype": "text/x-python",
   "name": "python",
   "nbconvert_exporter": "python",
   "pygments_lexer": "ipython3",
   "version": "3.9.12"
  }
 },
 "nbformat": 4,
 "nbformat_minor": 5
}
