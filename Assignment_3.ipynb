{
 "cells": [
  {
   "cell_type": "code",
   "execution_count": 124,
   "id": "3d3f94b4",
   "metadata": {},
   "outputs": [
    {
     "name": "stdout",
     "output_type": "stream",
     "text": [
      "enter the number of items:3\n",
      "enter the number of items:3\n",
      "12\n",
      "34\n",
      "56\n",
      "[12, 34, 56]\n",
      "56\n",
      "7\n",
      "88\n",
      "[56, 7, 88]\n",
      "[56, 56]\n"
     ]
    }
   ],
   "source": [
    "#1\n",
    "l=[]\n",
    "l1=[]\n",
    "l2=[]\n",
    "n=eval(input(\"enter the number of items:\"))\n",
    "n1=eval(input(\"enter the number of items:\"))\n",
    "for i in range(n):\n",
    "    p=int(input())\n",
    "    l.append(p)\n",
    "print(l)\n",
    "for k in range(n1):\n",
    "    t=int(input())\n",
    "    l1.append(t)\n",
    "print(l1)\n",
    "D=l+l1\n",
    "for m in D:\n",
    "    if D.count(m)>1:\n",
    "        l2.append(m)\n",
    "print(l2)\n",
    "    \n",
    "    \n",
    "\n",
    "\n"
   ]
  },
  {
   "cell_type": "code",
   "execution_count": null,
   "id": "5e277c89",
   "metadata": {},
   "outputs": [],
   "source": []
  },
  {
   "cell_type": "code",
   "execution_count": 122,
   "id": "fca4af17",
   "metadata": {},
   "outputs": [
    {
     "name": "stdout",
     "output_type": "stream",
     "text": [
      "Enter the string:human\n",
      "Enter the str:hu\n",
      "No\n"
     ]
    }
   ],
   "source": [
    "#2\n",
    "sub_str=input(\"Enter the string:\")\n",
    "s1=input(\"Enter the str:\")\n",
    "if sub_str in s1:\n",
    "    print(\"yes\")\n",
    "else:\n",
    "    print(\"No\")\n",
    "\n"
   ]
  },
  {
   "cell_type": "code",
   "execution_count": 125,
   "id": "41ed7597",
   "metadata": {},
   "outputs": [
    {
     "name": "stdout",
     "output_type": "stream",
     "text": [
      "enter the number of items:3\n",
      "enter the number of items:3\n",
      "12\n",
      "34\n",
      "56\n",
      "[12, 34, 56]\n",
      "78\n",
      "56\n",
      "34\n",
      "[78, 56, 34]\n",
      "[56, 34]\n"
     ]
    }
   ],
   "source": [
    "#3\n",
    "l=[]\n",
    "l1=[]\n",
    "l2=[]\n",
    "n=eval(input(\"enter the number of items:\"))\n",
    "n1=eval(input(\"enter the number of items:\"))\n",
    "for i in range(n):\n",
    "    p=int(input())\n",
    "    l.append(p)\n",
    "print(l)\n",
    "for k in range(n1):\n",
    "    t=int(input())\n",
    "    l1.append(t)\n",
    "print(l1)\n",
    "D=l+l1\n",
    "for m in D:\n",
    "    if D.count(m)>1:\n",
    "        l2.append(m)\n",
    "print(list(set(l2)))"
   ]
  },
  {
   "cell_type": "code",
   "execution_count": 140,
   "id": "8c619afd",
   "metadata": {},
   "outputs": [
    {
     "name": "stdout",
     "output_type": "stream",
     "text": [
      "no. of items related to strings3\n",
      "Enter the strings:world\n",
      "Enter the strings:is\n",
      "Enter the strings:awesome\n",
      "['world', 'is', 'awesome']\n",
      "world 5\n",
      "is 2\n",
      "awesome 7\n"
     ]
    }
   ],
   "source": [
    "#4 \n",
    "l=[]\n",
    "n=int(input(\"no. of items related to strings\"))\n",
    "for i in range(n):\n",
    "    ele = input(\"Enter the strings:\")\n",
    "    l.append(ele)\n",
    "print(l)\n",
    "    \n",
    "for i in l:\n",
    "    count=0\n",
    "    for j in i:\n",
    "        count=count+1\n",
    "    print(i,count)\n",
    "    \n",
    "\n",
    "\n",
    "\n",
    "    \n"
   ]
  },
  {
   "cell_type": "code",
   "execution_count": 5,
   "id": "d01ae0c0",
   "metadata": {},
   "outputs": [
    {
     "name": "stdout",
     "output_type": "stream",
     "text": [
      "no.of items related to strings4\n",
      "enter the strings:fdfdsfdsgds\n",
      "enter the strings:dsaf\n",
      "enter the strings:dfdsf\n",
      "enter the strings:dss\n",
      "{'dss', 'fdfdsfdsgds', 'dfdsf', 'dsaf'}\n",
      "{'fdfdsfdsgds', 'dfdsf'}\n"
     ]
    }
   ],
   "source": [
    "#5\n",
    "k = set()\n",
    "m = set()\n",
    "n=eval(input(\"no.of items related to strings\"))\n",
    "for i in range(n):\n",
    "    ele = input(\"enter the strings:\")\n",
    "    k.add(ele)\n",
    "print(k)\n",
    "for i in k:\n",
    "    if len(i)>=5 :\n",
    "        m.add(i)\n",
    "print(m)\n"
   ]
  },
  {
   "cell_type": "code",
   "execution_count": 6,
   "id": "609a5a0c",
   "metadata": {},
   "outputs": [
    {
     "name": "stdout",
     "output_type": "stream",
     "text": [
      "no. of items in the set:7\n",
      "enter the numbers:12\n",
      "enter the numbers:23\n",
      "enter the numbers:45\n",
      "enter the numbers:67\n",
      "enter the numbers:456\n",
      "enter the numbers:789\n",
      "enter the numbers:45\n",
      "{67, 456, 12, 45, 789, 23}\n",
      "{789, 67, 45, 23}\n"
     ]
    }
   ],
   "source": [
    "#6\n",
    "t=set()\n",
    "w=set()\n",
    "n=int(input(\"no. of items in the set:\"))\n",
    "for i in range(n):\n",
    "    ele=int(input(\"enter the numbers:\"))\n",
    "    t.add(ele)\n",
    "print(t)\n",
    "for i in t:\n",
    "    if i%2 != 0:\n",
    "        w.add(i)\n",
    "print(w)\n",
    "        "
   ]
  },
  {
   "cell_type": "code",
   "execution_count": 8,
   "id": "67e4e11c",
   "metadata": {},
   "outputs": [
    {
     "name": "stdout",
     "output_type": "stream",
     "text": [
      "no. of items in dictionary:4\n",
      "enter the keys:100\n",
      "enter the value:human\n",
      "enter the keys:200\n",
      "enter the value:beings\n",
      "enter the keys:300\n",
      "enter the value:are\n",
      "enter the keys:400\n",
      "enter the value:great\n",
      "{100: 'human', 200: 'beings', 300: 'are', 400: 'great'}\n",
      "400\n"
     ]
    }
   ],
   "source": [
    "#7\n",
    "k= dict()\n",
    "n=int(input(\"no. of items in dictionary:\"))\n",
    "for i in range(n):\n",
    "    ele=int(input(\"enter the keys:\"))\n",
    "    val=input(\"enter the value:\")\n",
    "    k.update({ele:val})\n",
    "    \n",
    "print(k)\n",
    "print(max(k.keys()))\n"
   ]
  },
  {
   "cell_type": "code",
   "execution_count": 15,
   "id": "9c76a790",
   "metadata": {},
   "outputs": [
    {
     "name": "stdout",
     "output_type": "stream",
     "text": [
      "number of elements in the set:3\n",
      "elements:12\n",
      "elements:34\n",
      "elements:56\n",
      "{56, 34, 12}\n",
      "elements:12\n",
      "elements:45\n",
      "elements:67\n",
      "{67, 12, 45}\n"
     ]
    },
    {
     "data": {
      "text/plain": [
       "{12, 34, 45, 56, 67}"
      ]
     },
     "execution_count": 15,
     "metadata": {},
     "output_type": "execute_result"
    }
   ],
   "source": [
    "#8\n",
    "j=set()\n",
    "z=set()\n",
    "l=[]\n",
    "n=eval(input(\"number of elements in the set:\"))\n",
    "for i in range (n) :\n",
    "    ele=eval(input(\"elements:\"))\n",
    "    j.add(ele)\n",
    "print(j)\n",
    "for k in range (n):\n",
    "    ele1=eval(input(\"elements:\"))\n",
    "    z.add(ele1)\n",
    "print(z)\n",
    "for t in j:\n",
    "    l.append(t)\n",
    "for h in z:\n",
    "    l.append(h)\n",
    "set(l)\n"
   ]
  },
  {
   "cell_type": "code",
   "execution_count": 5,
   "id": "9ae6f62c",
   "metadata": {},
   "outputs": [
    {
     "name": "stdout",
     "output_type": "stream",
     "text": [
      "no. of items in dictionary:2\n",
      "enter the keys:\"human\"\n",
      "enter the value:100\n",
      "enter the keys:\"ox\"\n",
      "enter the value:50\n",
      "no. of items in dictionary:2\n",
      "enter the keys:\"being\"\n",
      "enter the value:100\n",
      "enter the keys:\"buffalo\"\n",
      "enter the value:80\n",
      "list [{'human': 100, 'ox': 50}, {'being': 100, 'buffalo': 80}]\n",
      "[{100: ['human', 'being']}]\n"
     ]
    }
   ],
   "source": [
    "#9\n",
    "k= dict()\n",
    "x= dict()\n",
    "l=[]\n",
    "n=int(input(\"no. of items in dictionary:\"))\n",
    "for i in range(n):\n",
    "    ele=eval(input(\"enter the keys:\"))\n",
    "    val=eval(input(\"enter the value:\"))\n",
    "    k.update({ele:val})\n",
    "\n",
    "p= dict()\n",
    "n=int(input(\"no. of items in dictionary:\"))\n",
    "for i in range(n):\n",
    "    ele1=eval(input(\"enter the keys:\"))\n",
    "    val1=eval(input(\"enter the value:\"))\n",
    "    p.update({ele1:val1})\n",
    "\n",
    "s=[k,p]\n",
    "print(\"list is :\",s)\n",
    "for m in k:\n",
    "    for n in p:\n",
    "        if k[m] == p[n]:\n",
    "            x.update({k[m]:[m,n]})\n",
    "            \n",
    "l.append(x)\n",
    "print(l)\n",
    "\n",
    "        \n",
    "        \n",
    "    \n",
    "        "
   ]
  },
  {
   "cell_type": "code",
   "execution_count": 9,
   "id": "fe6e0d68",
   "metadata": {
    "scrolled": true
   },
   "outputs": [
    {
     "name": "stdout",
     "output_type": "stream",
     "text": [
      "number of items in dictionary:2\n",
      "enter the keys:book\n",
      "enter the values:philosophy\n",
      "enter the keys:interest\n",
      "enter the values:artificial intelligence\n",
      "{'book': 'philosophy', 'interest': 'artificial intelligence'}\n"
     ]
    }
   ],
   "source": [
    "#10\n",
    "j=dict()\n",
    "n=int(input(\"number of items in dictionary:\"))\n",
    "for i in range(n):\n",
    "    ele4=input(\"enter the keys:\")\n",
    "    l.append(ele)\n",
    "    val4=input(\"enter the values:\")\n",
    "    j.update({ele4:val4})\n",
    "print(j)\n",
    "\n",
    "    \n",
    "\n"
   ]
  },
  {
   "cell_type": "code",
   "execution_count": 13,
   "id": "29d361c5",
   "metadata": {},
   "outputs": [
    {
     "name": "stdout",
     "output_type": "stream",
     "text": [
      "enter the lower limit of number1\n",
      "enter the upper limit of number10\n",
      "55\n"
     ]
    }
   ],
   "source": [
    "#11\n",
    "lower_limit = int(input(\"enter the lower limit of number\"))\n",
    "upper_limit = int(input(\"enter the upper limit of number\"))\n",
    "sum=0\n",
    "for i in range(lower_limit,upper_limit+1):\n",
    "    sum = sum + i\n",
    "print(sum)\n",
    "    "
   ]
  },
  {
   "cell_type": "code",
   "execution_count": 33,
   "id": "3f9c4360",
   "metadata": {},
   "outputs": [
    {
     "name": "stdout",
     "output_type": "stream",
     "text": [
      "enter the number of elements you want:5\n",
      "enter the integers:45\n",
      "enter the integers:76765\n",
      "enter the integers:8778\n",
      "enter the integers:655\n",
      "enter the integers:65\n",
      "[45, 76765, 8778, 655, 65]\n",
      "65\n"
     ]
    }
   ],
   "source": [
    "#12\n",
    "l=[]\n",
    "n=int(input(\"enter the number of elements you want:\"))\n",
    "for i in range(n):\n",
    "    ele=int(input(\"enter the integers:\"))\n",
    "    l.append(ele)\n",
    "print(l)\n",
    "l.sort()\n",
    "for i in range(len(l)):\n",
    "    if i == 1:\n",
    "        print(l[i])\n",
    "        break"
   ]
  },
  {
   "cell_type": "code",
   "execution_count": 75,
   "id": "c98838e3",
   "metadata": {},
   "outputs": [
    {
     "name": "stdout",
     "output_type": "stream",
     "text": [
      "enter the number of strings you want:2\n",
      "enter the string :high\n",
      "enter the string :terrific\n",
      "['high', 'terrific']\n",
      "high : 1\n",
      "terrific : 3\n"
     ]
    }
   ],
   "source": [
    "#13\n",
    "l=[]\n",
    "l1=[]\n",
    "vow='aAeEiIoOuU'\n",
    "n=int(input(\"enter the number of strings you want:\"))\n",
    "for i in range(n):\n",
    "    ele=input(\"enter the string :\")\n",
    "    l.append(ele)\n",
    "print(l)\n",
    "for i in l:\n",
    "    count=0\n",
    "    for j in i:\n",
    "        \n",
    "        if j in vow:\n",
    "            count=count+1\n",
    "            \n",
    "            \n",
    "    print(i,\":\",count)\n",
    "    \n",
    "    \n",
    "    \n",
    "        \n",
    "    \n",
    "    \n"
   ]
  },
  {
   "cell_type": "code",
   "execution_count": 106,
   "id": "b20aec88",
   "metadata": {},
   "outputs": [
    {
     "name": "stdout",
     "output_type": "stream",
     "text": [
      "enter the number:407\n",
      "its an armstrong number\n"
     ]
    }
   ],
   "source": [
    "#14\n",
    "n=int(input(\"enter the number:\"))\n",
    "m=n\n",
    "mul = 1\n",
    "sum=0\n",
    "\n",
    "while n>0:\n",
    "    i = n % 10\n",
    "    mul= i**3\n",
    "    n= n//10\n",
    "    sum= sum + mul\n",
    "    \n",
    "if m == sum:\n",
    "    print(\"its an armstrong number\")\n",
    "else:\n",
    "    print(\"no,its not an armstrong number\")\n",
    "\n",
    "    \n",
    "    \n",
    "    \n",
    "    \n",
    "    \n"
   ]
  },
  {
   "cell_type": "code",
   "execution_count": 119,
   "id": "9550bc13",
   "metadata": {},
   "outputs": [
    {
     "name": "stdout",
     "output_type": "stream",
     "text": [
      "enter the number:1\n",
      "enter the number:50\n",
      "1\n",
      "2\n",
      "3\n",
      "5\n",
      "7\n",
      "11\n",
      "13\n",
      "17\n",
      "19\n",
      "23\n",
      "29\n",
      "31\n",
      "37\n",
      "41\n",
      "43\n",
      "47\n"
     ]
    }
   ],
   "source": [
    "#15\n",
    "lower_limit = int(input(\"enter the number:\"))\n",
    "upper_limit = int(input(\"enter the number:\"))\n",
    "l=[]\n",
    "for i in range(lower_limit,upper_limit):\n",
    "    for j in range(2,i):\n",
    "        if i%j==0:\n",
    "            break\n",
    "    else:\n",
    "        print(i)"
   ]
  },
  {
   "cell_type": "code",
   "execution_count": null,
   "id": "5291fd87",
   "metadata": {},
   "outputs": [],
   "source": []
  },
  {
   "cell_type": "code",
   "execution_count": null,
   "id": "c398d323",
   "metadata": {},
   "outputs": [],
   "source": []
  },
  {
   "cell_type": "code",
   "execution_count": null,
   "id": "3ce9296c",
   "metadata": {},
   "outputs": [],
   "source": []
  },
  {
   "cell_type": "code",
   "execution_count": null,
   "id": "97121e27",
   "metadata": {},
   "outputs": [],
   "source": []
  }
 ],
 "metadata": {
  "kernelspec": {
   "display_name": "Python 3 (ipykernel)",
   "language": "python",
   "name": "python3"
  },
  "language_info": {
   "codemirror_mode": {
    "name": "ipython",
    "version": 3
   },
   "file_extension": ".py",
   "mimetype": "text/x-python",
   "name": "python",
   "nbconvert_exporter": "python",
   "pygments_lexer": "ipython3",
   "version": "3.9.12"
  }
 },
 "nbformat": 4,
 "nbformat_minor": 5
}
