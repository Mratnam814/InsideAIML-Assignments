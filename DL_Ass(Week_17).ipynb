{
  "nbformat": 4,
  "nbformat_minor": 0,
  "metadata": {
    "colab": {
      "provenance": []
    },
    "kernelspec": {
      "name": "python3",
      "display_name": "Python 3"
    },
    "language_info": {
      "name": "python"
    }
  },
  "cells": [
    {
      "cell_type": "code",
      "execution_count": 379,
      "metadata": {
        "id": "8amS8UOlQt20"
      },
      "outputs": [],
      "source": [
        "import pandas as pd\n",
        "import numpy as np\n",
        "import matplotlib.pyplot as plt\n",
        "import tensorflow"
      ]
    },
    {
      "cell_type": "code",
      "source": [
        "#1\n",
        "data=pd.read_excel(\"/content/Concrete_Data.xls\")"
      ],
      "metadata": {
        "id": "WfiUw5QVRBDK"
      },
      "execution_count": 380,
      "outputs": []
    },
    {
      "cell_type": "code",
      "source": [
        "data.shape"
      ],
      "metadata": {
        "colab": {
          "base_uri": "https://localhost:8080/"
        },
        "id": "wiaMM2hrR79s",
        "outputId": "3643bdef-bc21-4b5b-bf1b-5d4b8499c904"
      },
      "execution_count": 381,
      "outputs": [
        {
          "output_type": "execute_result",
          "data": {
            "text/plain": [
              "(1030, 9)"
            ]
          },
          "metadata": {},
          "execution_count": 381
        }
      ]
    },
    {
      "cell_type": "code",
      "source": [
        "data.columns"
      ],
      "metadata": {
        "colab": {
          "base_uri": "https://localhost:8080/"
        },
        "id": "5eMksYz0SCkG",
        "outputId": "1e9842c6-63a1-49ce-d068-2632fd76d666"
      },
      "execution_count": 382,
      "outputs": [
        {
          "output_type": "execute_result",
          "data": {
            "text/plain": [
              "Index(['Cement (component 1)(kg in a m^3 mixture)',\n",
              "       'Blast Furnace Slag (component 2)(kg in a m^3 mixture)',\n",
              "       'Fly Ash (component 3)(kg in a m^3 mixture)',\n",
              "       'Water  (component 4)(kg in a m^3 mixture)',\n",
              "       'Superplasticizer (component 5)(kg in a m^3 mixture)',\n",
              "       'Coarse Aggregate  (component 6)(kg in a m^3 mixture)',\n",
              "       'Fine Aggregate (component 7)(kg in a m^3 mixture)', 'Age (day)',\n",
              "       'Concrete compressive strength(MPa, megapascals) '],\n",
              "      dtype='object')"
            ]
          },
          "metadata": {},
          "execution_count": 382
        }
      ]
    },
    {
      "cell_type": "code",
      "source": [
        "data.isnull().sum().sum()"
      ],
      "metadata": {
        "colab": {
          "base_uri": "https://localhost:8080/"
        },
        "id": "FAV-ofgcSOh9",
        "outputId": "6cf43038-9fd8-40d4-d576-ee1d329c1086"
      },
      "execution_count": 383,
      "outputs": [
        {
          "output_type": "execute_result",
          "data": {
            "text/plain": [
              "0"
            ]
          },
          "metadata": {},
          "execution_count": 383
        }
      ]
    },
    {
      "cell_type": "code",
      "source": [
        "#2\n",
        "from sklearn.model_selection import train_test_split\n",
        "from sklearn.preprocessing import StandardScaler\n",
        "scaler = StandardScaler()\n",
        "X= data.iloc[:,:-1].values\n",
        "y= data.iloc[:,-1:].values\n",
        "X=scaler.fit_transform(X)\n",
        "y=scaler.fit_transform(y)\n",
        "X_train,X_test,y_train,y_test=train_test_split(X,y,train_size=0.8,test_size=0.2)\n",
        "print(X_train.shape)\n",
        "print(X_test.shape)\n",
        "print(y_train.shape)\n",
        "print(y_test.shape)"
      ],
      "metadata": {
        "colab": {
          "base_uri": "https://localhost:8080/"
        },
        "id": "b-szElooSsvy",
        "outputId": "25c69db0-3ac8-4726-ea2d-7227b58aa11c"
      },
      "execution_count": 384,
      "outputs": [
        {
          "output_type": "stream",
          "name": "stdout",
          "text": [
            "(824, 8)\n",
            "(206, 8)\n",
            "(824, 1)\n",
            "(206, 1)\n"
          ]
        }
      ]
    },
    {
      "cell_type": "code",
      "source": [
        "#3\n",
        "import tensorflow.keras\n",
        "from tensorflow.keras.models import Sequential\n",
        "from tensorflow.keras.layers import Dense\n",
        "from tensorflow.keras.layers import ReLU,LeakyReLU,ELU,PReLU\n",
        "\n",
        "\n",
        "\n"
      ],
      "metadata": {
        "id": "TPTOaDRGdUpW"
      },
      "execution_count": 385,
      "outputs": []
    },
    {
      "cell_type": "code",
      "source": [
        "\n",
        "#in the problem statement ,it is stated to provide 10 inputs but according to the data ,only 8 can be provided in the best scenario.\n",
        "classifier=Sequential()\n",
        "\n",
        "classifier.add(Dense(units=10,activation='relu',input_dim =8))\n",
        "\n",
        "classifier.add(Dense(units = 1, activation = 'linear'))"
      ],
      "metadata": {
        "id": "ONd1zXRBePwF"
      },
      "execution_count": 386,
      "outputs": []
    },
    {
      "cell_type": "code",
      "source": [
        "#4\n",
        "from sklearn.metrics import r2_score\n",
        "classifier.compile(optimizer=\"Adam\",loss=\"mean_squared_error\")\n",
        "classifier.summary()"
      ],
      "metadata": {
        "colab": {
          "base_uri": "https://localhost:8080/"
        },
        "id": "9XcyJwNVjDiJ",
        "outputId": "0212984b-01ea-48eb-dd97-4c8e150e4944"
      },
      "execution_count": 387,
      "outputs": [
        {
          "output_type": "stream",
          "name": "stdout",
          "text": [
            "Model: \"sequential_1\"\n",
            "_________________________________________________________________\n",
            " Layer (type)                Output Shape              Param #   \n",
            "=================================================================\n",
            " dense_16 (Dense)            (None, 10)                90        \n",
            "                                                                 \n",
            " dense_17 (Dense)            (None, 1)                 11        \n",
            "                                                                 \n",
            "=================================================================\n",
            "Total params: 101 (404.00 Byte)\n",
            "Trainable params: 101 (404.00 Byte)\n",
            "Non-trainable params: 0 (0.00 Byte)\n",
            "_________________________________________________________________\n"
          ]
        }
      ]
    },
    {
      "cell_type": "code",
      "source": [
        "#5\n",
        "model_history=classifier.fit(X_train,y_train,batch_size=10,epochs=100)"
      ],
      "metadata": {
        "colab": {
          "base_uri": "https://localhost:8080/"
        },
        "id": "o0cv3evQkZ82",
        "outputId": "c2917d7c-fcbf-4cd2-c8a9-086e28f92f1b"
      },
      "execution_count": 388,
      "outputs": [
        {
          "output_type": "stream",
          "name": "stdout",
          "text": [
            "Epoch 1/100\n",
            "83/83 [==============================] - 1s 2ms/step - loss: 0.9802\n",
            "Epoch 2/100\n",
            "83/83 [==============================] - 0s 1ms/step - loss: 0.6514\n",
            "Epoch 3/100\n",
            "83/83 [==============================] - 0s 2ms/step - loss: 0.5210\n",
            "Epoch 4/100\n",
            "83/83 [==============================] - 0s 2ms/step - loss: 0.4537\n",
            "Epoch 5/100\n",
            "83/83 [==============================] - 0s 2ms/step - loss: 0.4135\n",
            "Epoch 6/100\n",
            "83/83 [==============================] - 0s 2ms/step - loss: 0.3812\n",
            "Epoch 7/100\n",
            "83/83 [==============================] - 0s 2ms/step - loss: 0.3573\n",
            "Epoch 8/100\n",
            "83/83 [==============================] - 0s 2ms/step - loss: 0.3383\n",
            "Epoch 9/100\n",
            "83/83 [==============================] - 0s 2ms/step - loss: 0.3226\n",
            "Epoch 10/100\n",
            "83/83 [==============================] - 0s 2ms/step - loss: 0.3095\n",
            "Epoch 11/100\n",
            "83/83 [==============================] - 0s 2ms/step - loss: 0.2971\n",
            "Epoch 12/100\n",
            "83/83 [==============================] - 0s 2ms/step - loss: 0.2867\n",
            "Epoch 13/100\n",
            "83/83 [==============================] - 0s 1ms/step - loss: 0.2777\n",
            "Epoch 14/100\n",
            "83/83 [==============================] - 0s 1ms/step - loss: 0.2695\n",
            "Epoch 15/100\n",
            "83/83 [==============================] - 0s 2ms/step - loss: 0.2605\n",
            "Epoch 16/100\n",
            "83/83 [==============================] - 0s 1ms/step - loss: 0.2527\n",
            "Epoch 17/100\n",
            "83/83 [==============================] - 0s 1ms/step - loss: 0.2452\n",
            "Epoch 18/100\n",
            "83/83 [==============================] - 0s 1ms/step - loss: 0.2387\n",
            "Epoch 19/100\n",
            "83/83 [==============================] - 0s 1ms/step - loss: 0.2324\n",
            "Epoch 20/100\n",
            "83/83 [==============================] - 0s 1ms/step - loss: 0.2260\n",
            "Epoch 21/100\n",
            "83/83 [==============================] - 0s 1ms/step - loss: 0.2212\n",
            "Epoch 22/100\n",
            "83/83 [==============================] - 0s 1ms/step - loss: 0.2177\n",
            "Epoch 23/100\n",
            "83/83 [==============================] - 0s 1ms/step - loss: 0.2122\n",
            "Epoch 24/100\n",
            "83/83 [==============================] - 0s 1ms/step - loss: 0.2092\n",
            "Epoch 25/100\n",
            "83/83 [==============================] - 0s 1ms/step - loss: 0.2061\n",
            "Epoch 26/100\n",
            "83/83 [==============================] - 0s 1ms/step - loss: 0.2019\n",
            "Epoch 27/100\n",
            "83/83 [==============================] - 0s 1ms/step - loss: 0.1983\n",
            "Epoch 28/100\n",
            "83/83 [==============================] - 0s 1ms/step - loss: 0.1947\n",
            "Epoch 29/100\n",
            "83/83 [==============================] - 0s 1ms/step - loss: 0.1912\n",
            "Epoch 30/100\n",
            "83/83 [==============================] - 0s 1ms/step - loss: 0.1892\n",
            "Epoch 31/100\n",
            "83/83 [==============================] - 0s 1ms/step - loss: 0.1867\n",
            "Epoch 32/100\n",
            "83/83 [==============================] - 0s 1ms/step - loss: 0.1836\n",
            "Epoch 33/100\n",
            "83/83 [==============================] - 0s 1ms/step - loss: 0.1821\n",
            "Epoch 34/100\n",
            "83/83 [==============================] - 0s 1ms/step - loss: 0.1796\n",
            "Epoch 35/100\n",
            "83/83 [==============================] - 0s 1ms/step - loss: 0.1772\n",
            "Epoch 36/100\n",
            "83/83 [==============================] - 0s 1ms/step - loss: 0.1761\n",
            "Epoch 37/100\n",
            "83/83 [==============================] - 0s 1ms/step - loss: 0.1733\n",
            "Epoch 38/100\n",
            "83/83 [==============================] - 0s 1ms/step - loss: 0.1723\n",
            "Epoch 39/100\n",
            "83/83 [==============================] - 0s 1ms/step - loss: 0.1708\n",
            "Epoch 40/100\n",
            "83/83 [==============================] - 0s 1ms/step - loss: 0.1683\n",
            "Epoch 41/100\n",
            "83/83 [==============================] - 0s 1ms/step - loss: 0.1663\n",
            "Epoch 42/100\n",
            "83/83 [==============================] - 0s 1ms/step - loss: 0.1649\n",
            "Epoch 43/100\n",
            "83/83 [==============================] - 0s 1ms/step - loss: 0.1639\n",
            "Epoch 44/100\n",
            "83/83 [==============================] - 0s 1ms/step - loss: 0.1618\n",
            "Epoch 45/100\n",
            "83/83 [==============================] - 0s 1ms/step - loss: 0.1616\n",
            "Epoch 46/100\n",
            "83/83 [==============================] - 0s 2ms/step - loss: 0.1604\n",
            "Epoch 47/100\n",
            "83/83 [==============================] - 0s 1ms/step - loss: 0.1592\n",
            "Epoch 48/100\n",
            "83/83 [==============================] - 0s 1ms/step - loss: 0.1578\n",
            "Epoch 49/100\n",
            "83/83 [==============================] - 0s 1ms/step - loss: 0.1576\n",
            "Epoch 50/100\n",
            "83/83 [==============================] - 0s 1ms/step - loss: 0.1550\n",
            "Epoch 51/100\n",
            "83/83 [==============================] - 0s 1ms/step - loss: 0.1545\n",
            "Epoch 52/100\n",
            "83/83 [==============================] - 0s 1ms/step - loss: 0.1531\n",
            "Epoch 53/100\n",
            "83/83 [==============================] - 0s 1ms/step - loss: 0.1524\n",
            "Epoch 54/100\n",
            "83/83 [==============================] - 0s 1ms/step - loss: 0.1520\n",
            "Epoch 55/100\n",
            "83/83 [==============================] - 0s 1ms/step - loss: 0.1508\n",
            "Epoch 56/100\n",
            "83/83 [==============================] - 0s 1ms/step - loss: 0.1490\n",
            "Epoch 57/100\n",
            "83/83 [==============================] - 0s 1ms/step - loss: 0.1490\n",
            "Epoch 58/100\n",
            "83/83 [==============================] - 0s 1ms/step - loss: 0.1491\n",
            "Epoch 59/100\n",
            "83/83 [==============================] - 0s 1ms/step - loss: 0.1467\n",
            "Epoch 60/100\n",
            "83/83 [==============================] - 0s 1ms/step - loss: 0.1460\n",
            "Epoch 61/100\n",
            "83/83 [==============================] - 0s 1ms/step - loss: 0.1456\n",
            "Epoch 62/100\n",
            "83/83 [==============================] - 0s 1ms/step - loss: 0.1438\n",
            "Epoch 63/100\n",
            "83/83 [==============================] - 0s 1ms/step - loss: 0.1434\n",
            "Epoch 64/100\n",
            "83/83 [==============================] - 0s 1ms/step - loss: 0.1422\n",
            "Epoch 65/100\n",
            "83/83 [==============================] - 0s 1ms/step - loss: 0.1421\n",
            "Epoch 66/100\n",
            "83/83 [==============================] - 0s 1ms/step - loss: 0.1419\n",
            "Epoch 67/100\n",
            "83/83 [==============================] - 0s 1ms/step - loss: 0.1410\n",
            "Epoch 68/100\n",
            "83/83 [==============================] - 0s 1ms/step - loss: 0.1411\n",
            "Epoch 69/100\n",
            "83/83 [==============================] - 0s 1ms/step - loss: 0.1414\n",
            "Epoch 70/100\n",
            "83/83 [==============================] - 0s 1ms/step - loss: 0.1395\n",
            "Epoch 71/100\n",
            "83/83 [==============================] - 0s 1ms/step - loss: 0.1394\n",
            "Epoch 72/100\n",
            "83/83 [==============================] - 0s 1ms/step - loss: 0.1393\n",
            "Epoch 73/100\n",
            "83/83 [==============================] - 0s 1ms/step - loss: 0.1387\n",
            "Epoch 74/100\n",
            "83/83 [==============================] - 0s 1ms/step - loss: 0.1377\n",
            "Epoch 75/100\n",
            "83/83 [==============================] - 0s 1ms/step - loss: 0.1374\n",
            "Epoch 76/100\n",
            "83/83 [==============================] - 0s 1ms/step - loss: 0.1374\n",
            "Epoch 77/100\n",
            "83/83 [==============================] - 0s 1ms/step - loss: 0.1378\n",
            "Epoch 78/100\n",
            "83/83 [==============================] - 0s 1ms/step - loss: 0.1368\n",
            "Epoch 79/100\n",
            "83/83 [==============================] - 0s 1ms/step - loss: 0.1367\n",
            "Epoch 80/100\n",
            "83/83 [==============================] - 0s 1ms/step - loss: 0.1364\n",
            "Epoch 81/100\n",
            "83/83 [==============================] - 0s 1ms/step - loss: 0.1369\n",
            "Epoch 82/100\n",
            "83/83 [==============================] - 0s 1ms/step - loss: 0.1354\n",
            "Epoch 83/100\n",
            "83/83 [==============================] - 0s 2ms/step - loss: 0.1366\n",
            "Epoch 84/100\n",
            "83/83 [==============================] - 0s 2ms/step - loss: 0.1354\n",
            "Epoch 85/100\n",
            "83/83 [==============================] - 0s 3ms/step - loss: 0.1346\n",
            "Epoch 86/100\n",
            "83/83 [==============================] - 0s 1ms/step - loss: 0.1351\n",
            "Epoch 87/100\n",
            "83/83 [==============================] - 0s 1ms/step - loss: 0.1348\n",
            "Epoch 88/100\n",
            "83/83 [==============================] - 0s 1ms/step - loss: 0.1336\n",
            "Epoch 89/100\n",
            "83/83 [==============================] - 0s 1ms/step - loss: 0.1337\n",
            "Epoch 90/100\n",
            "83/83 [==============================] - 0s 3ms/step - loss: 0.1341\n",
            "Epoch 91/100\n",
            "83/83 [==============================] - 0s 3ms/step - loss: 0.1335\n",
            "Epoch 92/100\n",
            "83/83 [==============================] - 0s 1ms/step - loss: 0.1331\n",
            "Epoch 93/100\n",
            "83/83 [==============================] - 0s 1ms/step - loss: 0.1332\n",
            "Epoch 94/100\n",
            "83/83 [==============================] - 0s 1ms/step - loss: 0.1326\n",
            "Epoch 95/100\n",
            "83/83 [==============================] - 0s 1ms/step - loss: 0.1324\n",
            "Epoch 96/100\n",
            "83/83 [==============================] - 0s 2ms/step - loss: 0.1318\n",
            "Epoch 97/100\n",
            "83/83 [==============================] - 0s 1ms/step - loss: 0.1324\n",
            "Epoch 98/100\n",
            "83/83 [==============================] - 0s 2ms/step - loss: 0.1318\n",
            "Epoch 99/100\n",
            "83/83 [==============================] - 0s 2ms/step - loss: 0.1313\n",
            "Epoch 100/100\n",
            "83/83 [==============================] - 0s 2ms/step - loss: 0.1315\n"
          ]
        }
      ]
    },
    {
      "cell_type": "code",
      "source": [
        "#6 & #7\n",
        "model_history.history.keys()\n"
      ],
      "metadata": {
        "colab": {
          "base_uri": "https://localhost:8080/"
        },
        "id": "JsEebJcJlPJS",
        "outputId": "f38f24bf-13d0-4bdd-a961-763007351183"
      },
      "execution_count": 389,
      "outputs": [
        {
          "output_type": "execute_result",
          "data": {
            "text/plain": [
              "dict_keys(['loss'])"
            ]
          },
          "metadata": {},
          "execution_count": 389
        }
      ]
    },
    {
      "cell_type": "code",
      "source": [
        "y_pred=classifier.predict(X_test)"
      ],
      "metadata": {
        "colab": {
          "base_uri": "https://localhost:8080/"
        },
        "id": "3yNK89YsoZKg",
        "outputId": "2fde6e59-3169-4a04-b7bd-a805ee5b377d"
      },
      "execution_count": 390,
      "outputs": [
        {
          "output_type": "stream",
          "name": "stdout",
          "text": [
            "7/7 [==============================] - 0s 1ms/step\n"
          ]
        }
      ]
    },
    {
      "cell_type": "code",
      "source": [
        "\n",
        "mse=tensorflow.keras.losses.MeanSquaredError()\n",
        "mse(y_test,y_pred).numpy()"
      ],
      "metadata": {
        "colab": {
          "base_uri": "https://localhost:8080/"
        },
        "id": "RkKG0L4Aow7j",
        "outputId": "0eb4e22d-91f7-431b-8c59-7bd194ad165f"
      },
      "execution_count": 391,
      "outputs": [
        {
          "output_type": "execute_result",
          "data": {
            "text/plain": [
              "0.13829808"
            ]
          },
          "metadata": {},
          "execution_count": 391
        }
      ]
    },
    {
      "cell_type": "code",
      "source": [
        "#BONUS"
      ],
      "metadata": {
        "id": "ohDTc5Ceqybf"
      },
      "execution_count": 392,
      "outputs": []
    },
    {
      "cell_type": "code",
      "source": [
        "#hyperparameter tuning with keras tuner"
      ],
      "metadata": {
        "id": "aspyfwha3JQE"
      },
      "execution_count": 393,
      "outputs": []
    },
    {
      "cell_type": "code",
      "source": [
        "!pip install keras-tuner --upgrade"
      ],
      "metadata": {
        "colab": {
          "base_uri": "https://localhost:8080/"
        },
        "id": "0R0Ekjzs_aKt",
        "outputId": "43e014ca-3f59-4910-f432-1d34b2183ad3"
      },
      "execution_count": 394,
      "outputs": [
        {
          "output_type": "stream",
          "name": "stdout",
          "text": [
            "Requirement already satisfied: keras-tuner in /usr/local/lib/python3.10/dist-packages (1.4.1)\n",
            "Requirement already satisfied: keras-core in /usr/local/lib/python3.10/dist-packages (from keras-tuner) (0.1.7)\n",
            "Requirement already satisfied: packaging in /usr/local/lib/python3.10/dist-packages (from keras-tuner) (23.1)\n",
            "Requirement already satisfied: requests in /usr/local/lib/python3.10/dist-packages (from keras-tuner) (2.31.0)\n",
            "Requirement already satisfied: kt-legacy in /usr/local/lib/python3.10/dist-packages (from keras-tuner) (1.0.5)\n",
            "Requirement already satisfied: absl-py in /usr/local/lib/python3.10/dist-packages (from keras-core->keras-tuner) (1.4.0)\n",
            "Requirement already satisfied: numpy in /usr/local/lib/python3.10/dist-packages (from keras-core->keras-tuner) (1.23.5)\n",
            "Requirement already satisfied: rich in /usr/local/lib/python3.10/dist-packages (from keras-core->keras-tuner) (13.5.2)\n",
            "Requirement already satisfied: namex in /usr/local/lib/python3.10/dist-packages (from keras-core->keras-tuner) (0.0.7)\n",
            "Requirement already satisfied: h5py in /usr/local/lib/python3.10/dist-packages (from keras-core->keras-tuner) (3.9.0)\n",
            "Requirement already satisfied: dm-tree in /usr/local/lib/python3.10/dist-packages (from keras-core->keras-tuner) (0.1.8)\n",
            "Requirement already satisfied: charset-normalizer<4,>=2 in /usr/local/lib/python3.10/dist-packages (from requests->keras-tuner) (3.2.0)\n",
            "Requirement already satisfied: idna<4,>=2.5 in /usr/local/lib/python3.10/dist-packages (from requests->keras-tuner) (3.4)\n",
            "Requirement already satisfied: urllib3<3,>=1.21.1 in /usr/local/lib/python3.10/dist-packages (from requests->keras-tuner) (2.0.4)\n",
            "Requirement already satisfied: certifi>=2017.4.17 in /usr/local/lib/python3.10/dist-packages (from requests->keras-tuner) (2023.7.22)\n",
            "Requirement already satisfied: markdown-it-py>=2.2.0 in /usr/local/lib/python3.10/dist-packages (from rich->keras-core->keras-tuner) (3.0.0)\n",
            "Requirement already satisfied: pygments<3.0.0,>=2.13.0 in /usr/local/lib/python3.10/dist-packages (from rich->keras-core->keras-tuner) (2.16.1)\n",
            "Requirement already satisfied: mdurl~=0.1 in /usr/local/lib/python3.10/dist-packages (from markdown-it-py>=2.2.0->rich->keras-core->keras-tuner) (0.1.2)\n"
          ]
        }
      ]
    },
    {
      "cell_type": "code",
      "source": [
        "from kerastuner.tuners import RandomSearch"
      ],
      "metadata": {
        "id": "w_OQhbBaP3LU"
      },
      "execution_count": 395,
      "outputs": []
    },
    {
      "cell_type": "code",
      "source": [
        "def build_model(hp):\n",
        "  model=Sequential()\n",
        "  model.add(Dense(units=10,activation='relu',input_dim=8))\n",
        "  model.add(Dense(1,activation='linear'))\n",
        "  optimizer=hp.Choice(\"optimizer\",values=[\"adam\",\"sgd\",\"rmsprop\",\"adadelta\"])\n",
        "  model.compile(optimizer=optimizer,loss='mean_squared_error')\n",
        "  return model\n"
      ],
      "metadata": {
        "id": "tPNVqkGeQ0TD"
      },
      "execution_count": 396,
      "outputs": []
    },
    {
      "cell_type": "code",
      "source": [
        "\n",
        "tuner=RandomSearch(build_model,objective=\"val_loss\",max_trials=5,directory='project1',project_name='model')"
      ],
      "metadata": {
        "colab": {
          "base_uri": "https://localhost:8080/"
        },
        "id": "yXrmI0CYR0hq",
        "outputId": "dc4fdb54-73ee-4bbe-dfd7-1ff869faa40d"
      },
      "execution_count": 397,
      "outputs": [
        {
          "output_type": "stream",
          "name": "stdout",
          "text": [
            "Reloading Tuner from project1/model/tuner0.json\n"
          ]
        }
      ]
    },
    {
      "cell_type": "code",
      "source": [
        "tuner.search(X_train,y_train,validation_data=(X_test,y_test),epochs=5)"
      ],
      "metadata": {
        "id": "SEnt0sttSmmE"
      },
      "execution_count": 410,
      "outputs": []
    },
    {
      "cell_type": "code",
      "source": [
        "tuner.get_best_hyperparameters()[0].values"
      ],
      "metadata": {
        "colab": {
          "base_uri": "https://localhost:8080/"
        },
        "id": "Hx0zl7zxS8xw",
        "outputId": "8749be88-74af-4947-ba29-f18e07f2f5f7"
      },
      "execution_count": 411,
      "outputs": [
        {
          "output_type": "execute_result",
          "data": {
            "text/plain": [
              "{'optimizer': 'rmsprop'}"
            ]
          },
          "metadata": {},
          "execution_count": 411
        }
      ]
    },
    {
      "cell_type": "code",
      "source": [
        "mymodel=tuner.get_best_models(num_models=1)[0]\n",
        "mymodel.summary()\n",
        ""
      ],
      "metadata": {
        "colab": {
          "base_uri": "https://localhost:8080/"
        },
        "id": "5CVGUetoUWQ0",
        "outputId": "66f7d4db-5d2f-47ec-bb2c-fa7faa0dbf7a"
      },
      "execution_count": 412,
      "outputs": [
        {
          "output_type": "stream",
          "name": "stdout",
          "text": [
            "Model: \"sequential\"\n",
            "_________________________________________________________________\n",
            " Layer (type)                Output Shape              Param #   \n",
            "=================================================================\n",
            " dense (Dense)               (None, 10)                90        \n",
            "                                                                 \n",
            " dense_1 (Dense)             (None, 1)                 11        \n",
            "                                                                 \n",
            "=================================================================\n",
            "Total params: 101 (404.00 Byte)\n",
            "Trainable params: 101 (404.00 Byte)\n",
            "Non-trainable params: 0 (0.00 Byte)\n",
            "_________________________________________________________________\n"
          ]
        }
      ]
    },
    {
      "cell_type": "code",
      "source": [
        "from tensorflow.keras import optimizers\n",
        "def build_model(hp):\n",
        "    model = Sequential()\n",
        "    for i in range(hp.Int('num_layers', 2, 20)):\n",
        "        model.add(Dense(units=hp.Int('units_' + str(i),\n",
        "                                            min_value=1,\n",
        "                                            max_value=8,\n",
        "                                            step=32),\n",
        "                               activation='relu'))\n",
        "    model.add(Dense(1, activation='linear'))\n",
        "    model.compile(\n",
        "        optimizer=optimizers.Adam(\n",
        "            hp.Choice('learning_rate', [1e-2, 1e-3, 1e-4])),\n",
        "        loss='mean_squared_error')\n",
        "    return model\n",
        ""
      ],
      "metadata": {
        "id": "5j4dIeHpUcgs"
      },
      "execution_count": 413,
      "outputs": []
    },
    {
      "cell_type": "code",
      "source": [
        "tuner_second=RandomSearch(build_model,objective='val_loss',max_trials=5)"
      ],
      "metadata": {
        "colab": {
          "base_uri": "https://localhost:8080/"
        },
        "id": "Li7PO09-VqY7",
        "outputId": "02b150f6-826b-422e-bb2b-103688d29701"
      },
      "execution_count": 414,
      "outputs": [
        {
          "output_type": "stream",
          "name": "stdout",
          "text": [
            "Reloading Tuner from ./untitled_project/tuner0.json\n"
          ]
        }
      ]
    },
    {
      "cell_type": "code",
      "source": [
        "\n",
        "tuner_second.search(X_train,y_train,epochs=5,validation_data=(X_test,y_test))"
      ],
      "metadata": {
        "id": "nEZpmFKsV8Y6"
      },
      "execution_count": 415,
      "outputs": []
    },
    {
      "cell_type": "code",
      "source": [
        "\n",
        "tuner_second.get_best_hyperparameters()[0].values"
      ],
      "metadata": {
        "colab": {
          "base_uri": "https://localhost:8080/"
        },
        "id": "nnF7N1QwWFXn",
        "outputId": "01ea5a8b-735c-475c-c4c6-31601be9920c"
      },
      "execution_count": 416,
      "outputs": [
        {
          "output_type": "execute_result",
          "data": {
            "text/plain": [
              "{'optimizer': 'sgd',\n",
              " 'num_layers': 2,\n",
              " 'units_0': 1,\n",
              " 'units_1': 1,\n",
              " 'learning_rate': 0.01}"
            ]
          },
          "metadata": {},
          "execution_count": 416
        }
      ]
    },
    {
      "cell_type": "code",
      "source": [
        "classifier2=tuner_second.get_best_models(num_models=1)[0]"
      ],
      "metadata": {
        "id": "qsxwNQJDW9ST"
      },
      "execution_count": 417,
      "outputs": []
    },
    {
      "cell_type": "code",
      "source": [
        "\n",
        "classifier2.summary()"
      ],
      "metadata": {
        "colab": {
          "base_uri": "https://localhost:8080/"
        },
        "id": "sb9snd_bXZ-o",
        "outputId": "7857fc35-fe46-4e86-a4c5-9709b768c8a5"
      },
      "execution_count": 418,
      "outputs": [
        {
          "output_type": "stream",
          "name": "stdout",
          "text": [
            "Model: \"sequential\"\n",
            "_________________________________________________________________\n",
            " Layer (type)                Output Shape              Param #   \n",
            "=================================================================\n",
            " dense (Dense)               (None, 1)                 9         \n",
            "                                                                 \n",
            " dense_1 (Dense)             (None, 1)                 2         \n",
            "                                                                 \n",
            " dense_2 (Dense)             (None, 1)                 2         \n",
            "                                                                 \n",
            "=================================================================\n",
            "Total params: 13 (52.00 Byte)\n",
            "Trainable params: 13 (52.00 Byte)\n",
            "Non-trainable params: 0 (0.00 Byte)\n",
            "_________________________________________________________________\n"
          ]
        }
      ]
    },
    {
      "cell_type": "code",
      "source": [],
      "metadata": {
        "id": "l4UwuHl-XiJu"
      },
      "execution_count": null,
      "outputs": []
    }
  ]
}