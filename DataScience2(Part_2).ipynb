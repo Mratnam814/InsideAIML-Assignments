{
  "nbformat": 4,
  "nbformat_minor": 0,
  "metadata": {
    "colab": {
      "provenance": []
    },
    "kernelspec": {
      "name": "python3",
      "display_name": "Python 3"
    },
    "language_info": {
      "name": "python"
    }
  },
  "cells": [
    {
      "cell_type": "code",
      "execution_count": 17,
      "metadata": {
        "id": "aogvdjdeOT_B"
      },
      "outputs": [],
      "source": [
        "import pandas as pd\n",
        "import numpy as np\n",
        "#1"
      ]
    },
    {
      "cell_type": "code",
      "source": [
        "df=pd.read_csv(\"/content/IT Salary Survey EU  2020.csv\")"
      ],
      "metadata": {
        "id": "Y-9M159xQlqz"
      },
      "execution_count": 18,
      "outputs": []
    },
    {
      "cell_type": "code",
      "source": [
        "df.head()"
      ],
      "metadata": {
        "colab": {
          "base_uri": "https://localhost:8080/",
          "height": 585
        },
        "id": "sFgm6Nq-arJB",
        "outputId": "1473a943-b332-46c7-fe65-6d1c8bb95d5d"
      },
      "execution_count": 19,
      "outputs": [
        {
          "output_type": "execute_result",
          "data": {
            "text/plain": [
              "             Timestamp   Age Gender    City           Position   \\\n",
              "0  24/11/2020 11:14:15  26.0   Male  Munich   Software Engineer   \n",
              "1  24/11/2020 11:14:16  26.0   Male  Berlin   Backend Developer   \n",
              "2  24/11/2020 11:14:21  29.0   Male  Berlin   Software Engineer   \n",
              "3  24/11/2020 11:15:24  28.0   Male  Berlin  Frontend Developer   \n",
              "4  24/11/2020 11:15:46  37.0   Male  Berlin   Backend Developer   \n",
              "\n",
              "  Total years of experience Years of experience in Germany Seniority level  \\\n",
              "0                         5                              3          Senior   \n",
              "1                         7                              4          Senior   \n",
              "2                        12                              6            Lead   \n",
              "3                         4                              1          Junior   \n",
              "4                        17                              6          Senior   \n",
              "\n",
              "  Your main technology / programming language  \\\n",
              "0                                  TypeScript   \n",
              "1                                        Ruby   \n",
              "2                     Javascript / Typescript   \n",
              "3                                  Javascript   \n",
              "4                                     C# .NET   \n",
              "\n",
              "  Other technologies/programming languages you use often  ...  \\\n",
              "0                    Kotlin, Javascript / Typescript      ...   \n",
              "1                                                NaN      ...   \n",
              "2                    Javascript / Typescript, Docker      ...   \n",
              "3                                                NaN      ...   \n",
              "4                             .NET, SQL, AWS, Docker      ...   \n",
              "\n",
              "   Annual bonus+stocks one year ago. Only answer if staying in same country  \\\n",
              "0                                              10000                          \n",
              "1                                               5000                          \n",
              "2                                             100000                          \n",
              "3                                                NaN                          \n",
              "4                                                NaN                          \n",
              "\n",
              "  Number of vacation days           Employment status   Сontract duration  \\\n",
              "0                      30          Full-time employee  Unlimited contract   \n",
              "1                      28          Full-time employee  Unlimited contract   \n",
              "2                      30  Self-employed (freelancer)  Temporary contract   \n",
              "3                      24          Full-time employee  Unlimited contract   \n",
              "4                      29          Full-time employee  Unlimited contract   \n",
              "\n",
              "  Main language at work Company size Company type  \\\n",
              "0               English       51-100      Product   \n",
              "1               English     101-1000      Product   \n",
              "2               English     101-1000      Product   \n",
              "3               English       51-100      Startup   \n",
              "4               English     101-1000      Product   \n",
              "\n",
              "  Have you lost your job due to the coronavirus outbreak?  \\\n",
              "0                                                 No        \n",
              "1                                                 No        \n",
              "2                                                Yes        \n",
              "3                                                 No        \n",
              "4                                                 No        \n",
              "\n",
              "  Have you been forced to have a shorter working week (Kurzarbeit)? If yes, how many hours per week  \\\n",
              "0                                                NaN                                                  \n",
              "1                                                NaN                                                  \n",
              "2                                                NaN                                                  \n",
              "3                                                NaN                                                  \n",
              "4                                                NaN                                                  \n",
              "\n",
              "  Have you received additional monetary support from your employer due to Work From Home? If yes, how much in 2020 in EUR  \n",
              "0                                                NaN                                                                       \n",
              "1                                                NaN                                                                       \n",
              "2                                                NaN                                                                       \n",
              "3                                                NaN                                                                       \n",
              "4                                                NaN                                                                       \n",
              "\n",
              "[5 rows x 23 columns]"
            ],
            "text/html": [
              "\n",
              "  <div id=\"df-7cb7500b-1b17-4971-99f7-e30a0f1fc45a\" class=\"colab-df-container\">\n",
              "    <div>\n",
              "<style scoped>\n",
              "    .dataframe tbody tr th:only-of-type {\n",
              "        vertical-align: middle;\n",
              "    }\n",
              "\n",
              "    .dataframe tbody tr th {\n",
              "        vertical-align: top;\n",
              "    }\n",
              "\n",
              "    .dataframe thead th {\n",
              "        text-align: right;\n",
              "    }\n",
              "</style>\n",
              "<table border=\"1\" class=\"dataframe\">\n",
              "  <thead>\n",
              "    <tr style=\"text-align: right;\">\n",
              "      <th></th>\n",
              "      <th>Timestamp</th>\n",
              "      <th>Age</th>\n",
              "      <th>Gender</th>\n",
              "      <th>City</th>\n",
              "      <th>Position</th>\n",
              "      <th>Total years of experience</th>\n",
              "      <th>Years of experience in Germany</th>\n",
              "      <th>Seniority level</th>\n",
              "      <th>Your main technology / programming language</th>\n",
              "      <th>Other technologies/programming languages you use often</th>\n",
              "      <th>...</th>\n",
              "      <th>Annual bonus+stocks one year ago. Only answer if staying in same country</th>\n",
              "      <th>Number of vacation days</th>\n",
              "      <th>Employment status</th>\n",
              "      <th>Сontract duration</th>\n",
              "      <th>Main language at work</th>\n",
              "      <th>Company size</th>\n",
              "      <th>Company type</th>\n",
              "      <th>Have you lost your job due to the coronavirus outbreak?</th>\n",
              "      <th>Have you been forced to have a shorter working week (Kurzarbeit)? If yes, how many hours per week</th>\n",
              "      <th>Have you received additional monetary support from your employer due to Work From Home? If yes, how much in 2020 in EUR</th>\n",
              "    </tr>\n",
              "  </thead>\n",
              "  <tbody>\n",
              "    <tr>\n",
              "      <th>0</th>\n",
              "      <td>24/11/2020 11:14:15</td>\n",
              "      <td>26.0</td>\n",
              "      <td>Male</td>\n",
              "      <td>Munich</td>\n",
              "      <td>Software Engineer</td>\n",
              "      <td>5</td>\n",
              "      <td>3</td>\n",
              "      <td>Senior</td>\n",
              "      <td>TypeScript</td>\n",
              "      <td>Kotlin, Javascript / Typescript</td>\n",
              "      <td>...</td>\n",
              "      <td>10000</td>\n",
              "      <td>30</td>\n",
              "      <td>Full-time employee</td>\n",
              "      <td>Unlimited contract</td>\n",
              "      <td>English</td>\n",
              "      <td>51-100</td>\n",
              "      <td>Product</td>\n",
              "      <td>No</td>\n",
              "      <td>NaN</td>\n",
              "      <td>NaN</td>\n",
              "    </tr>\n",
              "    <tr>\n",
              "      <th>1</th>\n",
              "      <td>24/11/2020 11:14:16</td>\n",
              "      <td>26.0</td>\n",
              "      <td>Male</td>\n",
              "      <td>Berlin</td>\n",
              "      <td>Backend Developer</td>\n",
              "      <td>7</td>\n",
              "      <td>4</td>\n",
              "      <td>Senior</td>\n",
              "      <td>Ruby</td>\n",
              "      <td>NaN</td>\n",
              "      <td>...</td>\n",
              "      <td>5000</td>\n",
              "      <td>28</td>\n",
              "      <td>Full-time employee</td>\n",
              "      <td>Unlimited contract</td>\n",
              "      <td>English</td>\n",
              "      <td>101-1000</td>\n",
              "      <td>Product</td>\n",
              "      <td>No</td>\n",
              "      <td>NaN</td>\n",
              "      <td>NaN</td>\n",
              "    </tr>\n",
              "    <tr>\n",
              "      <th>2</th>\n",
              "      <td>24/11/2020 11:14:21</td>\n",
              "      <td>29.0</td>\n",
              "      <td>Male</td>\n",
              "      <td>Berlin</td>\n",
              "      <td>Software Engineer</td>\n",
              "      <td>12</td>\n",
              "      <td>6</td>\n",
              "      <td>Lead</td>\n",
              "      <td>Javascript / Typescript</td>\n",
              "      <td>Javascript / Typescript, Docker</td>\n",
              "      <td>...</td>\n",
              "      <td>100000</td>\n",
              "      <td>30</td>\n",
              "      <td>Self-employed (freelancer)</td>\n",
              "      <td>Temporary contract</td>\n",
              "      <td>English</td>\n",
              "      <td>101-1000</td>\n",
              "      <td>Product</td>\n",
              "      <td>Yes</td>\n",
              "      <td>NaN</td>\n",
              "      <td>NaN</td>\n",
              "    </tr>\n",
              "    <tr>\n",
              "      <th>3</th>\n",
              "      <td>24/11/2020 11:15:24</td>\n",
              "      <td>28.0</td>\n",
              "      <td>Male</td>\n",
              "      <td>Berlin</td>\n",
              "      <td>Frontend Developer</td>\n",
              "      <td>4</td>\n",
              "      <td>1</td>\n",
              "      <td>Junior</td>\n",
              "      <td>Javascript</td>\n",
              "      <td>NaN</td>\n",
              "      <td>...</td>\n",
              "      <td>NaN</td>\n",
              "      <td>24</td>\n",
              "      <td>Full-time employee</td>\n",
              "      <td>Unlimited contract</td>\n",
              "      <td>English</td>\n",
              "      <td>51-100</td>\n",
              "      <td>Startup</td>\n",
              "      <td>No</td>\n",
              "      <td>NaN</td>\n",
              "      <td>NaN</td>\n",
              "    </tr>\n",
              "    <tr>\n",
              "      <th>4</th>\n",
              "      <td>24/11/2020 11:15:46</td>\n",
              "      <td>37.0</td>\n",
              "      <td>Male</td>\n",
              "      <td>Berlin</td>\n",
              "      <td>Backend Developer</td>\n",
              "      <td>17</td>\n",
              "      <td>6</td>\n",
              "      <td>Senior</td>\n",
              "      <td>C# .NET</td>\n",
              "      <td>.NET, SQL, AWS, Docker</td>\n",
              "      <td>...</td>\n",
              "      <td>NaN</td>\n",
              "      <td>29</td>\n",
              "      <td>Full-time employee</td>\n",
              "      <td>Unlimited contract</td>\n",
              "      <td>English</td>\n",
              "      <td>101-1000</td>\n",
              "      <td>Product</td>\n",
              "      <td>No</td>\n",
              "      <td>NaN</td>\n",
              "      <td>NaN</td>\n",
              "    </tr>\n",
              "  </tbody>\n",
              "</table>\n",
              "<p>5 rows × 23 columns</p>\n",
              "</div>\n",
              "    <div class=\"colab-df-buttons\">\n",
              "\n",
              "  <div class=\"colab-df-container\">\n",
              "    <button class=\"colab-df-convert\" onclick=\"convertToInteractive('df-7cb7500b-1b17-4971-99f7-e30a0f1fc45a')\"\n",
              "            title=\"Convert this dataframe to an interactive table.\"\n",
              "            style=\"display:none;\">\n",
              "\n",
              "  <svg xmlns=\"http://www.w3.org/2000/svg\" height=\"24px\" viewBox=\"0 -960 960 960\">\n",
              "    <path d=\"M120-120v-720h720v720H120Zm60-500h600v-160H180v160Zm220 220h160v-160H400v160Zm0 220h160v-160H400v160ZM180-400h160v-160H180v160Zm440 0h160v-160H620v160ZM180-180h160v-160H180v160Zm440 0h160v-160H620v160Z\"/>\n",
              "  </svg>\n",
              "    </button>\n",
              "\n",
              "  <style>\n",
              "    .colab-df-container {\n",
              "      display:flex;\n",
              "      gap: 12px;\n",
              "    }\n",
              "\n",
              "    .colab-df-convert {\n",
              "      background-color: #E8F0FE;\n",
              "      border: none;\n",
              "      border-radius: 50%;\n",
              "      cursor: pointer;\n",
              "      display: none;\n",
              "      fill: #1967D2;\n",
              "      height: 32px;\n",
              "      padding: 0 0 0 0;\n",
              "      width: 32px;\n",
              "    }\n",
              "\n",
              "    .colab-df-convert:hover {\n",
              "      background-color: #E2EBFA;\n",
              "      box-shadow: 0px 1px 2px rgba(60, 64, 67, 0.3), 0px 1px 3px 1px rgba(60, 64, 67, 0.15);\n",
              "      fill: #174EA6;\n",
              "    }\n",
              "\n",
              "    .colab-df-buttons div {\n",
              "      margin-bottom: 4px;\n",
              "    }\n",
              "\n",
              "    [theme=dark] .colab-df-convert {\n",
              "      background-color: #3B4455;\n",
              "      fill: #D2E3FC;\n",
              "    }\n",
              "\n",
              "    [theme=dark] .colab-df-convert:hover {\n",
              "      background-color: #434B5C;\n",
              "      box-shadow: 0px 1px 3px 1px rgba(0, 0, 0, 0.15);\n",
              "      filter: drop-shadow(0px 1px 2px rgba(0, 0, 0, 0.3));\n",
              "      fill: #FFFFFF;\n",
              "    }\n",
              "  </style>\n",
              "\n",
              "    <script>\n",
              "      const buttonEl =\n",
              "        document.querySelector('#df-7cb7500b-1b17-4971-99f7-e30a0f1fc45a button.colab-df-convert');\n",
              "      buttonEl.style.display =\n",
              "        google.colab.kernel.accessAllowed ? 'block' : 'none';\n",
              "\n",
              "      async function convertToInteractive(key) {\n",
              "        const element = document.querySelector('#df-7cb7500b-1b17-4971-99f7-e30a0f1fc45a');\n",
              "        const dataTable =\n",
              "          await google.colab.kernel.invokeFunction('convertToInteractive',\n",
              "                                                    [key], {});\n",
              "        if (!dataTable) return;\n",
              "\n",
              "        const docLinkHtml = 'Like what you see? Visit the ' +\n",
              "          '<a target=\"_blank\" href=https://colab.research.google.com/notebooks/data_table.ipynb>data table notebook</a>'\n",
              "          + ' to learn more about interactive tables.';\n",
              "        element.innerHTML = '';\n",
              "        dataTable['output_type'] = 'display_data';\n",
              "        await google.colab.output.renderOutput(dataTable, element);\n",
              "        const docLink = document.createElement('div');\n",
              "        docLink.innerHTML = docLinkHtml;\n",
              "        element.appendChild(docLink);\n",
              "      }\n",
              "    </script>\n",
              "  </div>\n",
              "\n",
              "\n",
              "<div id=\"df-d5b112dd-bafa-44f2-8d29-4e82a5634794\">\n",
              "  <button class=\"colab-df-quickchart\" onclick=\"quickchart('df-d5b112dd-bafa-44f2-8d29-4e82a5634794')\"\n",
              "            title=\"Suggest charts.\"\n",
              "            style=\"display:none;\">\n",
              "\n",
              "<svg xmlns=\"http://www.w3.org/2000/svg\" height=\"24px\"viewBox=\"0 0 24 24\"\n",
              "     width=\"24px\">\n",
              "    <g>\n",
              "        <path d=\"M19 3H5c-1.1 0-2 .9-2 2v14c0 1.1.9 2 2 2h14c1.1 0 2-.9 2-2V5c0-1.1-.9-2-2-2zM9 17H7v-7h2v7zm4 0h-2V7h2v10zm4 0h-2v-4h2v4z\"/>\n",
              "    </g>\n",
              "</svg>\n",
              "  </button>\n",
              "\n",
              "<style>\n",
              "  .colab-df-quickchart {\n",
              "    background-color: #E8F0FE;\n",
              "    border: none;\n",
              "    border-radius: 50%;\n",
              "    cursor: pointer;\n",
              "    display: none;\n",
              "    fill: #1967D2;\n",
              "    height: 32px;\n",
              "    padding: 0 0 0 0;\n",
              "    width: 32px;\n",
              "  }\n",
              "\n",
              "  .colab-df-quickchart:hover {\n",
              "    background-color: #E2EBFA;\n",
              "    box-shadow: 0px 1px 2px rgba(60, 64, 67, 0.3), 0px 1px 3px 1px rgba(60, 64, 67, 0.15);\n",
              "    fill: #174EA6;\n",
              "  }\n",
              "\n",
              "  [theme=dark] .colab-df-quickchart {\n",
              "    background-color: #3B4455;\n",
              "    fill: #D2E3FC;\n",
              "  }\n",
              "\n",
              "  [theme=dark] .colab-df-quickchart:hover {\n",
              "    background-color: #434B5C;\n",
              "    box-shadow: 0px 1px 3px 1px rgba(0, 0, 0, 0.15);\n",
              "    filter: drop-shadow(0px 1px 2px rgba(0, 0, 0, 0.3));\n",
              "    fill: #FFFFFF;\n",
              "  }\n",
              "</style>\n",
              "\n",
              "  <script>\n",
              "    async function quickchart(key) {\n",
              "      const charts = await google.colab.kernel.invokeFunction(\n",
              "          'suggestCharts', [key], {});\n",
              "    }\n",
              "    (() => {\n",
              "      let quickchartButtonEl =\n",
              "        document.querySelector('#df-d5b112dd-bafa-44f2-8d29-4e82a5634794 button');\n",
              "      quickchartButtonEl.style.display =\n",
              "        google.colab.kernel.accessAllowed ? 'block' : 'none';\n",
              "    })();\n",
              "  </script>\n",
              "</div>\n",
              "    </div>\n",
              "  </div>\n"
            ]
          },
          "metadata": {},
          "execution_count": 19
        }
      ]
    },
    {
      "cell_type": "code",
      "source": [
        "df.tail()"
      ],
      "metadata": {
        "colab": {
          "base_uri": "https://localhost:8080/",
          "height": 620
        },
        "id": "Pa1RzX4Waxia",
        "outputId": "b7f7fcd7-5b46-40e0-b67e-c6bfd68c60ce"
      },
      "execution_count": 20,
      "outputs": [
        {
          "output_type": "execute_result",
          "data": {
            "text/plain": [
              "                Timestamp   Age Gender         City  \\\n",
              "1248  18/01/2021 15:05:50  31.0   Male       Berlin   \n",
              "1249  18/01/2021 17:46:02  33.0   Male       Berlin   \n",
              "1250  18/01/2021 23:20:35  39.0   Male       Munich   \n",
              "1251  19/01/2021 10:17:58  26.0   Male  Saarbrücken   \n",
              "1252  19/01/2021 12:01:11  26.0   Male       Berlin   \n",
              "\n",
              "                                   Position  Total years of experience  \\\n",
              "1248                       Backend Developer                         9   \n",
              "1249  Researcher/ Consumer Insights Analyst                         10   \n",
              "1250                   IT Operations Manager                        15   \n",
              "1251                      Frontend Developer                         7   \n",
              "1252                                  DevOps                         2   \n",
              "\n",
              "     Years of experience in Germany Seniority level  \\\n",
              "1248                              5          Senior   \n",
              "1249                            1.5          Senior   \n",
              "1250                              2            Lead   \n",
              "1251                              7          Middle   \n",
              "1252                              2          Middle   \n",
              "\n",
              "     Your main technology / programming language  \\\n",
              "1248                                        Java   \n",
              "1249                           consumer analysis   \n",
              "1250                                         PHP   \n",
              "1251                                  JavaScript   \n",
              "1252                                        yaml   \n",
              "\n",
              "     Other technologies/programming languages you use often  ...  \\\n",
              "1248  Python, Javascript / Typescript, Java / Scala,...      ...   \n",
              "1249                                                NaN      ...   \n",
              "1250  Python, C/C++, Javascript / Typescript, Java /...      ...   \n",
              "1251  Javascript / Typescript, Docker, HTML, CSS; Ad...      ...   \n",
              "1252  Python, AWS, Kubernetes, Docker, terraform, an...      ...   \n",
              "\n",
              "      Annual bonus+stocks one year ago. Only answer if staying in same country  \\\n",
              "1248                                              72000                          \n",
              "1249                                               2500                          \n",
              "1250                                                NaN                          \n",
              "1251                                              36400                          \n",
              "1252                                                  0                          \n",
              "\n",
              "     Number of vacation days   Employment status   Сontract duration  \\\n",
              "1248                      26  Full-time employee  Unlimited contract   \n",
              "1249              unlimited   Full-time employee  Unlimited contract   \n",
              "1250                      28  Full-time employee  Unlimited contract   \n",
              "1251                      27  Full-time employee  Unlimited contract   \n",
              "1252                      30  Full-time employee  Unlimited contract   \n",
              "\n",
              "     Main language at work Company size Company type  \\\n",
              "1248               English       51-100      Product   \n",
              "1249               English        1000+      Product   \n",
              "1250               English     101-1000    eCommerce   \n",
              "1251                German     101-1000      Product   \n",
              "1252               English       51-100      Startup   \n",
              "\n",
              "     Have you lost your job due to the coronavirus outbreak?  \\\n",
              "1248                                                Yes        \n",
              "1249                                                 No        \n",
              "1250                                                 No        \n",
              "1251                                                 No        \n",
              "1252                                                 No        \n",
              "\n",
              "     Have you been forced to have a shorter working week (Kurzarbeit)? If yes, how many hours per week  \\\n",
              "1248                                                NaN                                                  \n",
              "1249                                                NaN                                                  \n",
              "1250                                                NaN                                                  \n",
              "1251                                                NaN                                                  \n",
              "1252                                               30.0                                                  \n",
              "\n",
              "     Have you received additional monetary support from your employer due to Work From Home? If yes, how much in 2020 in EUR  \n",
              "1248                                                NaN                                                                       \n",
              "1249                                                  0                                                                       \n",
              "1250                                                NaN                                                                       \n",
              "1251                                                  0                                                                       \n",
              "1252                                                600                                                                       \n",
              "\n",
              "[5 rows x 23 columns]"
            ],
            "text/html": [
              "\n",
              "  <div id=\"df-72539a52-17d1-4aca-b5c0-e2b2dd74eecc\" class=\"colab-df-container\">\n",
              "    <div>\n",
              "<style scoped>\n",
              "    .dataframe tbody tr th:only-of-type {\n",
              "        vertical-align: middle;\n",
              "    }\n",
              "\n",
              "    .dataframe tbody tr th {\n",
              "        vertical-align: top;\n",
              "    }\n",
              "\n",
              "    .dataframe thead th {\n",
              "        text-align: right;\n",
              "    }\n",
              "</style>\n",
              "<table border=\"1\" class=\"dataframe\">\n",
              "  <thead>\n",
              "    <tr style=\"text-align: right;\">\n",
              "      <th></th>\n",
              "      <th>Timestamp</th>\n",
              "      <th>Age</th>\n",
              "      <th>Gender</th>\n",
              "      <th>City</th>\n",
              "      <th>Position</th>\n",
              "      <th>Total years of experience</th>\n",
              "      <th>Years of experience in Germany</th>\n",
              "      <th>Seniority level</th>\n",
              "      <th>Your main technology / programming language</th>\n",
              "      <th>Other technologies/programming languages you use often</th>\n",
              "      <th>...</th>\n",
              "      <th>Annual bonus+stocks one year ago. Only answer if staying in same country</th>\n",
              "      <th>Number of vacation days</th>\n",
              "      <th>Employment status</th>\n",
              "      <th>Сontract duration</th>\n",
              "      <th>Main language at work</th>\n",
              "      <th>Company size</th>\n",
              "      <th>Company type</th>\n",
              "      <th>Have you lost your job due to the coronavirus outbreak?</th>\n",
              "      <th>Have you been forced to have a shorter working week (Kurzarbeit)? If yes, how many hours per week</th>\n",
              "      <th>Have you received additional monetary support from your employer due to Work From Home? If yes, how much in 2020 in EUR</th>\n",
              "    </tr>\n",
              "  </thead>\n",
              "  <tbody>\n",
              "    <tr>\n",
              "      <th>1248</th>\n",
              "      <td>18/01/2021 15:05:50</td>\n",
              "      <td>31.0</td>\n",
              "      <td>Male</td>\n",
              "      <td>Berlin</td>\n",
              "      <td>Backend Developer</td>\n",
              "      <td>9</td>\n",
              "      <td>5</td>\n",
              "      <td>Senior</td>\n",
              "      <td>Java</td>\n",
              "      <td>Python, Javascript / Typescript, Java / Scala,...</td>\n",
              "      <td>...</td>\n",
              "      <td>72000</td>\n",
              "      <td>26</td>\n",
              "      <td>Full-time employee</td>\n",
              "      <td>Unlimited contract</td>\n",
              "      <td>English</td>\n",
              "      <td>51-100</td>\n",
              "      <td>Product</td>\n",
              "      <td>Yes</td>\n",
              "      <td>NaN</td>\n",
              "      <td>NaN</td>\n",
              "    </tr>\n",
              "    <tr>\n",
              "      <th>1249</th>\n",
              "      <td>18/01/2021 17:46:02</td>\n",
              "      <td>33.0</td>\n",
              "      <td>Male</td>\n",
              "      <td>Berlin</td>\n",
              "      <td>Researcher/ Consumer Insights Analyst</td>\n",
              "      <td>10</td>\n",
              "      <td>1.5</td>\n",
              "      <td>Senior</td>\n",
              "      <td>consumer analysis</td>\n",
              "      <td>NaN</td>\n",
              "      <td>...</td>\n",
              "      <td>2500</td>\n",
              "      <td>unlimited</td>\n",
              "      <td>Full-time employee</td>\n",
              "      <td>Unlimited contract</td>\n",
              "      <td>English</td>\n",
              "      <td>1000+</td>\n",
              "      <td>Product</td>\n",
              "      <td>No</td>\n",
              "      <td>NaN</td>\n",
              "      <td>0</td>\n",
              "    </tr>\n",
              "    <tr>\n",
              "      <th>1250</th>\n",
              "      <td>18/01/2021 23:20:35</td>\n",
              "      <td>39.0</td>\n",
              "      <td>Male</td>\n",
              "      <td>Munich</td>\n",
              "      <td>IT Operations Manager</td>\n",
              "      <td>15</td>\n",
              "      <td>2</td>\n",
              "      <td>Lead</td>\n",
              "      <td>PHP</td>\n",
              "      <td>Python, C/C++, Javascript / Typescript, Java /...</td>\n",
              "      <td>...</td>\n",
              "      <td>NaN</td>\n",
              "      <td>28</td>\n",
              "      <td>Full-time employee</td>\n",
              "      <td>Unlimited contract</td>\n",
              "      <td>English</td>\n",
              "      <td>101-1000</td>\n",
              "      <td>eCommerce</td>\n",
              "      <td>No</td>\n",
              "      <td>NaN</td>\n",
              "      <td>NaN</td>\n",
              "    </tr>\n",
              "    <tr>\n",
              "      <th>1251</th>\n",
              "      <td>19/01/2021 10:17:58</td>\n",
              "      <td>26.0</td>\n",
              "      <td>Male</td>\n",
              "      <td>Saarbrücken</td>\n",
              "      <td>Frontend Developer</td>\n",
              "      <td>7</td>\n",
              "      <td>7</td>\n",
              "      <td>Middle</td>\n",
              "      <td>JavaScript</td>\n",
              "      <td>Javascript / Typescript, Docker, HTML, CSS; Ad...</td>\n",
              "      <td>...</td>\n",
              "      <td>36400</td>\n",
              "      <td>27</td>\n",
              "      <td>Full-time employee</td>\n",
              "      <td>Unlimited contract</td>\n",
              "      <td>German</td>\n",
              "      <td>101-1000</td>\n",
              "      <td>Product</td>\n",
              "      <td>No</td>\n",
              "      <td>NaN</td>\n",
              "      <td>0</td>\n",
              "    </tr>\n",
              "    <tr>\n",
              "      <th>1252</th>\n",
              "      <td>19/01/2021 12:01:11</td>\n",
              "      <td>26.0</td>\n",
              "      <td>Male</td>\n",
              "      <td>Berlin</td>\n",
              "      <td>DevOps</td>\n",
              "      <td>2</td>\n",
              "      <td>2</td>\n",
              "      <td>Middle</td>\n",
              "      <td>yaml</td>\n",
              "      <td>Python, AWS, Kubernetes, Docker, terraform, an...</td>\n",
              "      <td>...</td>\n",
              "      <td>0</td>\n",
              "      <td>30</td>\n",
              "      <td>Full-time employee</td>\n",
              "      <td>Unlimited contract</td>\n",
              "      <td>English</td>\n",
              "      <td>51-100</td>\n",
              "      <td>Startup</td>\n",
              "      <td>No</td>\n",
              "      <td>30.0</td>\n",
              "      <td>600</td>\n",
              "    </tr>\n",
              "  </tbody>\n",
              "</table>\n",
              "<p>5 rows × 23 columns</p>\n",
              "</div>\n",
              "    <div class=\"colab-df-buttons\">\n",
              "\n",
              "  <div class=\"colab-df-container\">\n",
              "    <button class=\"colab-df-convert\" onclick=\"convertToInteractive('df-72539a52-17d1-4aca-b5c0-e2b2dd74eecc')\"\n",
              "            title=\"Convert this dataframe to an interactive table.\"\n",
              "            style=\"display:none;\">\n",
              "\n",
              "  <svg xmlns=\"http://www.w3.org/2000/svg\" height=\"24px\" viewBox=\"0 -960 960 960\">\n",
              "    <path d=\"M120-120v-720h720v720H120Zm60-500h600v-160H180v160Zm220 220h160v-160H400v160Zm0 220h160v-160H400v160ZM180-400h160v-160H180v160Zm440 0h160v-160H620v160ZM180-180h160v-160H180v160Zm440 0h160v-160H620v160Z\"/>\n",
              "  </svg>\n",
              "    </button>\n",
              "\n",
              "  <style>\n",
              "    .colab-df-container {\n",
              "      display:flex;\n",
              "      gap: 12px;\n",
              "    }\n",
              "\n",
              "    .colab-df-convert {\n",
              "      background-color: #E8F0FE;\n",
              "      border: none;\n",
              "      border-radius: 50%;\n",
              "      cursor: pointer;\n",
              "      display: none;\n",
              "      fill: #1967D2;\n",
              "      height: 32px;\n",
              "      padding: 0 0 0 0;\n",
              "      width: 32px;\n",
              "    }\n",
              "\n",
              "    .colab-df-convert:hover {\n",
              "      background-color: #E2EBFA;\n",
              "      box-shadow: 0px 1px 2px rgba(60, 64, 67, 0.3), 0px 1px 3px 1px rgba(60, 64, 67, 0.15);\n",
              "      fill: #174EA6;\n",
              "    }\n",
              "\n",
              "    .colab-df-buttons div {\n",
              "      margin-bottom: 4px;\n",
              "    }\n",
              "\n",
              "    [theme=dark] .colab-df-convert {\n",
              "      background-color: #3B4455;\n",
              "      fill: #D2E3FC;\n",
              "    }\n",
              "\n",
              "    [theme=dark] .colab-df-convert:hover {\n",
              "      background-color: #434B5C;\n",
              "      box-shadow: 0px 1px 3px 1px rgba(0, 0, 0, 0.15);\n",
              "      filter: drop-shadow(0px 1px 2px rgba(0, 0, 0, 0.3));\n",
              "      fill: #FFFFFF;\n",
              "    }\n",
              "  </style>\n",
              "\n",
              "    <script>\n",
              "      const buttonEl =\n",
              "        document.querySelector('#df-72539a52-17d1-4aca-b5c0-e2b2dd74eecc button.colab-df-convert');\n",
              "      buttonEl.style.display =\n",
              "        google.colab.kernel.accessAllowed ? 'block' : 'none';\n",
              "\n",
              "      async function convertToInteractive(key) {\n",
              "        const element = document.querySelector('#df-72539a52-17d1-4aca-b5c0-e2b2dd74eecc');\n",
              "        const dataTable =\n",
              "          await google.colab.kernel.invokeFunction('convertToInteractive',\n",
              "                                                    [key], {});\n",
              "        if (!dataTable) return;\n",
              "\n",
              "        const docLinkHtml = 'Like what you see? Visit the ' +\n",
              "          '<a target=\"_blank\" href=https://colab.research.google.com/notebooks/data_table.ipynb>data table notebook</a>'\n",
              "          + ' to learn more about interactive tables.';\n",
              "        element.innerHTML = '';\n",
              "        dataTable['output_type'] = 'display_data';\n",
              "        await google.colab.output.renderOutput(dataTable, element);\n",
              "        const docLink = document.createElement('div');\n",
              "        docLink.innerHTML = docLinkHtml;\n",
              "        element.appendChild(docLink);\n",
              "      }\n",
              "    </script>\n",
              "  </div>\n",
              "\n",
              "\n",
              "<div id=\"df-7d09a069-c54e-4b6c-b807-65e2ea684ff5\">\n",
              "  <button class=\"colab-df-quickchart\" onclick=\"quickchart('df-7d09a069-c54e-4b6c-b807-65e2ea684ff5')\"\n",
              "            title=\"Suggest charts.\"\n",
              "            style=\"display:none;\">\n",
              "\n",
              "<svg xmlns=\"http://www.w3.org/2000/svg\" height=\"24px\"viewBox=\"0 0 24 24\"\n",
              "     width=\"24px\">\n",
              "    <g>\n",
              "        <path d=\"M19 3H5c-1.1 0-2 .9-2 2v14c0 1.1.9 2 2 2h14c1.1 0 2-.9 2-2V5c0-1.1-.9-2-2-2zM9 17H7v-7h2v7zm4 0h-2V7h2v10zm4 0h-2v-4h2v4z\"/>\n",
              "    </g>\n",
              "</svg>\n",
              "  </button>\n",
              "\n",
              "<style>\n",
              "  .colab-df-quickchart {\n",
              "    background-color: #E8F0FE;\n",
              "    border: none;\n",
              "    border-radius: 50%;\n",
              "    cursor: pointer;\n",
              "    display: none;\n",
              "    fill: #1967D2;\n",
              "    height: 32px;\n",
              "    padding: 0 0 0 0;\n",
              "    width: 32px;\n",
              "  }\n",
              "\n",
              "  .colab-df-quickchart:hover {\n",
              "    background-color: #E2EBFA;\n",
              "    box-shadow: 0px 1px 2px rgba(60, 64, 67, 0.3), 0px 1px 3px 1px rgba(60, 64, 67, 0.15);\n",
              "    fill: #174EA6;\n",
              "  }\n",
              "\n",
              "  [theme=dark] .colab-df-quickchart {\n",
              "    background-color: #3B4455;\n",
              "    fill: #D2E3FC;\n",
              "  }\n",
              "\n",
              "  [theme=dark] .colab-df-quickchart:hover {\n",
              "    background-color: #434B5C;\n",
              "    box-shadow: 0px 1px 3px 1px rgba(0, 0, 0, 0.15);\n",
              "    filter: drop-shadow(0px 1px 2px rgba(0, 0, 0, 0.3));\n",
              "    fill: #FFFFFF;\n",
              "  }\n",
              "</style>\n",
              "\n",
              "  <script>\n",
              "    async function quickchart(key) {\n",
              "      const charts = await google.colab.kernel.invokeFunction(\n",
              "          'suggestCharts', [key], {});\n",
              "    }\n",
              "    (() => {\n",
              "      let quickchartButtonEl =\n",
              "        document.querySelector('#df-7d09a069-c54e-4b6c-b807-65e2ea684ff5 button');\n",
              "      quickchartButtonEl.style.display =\n",
              "        google.colab.kernel.accessAllowed ? 'block' : 'none';\n",
              "    })();\n",
              "  </script>\n",
              "</div>\n",
              "    </div>\n",
              "  </div>\n"
            ]
          },
          "metadata": {},
          "execution_count": 20
        }
      ]
    },
    {
      "cell_type": "code",
      "source": [
        "df.shape"
      ],
      "metadata": {
        "colab": {
          "base_uri": "https://localhost:8080/"
        },
        "id": "WhgjyMlTa4vk",
        "outputId": "85c8584b-12ff-49d8-bca6-ccf960a69dea"
      },
      "execution_count": 21,
      "outputs": [
        {
          "output_type": "execute_result",
          "data": {
            "text/plain": [
              "(1253, 23)"
            ]
          },
          "metadata": {},
          "execution_count": 21
        }
      ]
    },
    {
      "cell_type": "code",
      "source": [
        "df.info()"
      ],
      "metadata": {
        "colab": {
          "base_uri": "https://localhost:8080/"
        },
        "id": "HjpUvqSJbrj2",
        "outputId": "46578dc3-a03f-4e05-c5df-f3e984192c2f"
      },
      "execution_count": 22,
      "outputs": [
        {
          "output_type": "stream",
          "name": "stdout",
          "text": [
            "<class 'pandas.core.frame.DataFrame'>\n",
            "RangeIndex: 1253 entries, 0 to 1252\n",
            "Data columns (total 23 columns):\n",
            " #   Column                                                                                                                   Non-Null Count  Dtype  \n",
            "---  ------                                                                                                                   --------------  -----  \n",
            " 0   Timestamp                                                                                                                1253 non-null   object \n",
            " 1   Age                                                                                                                      1226 non-null   float64\n",
            " 2   Gender                                                                                                                   1243 non-null   object \n",
            " 3   City                                                                                                                     1253 non-null   object \n",
            " 4   Position                                                                                                                 1247 non-null   object \n",
            " 5   Total years of experience                                                                                                1237 non-null   object \n",
            " 6   Years of experience in Germany                                                                                           1221 non-null   object \n",
            " 7   Seniority level                                                                                                          1241 non-null   object \n",
            " 8   Your main technology / programming language                                                                              1126 non-null   object \n",
            " 9   Other technologies/programming languages you use often                                                                   1096 non-null   object \n",
            " 10  Yearly brutto salary (without bonus and stocks) in EUR                                                                   1253 non-null   float64\n",
            " 11  Yearly bonus + stocks in EUR                                                                                             829 non-null    object \n",
            " 12  Annual brutto salary (without bonus and stocks) one year ago. Only answer if staying in the same country                 885 non-null    float64\n",
            " 13  Annual bonus+stocks one year ago. Only answer if staying in same country                                                 614 non-null    object \n",
            " 14  Number of vacation days                                                                                                  1185 non-null   object \n",
            " 15  Employment status                                                                                                        1236 non-null   object \n",
            " 16  Сontract duration                                                                                                        1224 non-null   object \n",
            " 17  Main language at work                                                                                                    1237 non-null   object \n",
            " 18  Company size                                                                                                             1235 non-null   object \n",
            " 19  Company type                                                                                                             1228 non-null   object \n",
            " 20  Have you lost your job due to the coronavirus outbreak?                                                                  1233 non-null   object \n",
            " 21  Have you been forced to have a shorter working week (Kurzarbeit)? If yes, how many hours per week                        373 non-null    float64\n",
            " 22  Have you received additional monetary support from your employer due to Work From Home? If yes, how much in 2020 in EUR  462 non-null    object \n",
            "dtypes: float64(4), object(19)\n",
            "memory usage: 225.3+ KB\n"
          ]
        }
      ]
    },
    {
      "cell_type": "code",
      "source": [
        "df.dtypes"
      ],
      "metadata": {
        "colab": {
          "base_uri": "https://localhost:8080/"
        },
        "id": "QIwWXOrLbyk6",
        "outputId": "92bd348a-48bf-4111-cca7-c457b030595f"
      },
      "execution_count": 23,
      "outputs": [
        {
          "output_type": "execute_result",
          "data": {
            "text/plain": [
              "Timestamp                                                                                                                   object\n",
              "Age                                                                                                                        float64\n",
              "Gender                                                                                                                      object\n",
              "City                                                                                                                        object\n",
              "Position                                                                                                                    object\n",
              "Total years of experience                                                                                                   object\n",
              "Years of experience in Germany                                                                                              object\n",
              "Seniority level                                                                                                             object\n",
              "Your main technology / programming language                                                                                 object\n",
              "Other technologies/programming languages you use often                                                                      object\n",
              "Yearly brutto salary (without bonus and stocks) in EUR                                                                     float64\n",
              "Yearly bonus + stocks in EUR                                                                                                object\n",
              "Annual brutto salary (without bonus and stocks) one year ago. Only answer if staying in the same country                   float64\n",
              "Annual bonus+stocks one year ago. Only answer if staying in same country                                                    object\n",
              "Number of vacation days                                                                                                     object\n",
              "Employment status                                                                                                           object\n",
              "Сontract duration                                                                                                           object\n",
              "Main language at work                                                                                                       object\n",
              "Company size                                                                                                                object\n",
              "Company type                                                                                                                object\n",
              "Have you lost your job due to the coronavirus outbreak?                                                                     object\n",
              "Have you been forced to have a shorter working week (Kurzarbeit)? If yes, how many hours per week                          float64\n",
              "Have you received additional monetary support from your employer due to Work From Home? If yes, how much in 2020 in EUR     object\n",
              "dtype: object"
            ]
          },
          "metadata": {},
          "execution_count": 23
        }
      ]
    },
    {
      "cell_type": "code",
      "source": [
        "df.columns"
      ],
      "metadata": {
        "colab": {
          "base_uri": "https://localhost:8080/"
        },
        "id": "f3G-U7upb5o6",
        "outputId": "8ff6701b-599b-4440-8002-bd171b1977bf"
      },
      "execution_count": 24,
      "outputs": [
        {
          "output_type": "execute_result",
          "data": {
            "text/plain": [
              "Index(['Timestamp', 'Age', 'Gender', 'City', 'Position ',\n",
              "       'Total years of experience', 'Years of experience in Germany',\n",
              "       'Seniority level', 'Your main technology / programming language',\n",
              "       'Other technologies/programming languages you use often',\n",
              "       'Yearly brutto salary (without bonus and stocks) in EUR',\n",
              "       'Yearly bonus + stocks in EUR',\n",
              "       'Annual brutto salary (without bonus and stocks) one year ago. Only answer if staying in the same country',\n",
              "       'Annual bonus+stocks one year ago. Only answer if staying in same country',\n",
              "       'Number of vacation days', 'Employment status', 'Сontract duration',\n",
              "       'Main language at work', 'Company size', 'Company type',\n",
              "       'Have you lost your job due to the coronavirus outbreak?',\n",
              "       'Have you been forced to have a shorter working week (Kurzarbeit)? If yes, how many hours per week',\n",
              "       'Have you received additional monetary support from your employer due to Work From Home? If yes, how much in 2020 in EUR'],\n",
              "      dtype='object')"
            ]
          },
          "metadata": {},
          "execution_count": 24
        }
      ]
    },
    {
      "cell_type": "code",
      "source": [
        "\n"
      ],
      "metadata": {
        "id": "WUBkJoRYb-N7"
      },
      "execution_count": 24,
      "outputs": []
    },
    {
      "cell_type": "code",
      "source": [
        "#Renaming the columns to get work handy\n",
        "df=df.rename(columns={\n",
        "       'Total years of experience':'exp', 'Years of experience in Germany':'German_exp',\n",
        "        'Your main technology / programming language':'prog_lang',\n",
        "       'Other technologies/programming languages you use often':'oth_prog_lang',\n",
        "       'Yearly brutto salary (without bonus and stocks) in EUR':'salary',\n",
        "       'Yearly bonus + stocks in EUR':'bonus',\n",
        "       'Annual brutto salary (without bonus and stocks) one year ago. Only answer if staying in the same country':'Annual_sal',\n",
        "       'Annual bonus+stocks one year ago. Only answer if staying in same country':'Annual_bonus',\n",
        "       'Number of vacation days':'vacation_days' ,\n",
        "       'Main language at work':'Working_language',\n",
        "       'Have you lost your job due to the coronavirus outbreak?':'Job_loss',\n",
        "       'Have you been forced to have a shorter working week (Kurzarbeit)? If yes, how many hours per week':\"Forced\",\n",
        "       'Have you received additional monetary support from your employer due to Work From Home? If yes, how much in 2020 in EUR':'Work_from_home'\n",
        "      })"
      ],
      "metadata": {
        "id": "bw9eR3bPcdXX"
      },
      "execution_count": 33,
      "outputs": []
    },
    {
      "cell_type": "code",
      "source": [
        "#Null_Values\n",
        "df.isnull().sum()"
      ],
      "metadata": {
        "colab": {
          "base_uri": "https://localhost:8080/"
        },
        "id": "wogxJLqacKXR",
        "outputId": "a7c1e287-4e88-4317-b09d-89cf18f81308"
      },
      "execution_count": 35,
      "outputs": [
        {
          "output_type": "execute_result",
          "data": {
            "text/plain": [
              "Timestamp              0\n",
              "Age                   27\n",
              "Gender                10\n",
              "City                   0\n",
              "Position               6\n",
              "exp                   16\n",
              "German_exp            32\n",
              "Seniority level       12\n",
              "prog_lang            127\n",
              "oth_prog_lang        157\n",
              "salary                 0\n",
              "bonus                424\n",
              "Annual_sal           368\n",
              "Annual_bonus         639\n",
              "vacation_days         68\n",
              "Employment status     17\n",
              "Сontract duration     29\n",
              "Working_language      16\n",
              "Company size          18\n",
              "Company type          25\n",
              "Job_loss              20\n",
              "Forced               880\n",
              "Work_from_home       791\n",
              "dtype: int64"
            ]
          },
          "metadata": {},
          "execution_count": 35
        }
      ]
    },
    {
      "cell_type": "code",
      "source": [
        "df.isnull().sum().sum()"
      ],
      "metadata": {
        "colab": {
          "base_uri": "https://localhost:8080/"
        },
        "id": "eiv9Vw0hgb-9",
        "outputId": "51b22a92-8e10-4086-8870-7c3b7337c35a"
      },
      "execution_count": 36,
      "outputs": [
        {
          "output_type": "execute_result",
          "data": {
            "text/plain": [
              "3682"
            ]
          },
          "metadata": {},
          "execution_count": 36
        }
      ]
    },
    {
      "cell_type": "code",
      "source": [
        "#Dropping the unimportant columns\n",
        "df=df.drop(['Work_from_home','Forced','Annual_sal','Annual_bonus','bonus'],axis=1)\n"
      ],
      "metadata": {
        "id": "TUMkRlDmg_vh"
      },
      "execution_count": 45,
      "outputs": []
    },
    {
      "cell_type": "code",
      "source": [
        "df.dt"
      ],
      "metadata": {
        "colab": {
          "base_uri": "https://localhost:8080/"
        },
        "id": "-VoZRRkFhJFT",
        "outputId": "0a786a76-33e2-4f90-c2de-d3ffd0556a46"
      },
      "execution_count": 46,
      "outputs": [
        {
          "output_type": "execute_result",
          "data": {
            "text/plain": [
              "Timestamp             object\n",
              "Age                  float64\n",
              "Gender                object\n",
              "City                  object\n",
              "Position              object\n",
              "exp                   object\n",
              "German_exp            object\n",
              "Seniority level       object\n",
              "prog_lang             object\n",
              "oth_prog_lang         object\n",
              "salary               float64\n",
              "vacation_days         object\n",
              "Employment status     object\n",
              "Сontract duration     object\n",
              "Working_language      object\n",
              "Company size          object\n",
              "Company type          object\n",
              "Job_loss              object\n",
              "dtype: object"
            ]
          },
          "metadata": {},
          "execution_count": 46
        }
      ]
    },
    {
      "cell_type": "code",
      "source": [
        "#HandlingNullValues\n",
        "df.isnull().sum().sum()"
      ],
      "metadata": {
        "colab": {
          "base_uri": "https://localhost:8080/"
        },
        "id": "6oTByw7RnM7a",
        "outputId": "48f9eb58-dab6-41cc-acc9-55ab247ca4b6"
      },
      "execution_count": 47,
      "outputs": [
        {
          "output_type": "execute_result",
          "data": {
            "text/plain": [
              "580"
            ]
          },
          "metadata": {},
          "execution_count": 47
        }
      ]
    },
    {
      "cell_type": "code",
      "source": [
        "df=df.fillna({'Gender':'Not_Known', 'City':'Not_Known', 'Position':'Not_Known',\n",
        "       'Seniority level':'Not_Known', 'prog_lang':'Not_Known', 'oth_prog_lang':'Not_Known',\n",
        "       'vacation_days':'Not_Known', 'Employment status':'Not_Known', 'Сontract duration':'Not_Known',\n",
        "       'Working_language':'Not_Known', 'Company size':'Not_Known', 'Company type':'Not_Known', 'Job_loss':'Not_Known'}\n",
        "      )"
      ],
      "metadata": {
        "id": "D1A8JRaengEf"
      },
      "execution_count": 54,
      "outputs": []
    },
    {
      "cell_type": "code",
      "source": [],
      "metadata": {
        "id": "C1FbdwTbppG2"
      },
      "execution_count": 58,
      "outputs": []
    },
    {
      "cell_type": "code",
      "source": [
        "#Variables having integer as values got handled here\n",
        "#interpolate function #linear by default\n",
        "df=df.interpolate()\n"
      ],
      "metadata": {
        "id": "gkrxVLjLpN9D"
      },
      "execution_count": 101,
      "outputs": []
    },
    {
      "cell_type": "code",
      "source": [
        "df.isnull().sum()"
      ],
      "metadata": {
        "colab": {
          "base_uri": "https://localhost:8080/"
        },
        "id": "jYGxYPUVrXFc",
        "outputId": "2f5d8cc4-cec8-439a-b5c2-3712bcf7fa8a"
      },
      "execution_count": 71,
      "outputs": [
        {
          "output_type": "execute_result",
          "data": {
            "text/plain": [
              "Timestamp             0\n",
              "Age                   0\n",
              "Gender                0\n",
              "City                  0\n",
              "Position              6\n",
              "exp                  16\n",
              "German_exp           32\n",
              "Seniority level       0\n",
              "prog_lang             0\n",
              "oth_prog_lang         0\n",
              "salary                0\n",
              "vacation_days         0\n",
              "Employment status     0\n",
              "Сontract duration     0\n",
              "Working_language      0\n",
              "Company size          0\n",
              "Company type          0\n",
              "Job_loss              0\n",
              "dtype: int64"
            ]
          },
          "metadata": {},
          "execution_count": 71
        }
      ]
    },
    {
      "cell_type": "code",
      "source": [
        "df=df.fillna(0)\n"
      ],
      "metadata": {
        "id": "OBqUoxTqrj5v"
      },
      "execution_count": 97,
      "outputs": []
    },
    {
      "cell_type": "code",
      "source": [
        "df.isnull().sum()"
      ],
      "metadata": {
        "colab": {
          "base_uri": "https://localhost:8080/"
        },
        "id": "4tj4ErMdsAsh",
        "outputId": "c89bec43-97d7-4f7d-9aff-9b288d1230e6"
      },
      "execution_count": 98,
      "outputs": [
        {
          "output_type": "execute_result",
          "data": {
            "text/plain": [
              "Timestamp            0\n",
              "Age                  0\n",
              "Gender               0\n",
              "City                 0\n",
              "Position             0\n",
              "exp                  0\n",
              "German_exp           0\n",
              "Seniority level      0\n",
              "prog_lang            0\n",
              "oth_prog_lang        0\n",
              "salary               0\n",
              "vacation_days        0\n",
              "Employment status    0\n",
              "Сontract duration    0\n",
              "Working_language     0\n",
              "Company size         0\n",
              "Company type         0\n",
              "Job_loss             0\n",
              "dtype: int64"
            ]
          },
          "metadata": {},
          "execution_count": 98
        }
      ]
    },
    {
      "cell_type": "code",
      "source": [
        "df.isnull().sum().sum()"
      ],
      "metadata": {
        "colab": {
          "base_uri": "https://localhost:8080/"
        },
        "id": "qUvTUETat2vM",
        "outputId": "b7f11816-3d13-4d3a-e7ec-864377acb6ef"
      },
      "execution_count": 99,
      "outputs": [
        {
          "output_type": "execute_result",
          "data": {
            "text/plain": [
              "0"
            ]
          },
          "metadata": {},
          "execution_count": 99
        }
      ]
    },
    {
      "cell_type": "code",
      "source": [],
      "metadata": {
        "id": "uZWhcSo5umrW"
      },
      "execution_count": 96,
      "outputs": []
    },
    {
      "cell_type": "code",
      "source": [],
      "metadata": {
        "id": "vG0Y-HqDv-ml"
      },
      "execution_count": null,
      "outputs": []
    }
  ]
}