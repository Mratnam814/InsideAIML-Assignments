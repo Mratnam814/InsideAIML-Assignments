{
  "nbformat": 4,
  "nbformat_minor": 0,
  "metadata": {
    "colab": {
      "provenance": []
    },
    "kernelspec": {
      "name": "python3",
      "display_name": "Python 3"
    },
    "language_info": {
      "name": "python"
    }
  },
  "cells": [
    {
      "cell_type": "code",
      "execution_count": 1,
      "metadata": {
        "id": "rKU8yroyoeAR"
      },
      "outputs": [],
      "source": [
        "import pandas as pd"
      ]
    },
    {
      "cell_type": "code",
      "source": [
        "df=pd.read_csv(\"/content/BBC_DATA.csv\")"
      ],
      "metadata": {
        "id": "3CHaG-fio3Po"
      },
      "execution_count": 2,
      "outputs": []
    },
    {
      "cell_type": "code",
      "source": [
        "df.head()"
      ],
      "metadata": {
        "colab": {
          "base_uri": "https://localhost:8080/",
          "height": 206
        },
        "id": "NgFq2-nmpUo8",
        "outputId": "bf3f7b80-4f6b-40cd-9c53-ddce1a6332c7"
      },
      "execution_count": 3,
      "outputs": [
        {
          "output_type": "execute_result",
          "data": {
            "text/plain": [
              "   ArticleId                                               Text  Category\n",
              "0       1833  worldcom ex-boss launches defence lawyers defe...  business\n",
              "1        154  german business confidence slides german busin...  business\n",
              "2       1101  bbc poll indicates economic gloom citizens in ...  business\n",
              "3       1976  lifestyle  governs mobile choice  faster  bett...      tech\n",
              "4        917  enron bosses in $168m payout eighteen former e...  business"
            ],
            "text/html": [
              "\n",
              "  <div id=\"df-0149734c-8cea-4b70-854b-807c8f852354\" class=\"colab-df-container\">\n",
              "    <div>\n",
              "<style scoped>\n",
              "    .dataframe tbody tr th:only-of-type {\n",
              "        vertical-align: middle;\n",
              "    }\n",
              "\n",
              "    .dataframe tbody tr th {\n",
              "        vertical-align: top;\n",
              "    }\n",
              "\n",
              "    .dataframe thead th {\n",
              "        text-align: right;\n",
              "    }\n",
              "</style>\n",
              "<table border=\"1\" class=\"dataframe\">\n",
              "  <thead>\n",
              "    <tr style=\"text-align: right;\">\n",
              "      <th></th>\n",
              "      <th>ArticleId</th>\n",
              "      <th>Text</th>\n",
              "      <th>Category</th>\n",
              "    </tr>\n",
              "  </thead>\n",
              "  <tbody>\n",
              "    <tr>\n",
              "      <th>0</th>\n",
              "      <td>1833</td>\n",
              "      <td>worldcom ex-boss launches defence lawyers defe...</td>\n",
              "      <td>business</td>\n",
              "    </tr>\n",
              "    <tr>\n",
              "      <th>1</th>\n",
              "      <td>154</td>\n",
              "      <td>german business confidence slides german busin...</td>\n",
              "      <td>business</td>\n",
              "    </tr>\n",
              "    <tr>\n",
              "      <th>2</th>\n",
              "      <td>1101</td>\n",
              "      <td>bbc poll indicates economic gloom citizens in ...</td>\n",
              "      <td>business</td>\n",
              "    </tr>\n",
              "    <tr>\n",
              "      <th>3</th>\n",
              "      <td>1976</td>\n",
              "      <td>lifestyle  governs mobile choice  faster  bett...</td>\n",
              "      <td>tech</td>\n",
              "    </tr>\n",
              "    <tr>\n",
              "      <th>4</th>\n",
              "      <td>917</td>\n",
              "      <td>enron bosses in $168m payout eighteen former e...</td>\n",
              "      <td>business</td>\n",
              "    </tr>\n",
              "  </tbody>\n",
              "</table>\n",
              "</div>\n",
              "    <div class=\"colab-df-buttons\">\n",
              "\n",
              "  <div class=\"colab-df-container\">\n",
              "    <button class=\"colab-df-convert\" onclick=\"convertToInteractive('df-0149734c-8cea-4b70-854b-807c8f852354')\"\n",
              "            title=\"Convert this dataframe to an interactive table.\"\n",
              "            style=\"display:none;\">\n",
              "\n",
              "  <svg xmlns=\"http://www.w3.org/2000/svg\" height=\"24px\" viewBox=\"0 -960 960 960\">\n",
              "    <path d=\"M120-120v-720h720v720H120Zm60-500h600v-160H180v160Zm220 220h160v-160H400v160Zm0 220h160v-160H400v160ZM180-400h160v-160H180v160Zm440 0h160v-160H620v160ZM180-180h160v-160H180v160Zm440 0h160v-160H620v160Z\"/>\n",
              "  </svg>\n",
              "    </button>\n",
              "\n",
              "  <style>\n",
              "    .colab-df-container {\n",
              "      display:flex;\n",
              "      gap: 12px;\n",
              "    }\n",
              "\n",
              "    .colab-df-convert {\n",
              "      background-color: #E8F0FE;\n",
              "      border: none;\n",
              "      border-radius: 50%;\n",
              "      cursor: pointer;\n",
              "      display: none;\n",
              "      fill: #1967D2;\n",
              "      height: 32px;\n",
              "      padding: 0 0 0 0;\n",
              "      width: 32px;\n",
              "    }\n",
              "\n",
              "    .colab-df-convert:hover {\n",
              "      background-color: #E2EBFA;\n",
              "      box-shadow: 0px 1px 2px rgba(60, 64, 67, 0.3), 0px 1px 3px 1px rgba(60, 64, 67, 0.15);\n",
              "      fill: #174EA6;\n",
              "    }\n",
              "\n",
              "    .colab-df-buttons div {\n",
              "      margin-bottom: 4px;\n",
              "    }\n",
              "\n",
              "    [theme=dark] .colab-df-convert {\n",
              "      background-color: #3B4455;\n",
              "      fill: #D2E3FC;\n",
              "    }\n",
              "\n",
              "    [theme=dark] .colab-df-convert:hover {\n",
              "      background-color: #434B5C;\n",
              "      box-shadow: 0px 1px 3px 1px rgba(0, 0, 0, 0.15);\n",
              "      filter: drop-shadow(0px 1px 2px rgba(0, 0, 0, 0.3));\n",
              "      fill: #FFFFFF;\n",
              "    }\n",
              "  </style>\n",
              "\n",
              "    <script>\n",
              "      const buttonEl =\n",
              "        document.querySelector('#df-0149734c-8cea-4b70-854b-807c8f852354 button.colab-df-convert');\n",
              "      buttonEl.style.display =\n",
              "        google.colab.kernel.accessAllowed ? 'block' : 'none';\n",
              "\n",
              "      async function convertToInteractive(key) {\n",
              "        const element = document.querySelector('#df-0149734c-8cea-4b70-854b-807c8f852354');\n",
              "        const dataTable =\n",
              "          await google.colab.kernel.invokeFunction('convertToInteractive',\n",
              "                                                    [key], {});\n",
              "        if (!dataTable) return;\n",
              "\n",
              "        const docLinkHtml = 'Like what you see? Visit the ' +\n",
              "          '<a target=\"_blank\" href=https://colab.research.google.com/notebooks/data_table.ipynb>data table notebook</a>'\n",
              "          + ' to learn more about interactive tables.';\n",
              "        element.innerHTML = '';\n",
              "        dataTable['output_type'] = 'display_data';\n",
              "        await google.colab.output.renderOutput(dataTable, element);\n",
              "        const docLink = document.createElement('div');\n",
              "        docLink.innerHTML = docLinkHtml;\n",
              "        element.appendChild(docLink);\n",
              "      }\n",
              "    </script>\n",
              "  </div>\n",
              "\n",
              "\n",
              "<div id=\"df-1fb18f22-1bf6-4cc8-aec3-730caf9951ad\">\n",
              "  <button class=\"colab-df-quickchart\" onclick=\"quickchart('df-1fb18f22-1bf6-4cc8-aec3-730caf9951ad')\"\n",
              "            title=\"Suggest charts.\"\n",
              "            style=\"display:none;\">\n",
              "\n",
              "<svg xmlns=\"http://www.w3.org/2000/svg\" height=\"24px\"viewBox=\"0 0 24 24\"\n",
              "     width=\"24px\">\n",
              "    <g>\n",
              "        <path d=\"M19 3H5c-1.1 0-2 .9-2 2v14c0 1.1.9 2 2 2h14c1.1 0 2-.9 2-2V5c0-1.1-.9-2-2-2zM9 17H7v-7h2v7zm4 0h-2V7h2v10zm4 0h-2v-4h2v4z\"/>\n",
              "    </g>\n",
              "</svg>\n",
              "  </button>\n",
              "\n",
              "<style>\n",
              "  .colab-df-quickchart {\n",
              "      --bg-color: #E8F0FE;\n",
              "      --fill-color: #1967D2;\n",
              "      --hover-bg-color: #E2EBFA;\n",
              "      --hover-fill-color: #174EA6;\n",
              "      --disabled-fill-color: #AAA;\n",
              "      --disabled-bg-color: #DDD;\n",
              "  }\n",
              "\n",
              "  [theme=dark] .colab-df-quickchart {\n",
              "      --bg-color: #3B4455;\n",
              "      --fill-color: #D2E3FC;\n",
              "      --hover-bg-color: #434B5C;\n",
              "      --hover-fill-color: #FFFFFF;\n",
              "      --disabled-bg-color: #3B4455;\n",
              "      --disabled-fill-color: #666;\n",
              "  }\n",
              "\n",
              "  .colab-df-quickchart {\n",
              "    background-color: var(--bg-color);\n",
              "    border: none;\n",
              "    border-radius: 50%;\n",
              "    cursor: pointer;\n",
              "    display: none;\n",
              "    fill: var(--fill-color);\n",
              "    height: 32px;\n",
              "    padding: 0;\n",
              "    width: 32px;\n",
              "  }\n",
              "\n",
              "  .colab-df-quickchart:hover {\n",
              "    background-color: var(--hover-bg-color);\n",
              "    box-shadow: 0 1px 2px rgba(60, 64, 67, 0.3), 0 1px 3px 1px rgba(60, 64, 67, 0.15);\n",
              "    fill: var(--button-hover-fill-color);\n",
              "  }\n",
              "\n",
              "  .colab-df-quickchart-complete:disabled,\n",
              "  .colab-df-quickchart-complete:disabled:hover {\n",
              "    background-color: var(--disabled-bg-color);\n",
              "    fill: var(--disabled-fill-color);\n",
              "    box-shadow: none;\n",
              "  }\n",
              "\n",
              "  .colab-df-spinner {\n",
              "    border: 2px solid var(--fill-color);\n",
              "    border-color: transparent;\n",
              "    border-bottom-color: var(--fill-color);\n",
              "    animation:\n",
              "      spin 1s steps(1) infinite;\n",
              "  }\n",
              "\n",
              "  @keyframes spin {\n",
              "    0% {\n",
              "      border-color: transparent;\n",
              "      border-bottom-color: var(--fill-color);\n",
              "      border-left-color: var(--fill-color);\n",
              "    }\n",
              "    20% {\n",
              "      border-color: transparent;\n",
              "      border-left-color: var(--fill-color);\n",
              "      border-top-color: var(--fill-color);\n",
              "    }\n",
              "    30% {\n",
              "      border-color: transparent;\n",
              "      border-left-color: var(--fill-color);\n",
              "      border-top-color: var(--fill-color);\n",
              "      border-right-color: var(--fill-color);\n",
              "    }\n",
              "    40% {\n",
              "      border-color: transparent;\n",
              "      border-right-color: var(--fill-color);\n",
              "      border-top-color: var(--fill-color);\n",
              "    }\n",
              "    60% {\n",
              "      border-color: transparent;\n",
              "      border-right-color: var(--fill-color);\n",
              "    }\n",
              "    80% {\n",
              "      border-color: transparent;\n",
              "      border-right-color: var(--fill-color);\n",
              "      border-bottom-color: var(--fill-color);\n",
              "    }\n",
              "    90% {\n",
              "      border-color: transparent;\n",
              "      border-bottom-color: var(--fill-color);\n",
              "    }\n",
              "  }\n",
              "</style>\n",
              "\n",
              "  <script>\n",
              "    async function quickchart(key) {\n",
              "      const quickchartButtonEl =\n",
              "        document.querySelector('#' + key + ' button');\n",
              "      quickchartButtonEl.disabled = true;  // To prevent multiple clicks.\n",
              "      quickchartButtonEl.classList.add('colab-df-spinner');\n",
              "      try {\n",
              "        const charts = await google.colab.kernel.invokeFunction(\n",
              "            'suggestCharts', [key], {});\n",
              "      } catch (error) {\n",
              "        console.error('Error during call to suggestCharts:', error);\n",
              "      }\n",
              "      quickchartButtonEl.classList.remove('colab-df-spinner');\n",
              "      quickchartButtonEl.classList.add('colab-df-quickchart-complete');\n",
              "    }\n",
              "    (() => {\n",
              "      let quickchartButtonEl =\n",
              "        document.querySelector('#df-1fb18f22-1bf6-4cc8-aec3-730caf9951ad button');\n",
              "      quickchartButtonEl.style.display =\n",
              "        google.colab.kernel.accessAllowed ? 'block' : 'none';\n",
              "    })();\n",
              "  </script>\n",
              "</div>\n",
              "    </div>\n",
              "  </div>\n"
            ]
          },
          "metadata": {},
          "execution_count": 3
        }
      ]
    },
    {
      "cell_type": "code",
      "source": [
        "df.columns"
      ],
      "metadata": {
        "colab": {
          "base_uri": "https://localhost:8080/"
        },
        "id": "RM8eeDt0pYTj",
        "outputId": "087e7378-1925-4707-fa8b-e0220e38a983"
      },
      "execution_count": 4,
      "outputs": [
        {
          "output_type": "execute_result",
          "data": {
            "text/plain": [
              "Index(['ArticleId', 'Text', 'Category'], dtype='object')"
            ]
          },
          "metadata": {},
          "execution_count": 4
        }
      ]
    },
    {
      "cell_type": "code",
      "source": [
        "df.dtypes"
      ],
      "metadata": {
        "colab": {
          "base_uri": "https://localhost:8080/"
        },
        "id": "8zPlUlf6pgDa",
        "outputId": "e0f96e7d-7878-4964-d44a-8f0b43a04584"
      },
      "execution_count": 5,
      "outputs": [
        {
          "output_type": "execute_result",
          "data": {
            "text/plain": [
              "ArticleId     int64\n",
              "Text         object\n",
              "Category     object\n",
              "dtype: object"
            ]
          },
          "metadata": {},
          "execution_count": 5
        }
      ]
    },
    {
      "cell_type": "code",
      "source": [
        "df['Category'].value_counts()"
      ],
      "metadata": {
        "colab": {
          "base_uri": "https://localhost:8080/"
        },
        "id": "_o9DeQSZpmUS",
        "outputId": "06da1e16-768b-4c9c-dc6c-720db29a3096"
      },
      "execution_count": 6,
      "outputs": [
        {
          "output_type": "execute_result",
          "data": {
            "text/plain": [
              "sport            346\n",
              "business         336\n",
              "politics         274\n",
              "entertainment    273\n",
              "tech             261\n",
              "Name: Category, dtype: int64"
            ]
          },
          "metadata": {},
          "execution_count": 6
        }
      ]
    },
    {
      "cell_type": "code",
      "source": [
        "df1=df['Text'][0]"
      ],
      "metadata": {
        "id": "l2w2c-RgpsuF"
      },
      "execution_count": 7,
      "outputs": []
    },
    {
      "cell_type": "code",
      "source": [
        "!pip install nltk"
      ],
      "metadata": {
        "colab": {
          "base_uri": "https://localhost:8080/"
        },
        "id": "LthItTW5qK5d",
        "outputId": "df1d566a-280a-4b46-f110-b2946f93d7b0"
      },
      "execution_count": 8,
      "outputs": [
        {
          "output_type": "stream",
          "name": "stdout",
          "text": [
            "Requirement already satisfied: nltk in /usr/local/lib/python3.10/dist-packages (3.8.1)\n",
            "Requirement already satisfied: click in /usr/local/lib/python3.10/dist-packages (from nltk) (8.1.7)\n",
            "Requirement already satisfied: joblib in /usr/local/lib/python3.10/dist-packages (from nltk) (1.3.2)\n",
            "Requirement already satisfied: regex>=2021.8.3 in /usr/local/lib/python3.10/dist-packages (from nltk) (2023.6.3)\n",
            "Requirement already satisfied: tqdm in /usr/local/lib/python3.10/dist-packages (from nltk) (4.66.1)\n",
            "\u001b[33mWARNING: Running pip as the 'root' user can result in broken permissions and conflicting behaviour with the system package manager. It is recommended to use a virtual environment instead: https://pip.pypa.io/warnings/venv\u001b[0m\u001b[33m\n",
            "\u001b[0m"
          ]
        }
      ]
    },
    {
      "cell_type": "code",
      "source": [
        "import nltk\n",
        "from nltk.stem import PorterStemmer\n",
        "from nltk.corpus import stopwords"
      ],
      "metadata": {
        "id": "0VVE04e0qRbm"
      },
      "execution_count": 9,
      "outputs": []
    },
    {
      "cell_type": "code",
      "source": [
        "nltk.download('punkt')\n",
        "sent=nltk.sent_tokenize(df1)"
      ],
      "metadata": {
        "colab": {
          "base_uri": "https://localhost:8080/"
        },
        "id": "pkKM9beSqvnk",
        "outputId": "c22b38b7-0020-4aa1-a3da-0c883e24ae96"
      },
      "execution_count": 10,
      "outputs": [
        {
          "output_type": "stream",
          "name": "stderr",
          "text": [
            "[nltk_data] Downloading package punkt to /root/nltk_data...\n",
            "[nltk_data]   Package punkt is already up-to-date!\n"
          ]
        }
      ]
    },
    {
      "cell_type": "code",
      "source": [
        "print(sent)"
      ],
      "metadata": {
        "colab": {
          "base_uri": "https://localhost:8080/"
        },
        "id": "tGJtwxq0q5hR",
        "outputId": "bae0ec68-a018-4f75-a2b3-8247b0349b94"
      },
      "execution_count": 11,
      "outputs": [
        {
          "output_type": "stream",
          "name": "stdout",
          "text": [
            "['worldcom ex-boss launches defence lawyers defending former worldcom chief bernie ebbers against a battery of fraud charges have called a company whistleblower as their first witness.', 'cynthia cooper  worldcom s ex-head of internal accounting  alerted directors to irregular accounting practices at the us telecoms giant in 2002. her warnings led to the collapse of the firm following the discovery of an $11bn (£5.7bn) accounting fraud.', 'mr ebbers has pleaded not guilty to charges of fraud and conspiracy.', 'prosecution lawyers have argued that mr ebbers orchestrated a series of accounting tricks at worldcom  ordering employees to hide expenses and inflate revenues to meet wall street earnings estimates.', 'but ms cooper  who now runs her own consulting business  told a jury in new york on wednesday that external auditors arthur andersen had approved worldcom s accounting in early 2001 and 2002. she said andersen had given a  green light  to the procedures and practices used by worldcom.', 'mr ebber s lawyers have said he was unaware of the fraud  arguing that auditors did not alert him to any problems.', 'ms cooper also said that during shareholder meetings mr ebbers often passed over technical questions to the company s finance chief  giving only  brief  answers himself.', 'the prosecution s star witness  former worldcom financial chief scott sullivan  has said that mr ebbers ordered accounting adjustments at the firm  telling him to  hit our books .', 'however  ms cooper said mr sullivan had not mentioned  anything uncomfortable  about worldcom s accounting during a 2001 audit committee meeting.', 'mr ebbers could face a jail sentence of 85 years if convicted of all the charges he is facing.', 'worldcom emerged from bankruptcy protection in 2004  and is now known as mci.', 'last week  mci agreed to a buyout by verizon communications in a deal valued at $6.75bn.']\n"
          ]
        }
      ]
    },
    {
      "cell_type": "code",
      "source": [
        "stemmer=PorterStemmer()"
      ],
      "metadata": {
        "id": "tLltFo7QrA6S"
      },
      "execution_count": 12,
      "outputs": []
    },
    {
      "cell_type": "code",
      "source": [
        "import re\n",
        "corpus=[]\n",
        "for i in range(len(sent)):\n",
        "    review=re.sub('[^a-zA-Z]',' ',sent[i])\n",
        "    review=review.lower()\n",
        "    corpus.append(review)"
      ],
      "metadata": {
        "id": "7q-db_3OrPsE"
      },
      "execution_count": 13,
      "outputs": []
    },
    {
      "cell_type": "code",
      "source": [
        "corpus"
      ],
      "metadata": {
        "colab": {
          "base_uri": "https://localhost:8080/"
        },
        "id": "rd_VK3lMrkEN",
        "outputId": "9fbf28da-acbd-40f8-ee58-2715aa98fd81"
      },
      "execution_count": 14,
      "outputs": [
        {
          "output_type": "execute_result",
          "data": {
            "text/plain": [
              "['worldcom ex boss launches defence lawyers defending former worldcom chief bernie ebbers against a battery of fraud charges have called a company whistleblower as their first witness ',\n",
              " 'cynthia cooper  worldcom s ex head of internal accounting  alerted directors to irregular accounting practices at the us telecoms giant in       her warnings led to the collapse of the firm following the discovery of an    bn      bn  accounting fraud ',\n",
              " 'mr ebbers has pleaded not guilty to charges of fraud and conspiracy ',\n",
              " 'prosecution lawyers have argued that mr ebbers orchestrated a series of accounting tricks at worldcom  ordering employees to hide expenses and inflate revenues to meet wall street earnings estimates ',\n",
              " 'but ms cooper  who now runs her own consulting business  told a jury in new york on wednesday that external auditors arthur andersen had approved worldcom s accounting in early      and       she said andersen had given a  green light  to the procedures and practices used by worldcom ',\n",
              " 'mr ebber s lawyers have said he was unaware of the fraud  arguing that auditors did not alert him to any problems ',\n",
              " 'ms cooper also said that during shareholder meetings mr ebbers often passed over technical questions to the company s finance chief  giving only  brief  answers himself ',\n",
              " 'the prosecution s star witness  former worldcom financial chief scott sullivan  has said that mr ebbers ordered accounting adjustments at the firm  telling him to  hit our books  ',\n",
              " 'however  ms cooper said mr sullivan had not mentioned  anything uncomfortable  about worldcom s accounting during a      audit committee meeting ',\n",
              " 'mr ebbers could face a jail sentence of    years if convicted of all the charges he is facing ',\n",
              " 'worldcom emerged from bankruptcy protection in       and is now known as mci ',\n",
              " 'last week  mci agreed to a buyout by verizon communications in a deal valued at      bn ']"
            ]
          },
          "metadata": {},
          "execution_count": 14
        }
      ]
    },
    {
      "cell_type": "code",
      "source": [
        "import nltk\n",
        "nltk.download('stopwords')"
      ],
      "metadata": {
        "colab": {
          "base_uri": "https://localhost:8080/"
        },
        "id": "uvj84fTksWZB",
        "outputId": "458c421a-f294-46e1-fb54-77dd58b44174"
      },
      "execution_count": 15,
      "outputs": [
        {
          "output_type": "stream",
          "name": "stderr",
          "text": [
            "[nltk_data] Downloading package stopwords to /root/nltk_data...\n",
            "[nltk_data]   Package stopwords is already up-to-date!\n"
          ]
        },
        {
          "output_type": "execute_result",
          "data": {
            "text/plain": [
              "True"
            ]
          },
          "metadata": {},
          "execution_count": 15
        }
      ]
    },
    {
      "cell_type": "code",
      "source": [
        "for i in corpus:\n",
        "    words=nltk.word_tokenize(i)\n",
        "    for word in words:\n",
        "        if word not in set(stopwords.words('english')):\n",
        "            print(stemmer.stem(word))"
      ],
      "metadata": {
        "colab": {
          "base_uri": "https://localhost:8080/"
        },
        "id": "JJofUCF6sh3V",
        "outputId": "cb9e0418-a85a-4e42-97ea-6ca241b67912"
      },
      "execution_count": 16,
      "outputs": [
        {
          "output_type": "stream",
          "name": "stdout",
          "text": [
            "worldcom\n",
            "ex\n",
            "boss\n",
            "launch\n",
            "defenc\n",
            "lawyer\n",
            "defend\n",
            "former\n",
            "worldcom\n",
            "chief\n",
            "berni\n",
            "ebber\n",
            "batteri\n",
            "fraud\n",
            "charg\n",
            "call\n",
            "compani\n",
            "whistleblow\n",
            "first\n",
            "wit\n",
            "cynthia\n",
            "cooper\n",
            "worldcom\n",
            "ex\n",
            "head\n",
            "intern\n",
            "account\n",
            "alert\n",
            "director\n",
            "irregular\n",
            "account\n",
            "practic\n",
            "us\n",
            "telecom\n",
            "giant\n",
            "warn\n",
            "led\n",
            "collaps\n",
            "firm\n",
            "follow\n",
            "discoveri\n",
            "bn\n",
            "bn\n",
            "account\n",
            "fraud\n",
            "mr\n",
            "ebber\n",
            "plead\n",
            "guilti\n",
            "charg\n",
            "fraud\n",
            "conspiraci\n",
            "prosecut\n",
            "lawyer\n",
            "argu\n",
            "mr\n",
            "ebber\n",
            "orchestr\n",
            "seri\n",
            "account\n",
            "trick\n",
            "worldcom\n",
            "order\n",
            "employe\n",
            "hide\n",
            "expens\n",
            "inflat\n",
            "revenu\n",
            "meet\n",
            "wall\n",
            "street\n",
            "earn\n",
            "estim\n",
            "ms\n",
            "cooper\n",
            "run\n",
            "consult\n",
            "busi\n",
            "told\n",
            "juri\n",
            "new\n",
            "york\n",
            "wednesday\n",
            "extern\n",
            "auditor\n",
            "arthur\n",
            "andersen\n",
            "approv\n",
            "worldcom\n",
            "account\n",
            "earli\n",
            "said\n",
            "andersen\n",
            "given\n",
            "green\n",
            "light\n",
            "procedur\n",
            "practic\n",
            "use\n",
            "worldcom\n",
            "mr\n",
            "ebber\n",
            "lawyer\n",
            "said\n",
            "unawar\n",
            "fraud\n",
            "argu\n",
            "auditor\n",
            "alert\n",
            "problem\n",
            "ms\n",
            "cooper\n",
            "also\n",
            "said\n",
            "sharehold\n",
            "meet\n",
            "mr\n",
            "ebber\n",
            "often\n",
            "pass\n",
            "technic\n",
            "question\n",
            "compani\n",
            "financ\n",
            "chief\n",
            "give\n",
            "brief\n",
            "answer\n",
            "prosecut\n",
            "star\n",
            "wit\n",
            "former\n",
            "worldcom\n",
            "financi\n",
            "chief\n",
            "scott\n",
            "sullivan\n",
            "said\n",
            "mr\n",
            "ebber\n",
            "order\n",
            "account\n",
            "adjust\n",
            "firm\n",
            "tell\n",
            "hit\n",
            "book\n",
            "howev\n",
            "ms\n",
            "cooper\n",
            "said\n",
            "mr\n",
            "sullivan\n",
            "mention\n",
            "anyth\n",
            "uncomfort\n",
            "worldcom\n",
            "account\n",
            "audit\n",
            "committe\n",
            "meet\n",
            "mr\n",
            "ebber\n",
            "could\n",
            "face\n",
            "jail\n",
            "sentenc\n",
            "year\n",
            "convict\n",
            "charg\n",
            "face\n",
            "worldcom\n",
            "emerg\n",
            "bankruptci\n",
            "protect\n",
            "known\n",
            "mci\n",
            "last\n",
            "week\n",
            "mci\n",
            "agre\n",
            "buyout\n",
            "verizon\n",
            "commun\n",
            "deal\n",
            "valu\n",
            "bn\n"
          ]
        }
      ]
    },
    {
      "cell_type": "code",
      "source": [
        "#lemmetisatiom\n",
        "from nltk.stem import WordNetLemmatizer\n",
        "lemmatizer=WordNetLemmatizer()"
      ],
      "metadata": {
        "id": "m3U0KoSdskmP"
      },
      "execution_count": 17,
      "outputs": []
    },
    {
      "cell_type": "code",
      "source": [
        "for i in corpus:\n",
        "    words=nltk.word_tokenize(i)\n",
        "    for word in words:\n",
        "        if word not in set(stopwords.words('english')):\n",
        "            print(lemmatizer.lemmatize(word))"
      ],
      "metadata": {
        "colab": {
          "base_uri": "https://localhost:8080/"
        },
        "id": "OqlzNG4dulz3",
        "outputId": "f69d6fd2-1a51-45fb-e459-5f552f27bcb5"
      },
      "execution_count": 18,
      "outputs": [
        {
          "output_type": "stream",
          "name": "stdout",
          "text": [
            "worldcom\n",
            "ex\n",
            "bos\n",
            "launch\n",
            "defence\n",
            "lawyer\n",
            "defending\n",
            "former\n",
            "worldcom\n",
            "chief\n",
            "bernie\n",
            "ebbers\n",
            "battery\n",
            "fraud\n",
            "charge\n",
            "called\n",
            "company\n",
            "whistleblower\n",
            "first\n",
            "witness\n",
            "cynthia\n",
            "cooper\n",
            "worldcom\n",
            "ex\n",
            "head\n",
            "internal\n",
            "accounting\n",
            "alerted\n",
            "director\n",
            "irregular\n",
            "accounting\n",
            "practice\n",
            "u\n",
            "telecom\n",
            "giant\n",
            "warning\n",
            "led\n",
            "collapse\n",
            "firm\n",
            "following\n",
            "discovery\n",
            "bn\n",
            "bn\n",
            "accounting\n",
            "fraud\n",
            "mr\n",
            "ebbers\n",
            "pleaded\n",
            "guilty\n",
            "charge\n",
            "fraud\n",
            "conspiracy\n",
            "prosecution\n",
            "lawyer\n",
            "argued\n",
            "mr\n",
            "ebbers\n",
            "orchestrated\n",
            "series\n",
            "accounting\n",
            "trick\n",
            "worldcom\n",
            "ordering\n",
            "employee\n",
            "hide\n",
            "expense\n",
            "inflate\n",
            "revenue\n",
            "meet\n",
            "wall\n",
            "street\n",
            "earnings\n",
            "estimate\n",
            "m\n",
            "cooper\n",
            "run\n",
            "consulting\n",
            "business\n",
            "told\n",
            "jury\n",
            "new\n",
            "york\n",
            "wednesday\n",
            "external\n",
            "auditor\n",
            "arthur\n",
            "andersen\n",
            "approved\n",
            "worldcom\n",
            "accounting\n",
            "early\n",
            "said\n",
            "andersen\n",
            "given\n",
            "green\n",
            "light\n",
            "procedure\n",
            "practice\n",
            "used\n",
            "worldcom\n",
            "mr\n",
            "ebber\n",
            "lawyer\n",
            "said\n",
            "unaware\n",
            "fraud\n",
            "arguing\n",
            "auditor\n",
            "alert\n",
            "problem\n",
            "m\n",
            "cooper\n",
            "also\n",
            "said\n",
            "shareholder\n",
            "meeting\n",
            "mr\n",
            "ebbers\n",
            "often\n",
            "passed\n",
            "technical\n",
            "question\n",
            "company\n",
            "finance\n",
            "chief\n",
            "giving\n",
            "brief\n",
            "answer\n",
            "prosecution\n",
            "star\n",
            "witness\n",
            "former\n",
            "worldcom\n",
            "financial\n",
            "chief\n",
            "scott\n",
            "sullivan\n",
            "said\n",
            "mr\n",
            "ebbers\n",
            "ordered\n",
            "accounting\n",
            "adjustment\n",
            "firm\n",
            "telling\n",
            "hit\n",
            "book\n",
            "however\n",
            "m\n",
            "cooper\n",
            "said\n",
            "mr\n",
            "sullivan\n",
            "mentioned\n",
            "anything\n",
            "uncomfortable\n",
            "worldcom\n",
            "accounting\n",
            "audit\n",
            "committee\n",
            "meeting\n",
            "mr\n",
            "ebbers\n",
            "could\n",
            "face\n",
            "jail\n",
            "sentence\n",
            "year\n",
            "convicted\n",
            "charge\n",
            "facing\n",
            "worldcom\n",
            "emerged\n",
            "bankruptcy\n",
            "protection\n",
            "known\n",
            "mci\n",
            "last\n",
            "week\n",
            "mci\n",
            "agreed\n",
            "buyout\n",
            "verizon\n",
            "communication\n",
            "deal\n",
            "valued\n",
            "bn\n"
          ]
        }
      ]
    },
    {
      "cell_type": "code",
      "source": [
        "import nltk\n",
        "nltk.download('wordnet')"
      ],
      "metadata": {
        "colab": {
          "base_uri": "https://localhost:8080/"
        },
        "id": "W-J1Nl37uwS3",
        "outputId": "e2482631-b78e-49ce-df47-ed4abbd8b2db"
      },
      "execution_count": 19,
      "outputs": [
        {
          "output_type": "stream",
          "name": "stderr",
          "text": [
            "[nltk_data] Downloading package wordnet to /root/nltk_data...\n",
            "[nltk_data]   Package wordnet is already up-to-date!\n"
          ]
        },
        {
          "output_type": "execute_result",
          "data": {
            "text/plain": [
              "True"
            ]
          },
          "metadata": {},
          "execution_count": 19
        }
      ]
    },
    {
      "cell_type": "code",
      "source": [
        "for i in corpus:\n",
        "    words=nltk.word_tokenize(i)\n",
        "    for word in words:\n",
        "        if word not in set(stopwords.words('english')):\n",
        "            print(lemmatizer.lemmatize(word))"
      ],
      "metadata": {
        "colab": {
          "base_uri": "https://localhost:8080/"
        },
        "id": "T3K4Yz2HvCaQ",
        "outputId": "485b1a4e-153f-47c3-d3a7-823c8c6a6af4"
      },
      "execution_count": 20,
      "outputs": [
        {
          "output_type": "stream",
          "name": "stdout",
          "text": [
            "worldcom\n",
            "ex\n",
            "bos\n",
            "launch\n",
            "defence\n",
            "lawyer\n",
            "defending\n",
            "former\n",
            "worldcom\n",
            "chief\n",
            "bernie\n",
            "ebbers\n",
            "battery\n",
            "fraud\n",
            "charge\n",
            "called\n",
            "company\n",
            "whistleblower\n",
            "first\n",
            "witness\n",
            "cynthia\n",
            "cooper\n",
            "worldcom\n",
            "ex\n",
            "head\n",
            "internal\n",
            "accounting\n",
            "alerted\n",
            "director\n",
            "irregular\n",
            "accounting\n",
            "practice\n",
            "u\n",
            "telecom\n",
            "giant\n",
            "warning\n",
            "led\n",
            "collapse\n",
            "firm\n",
            "following\n",
            "discovery\n",
            "bn\n",
            "bn\n",
            "accounting\n",
            "fraud\n",
            "mr\n",
            "ebbers\n",
            "pleaded\n",
            "guilty\n",
            "charge\n",
            "fraud\n",
            "conspiracy\n",
            "prosecution\n",
            "lawyer\n",
            "argued\n",
            "mr\n",
            "ebbers\n",
            "orchestrated\n",
            "series\n",
            "accounting\n",
            "trick\n",
            "worldcom\n",
            "ordering\n",
            "employee\n",
            "hide\n",
            "expense\n",
            "inflate\n",
            "revenue\n",
            "meet\n",
            "wall\n",
            "street\n",
            "earnings\n",
            "estimate\n",
            "m\n",
            "cooper\n",
            "run\n",
            "consulting\n",
            "business\n",
            "told\n",
            "jury\n",
            "new\n",
            "york\n",
            "wednesday\n",
            "external\n",
            "auditor\n",
            "arthur\n",
            "andersen\n",
            "approved\n",
            "worldcom\n",
            "accounting\n",
            "early\n",
            "said\n",
            "andersen\n",
            "given\n",
            "green\n",
            "light\n",
            "procedure\n",
            "practice\n",
            "used\n",
            "worldcom\n",
            "mr\n",
            "ebber\n",
            "lawyer\n",
            "said\n",
            "unaware\n",
            "fraud\n",
            "arguing\n",
            "auditor\n",
            "alert\n",
            "problem\n",
            "m\n",
            "cooper\n",
            "also\n",
            "said\n",
            "shareholder\n",
            "meeting\n",
            "mr\n",
            "ebbers\n",
            "often\n",
            "passed\n",
            "technical\n",
            "question\n",
            "company\n",
            "finance\n",
            "chief\n",
            "giving\n",
            "brief\n",
            "answer\n",
            "prosecution\n",
            "star\n",
            "witness\n",
            "former\n",
            "worldcom\n",
            "financial\n",
            "chief\n",
            "scott\n",
            "sullivan\n",
            "said\n",
            "mr\n",
            "ebbers\n",
            "ordered\n",
            "accounting\n",
            "adjustment\n",
            "firm\n",
            "telling\n",
            "hit\n",
            "book\n",
            "however\n",
            "m\n",
            "cooper\n",
            "said\n",
            "mr\n",
            "sullivan\n",
            "mentioned\n",
            "anything\n",
            "uncomfortable\n",
            "worldcom\n",
            "accounting\n",
            "audit\n",
            "committee\n",
            "meeting\n",
            "mr\n",
            "ebbers\n",
            "could\n",
            "face\n",
            "jail\n",
            "sentence\n",
            "year\n",
            "convicted\n",
            "charge\n",
            "facing\n",
            "worldcom\n",
            "emerged\n",
            "bankruptcy\n",
            "protection\n",
            "known\n",
            "mci\n",
            "last\n",
            "week\n",
            "mci\n",
            "agreed\n",
            "buyout\n",
            "verizon\n",
            "communication\n",
            "deal\n",
            "valued\n",
            "bn\n"
          ]
        }
      ]
    },
    {
      "cell_type": "code",
      "source": [
        "!pip install -U pip setuptools wheel\n",
        "!pip install -U spacy"
      ],
      "metadata": {
        "colab": {
          "base_uri": "https://localhost:8080/"
        },
        "id": "DZeKV4-WvMsR",
        "outputId": "3366d6e1-a429-438f-cd4f-6a284d568f61"
      },
      "execution_count": 21,
      "outputs": [
        {
          "output_type": "stream",
          "name": "stdout",
          "text": [
            "Requirement already satisfied: pip in /usr/local/lib/python3.10/dist-packages (23.2.1)\n",
            "Requirement already satisfied: setuptools in /usr/local/lib/python3.10/dist-packages (68.1.2)\n",
            "Requirement already satisfied: wheel in /usr/local/lib/python3.10/dist-packages (0.41.2)\n",
            "\u001b[33mWARNING: Running pip as the 'root' user can result in broken permissions and conflicting behaviour with the system package manager. It is recommended to use a virtual environment instead: https://pip.pypa.io/warnings/venv\u001b[0m\u001b[33m\n",
            "\u001b[0mRequirement already satisfied: spacy in /usr/local/lib/python3.10/dist-packages (3.6.1)\n",
            "Requirement already satisfied: spacy-legacy<3.1.0,>=3.0.11 in /usr/local/lib/python3.10/dist-packages (from spacy) (3.0.12)\n",
            "Requirement already satisfied: spacy-loggers<2.0.0,>=1.0.0 in /usr/local/lib/python3.10/dist-packages (from spacy) (1.0.4)\n",
            "Requirement already satisfied: murmurhash<1.1.0,>=0.28.0 in /usr/local/lib/python3.10/dist-packages (from spacy) (1.0.9)\n",
            "Requirement already satisfied: cymem<2.1.0,>=2.0.2 in /usr/local/lib/python3.10/dist-packages (from spacy) (2.0.7)\n",
            "Requirement already satisfied: preshed<3.1.0,>=3.0.2 in /usr/local/lib/python3.10/dist-packages (from spacy) (3.0.8)\n",
            "Requirement already satisfied: thinc<8.2.0,>=8.1.8 in /usr/local/lib/python3.10/dist-packages (from spacy) (8.1.12)\n",
            "Requirement already satisfied: wasabi<1.2.0,>=0.9.1 in /usr/local/lib/python3.10/dist-packages (from spacy) (1.1.2)\n",
            "Requirement already satisfied: srsly<3.0.0,>=2.4.3 in /usr/local/lib/python3.10/dist-packages (from spacy) (2.4.7)\n",
            "Requirement already satisfied: catalogue<2.1.0,>=2.0.6 in /usr/local/lib/python3.10/dist-packages (from spacy) (2.0.9)\n",
            "Requirement already satisfied: typer<0.10.0,>=0.3.0 in /usr/local/lib/python3.10/dist-packages (from spacy) (0.9.0)\n",
            "Requirement already satisfied: pathy>=0.10.0 in /usr/local/lib/python3.10/dist-packages (from spacy) (0.10.2)\n",
            "Requirement already satisfied: smart-open<7.0.0,>=5.2.1 in /usr/local/lib/python3.10/dist-packages (from spacy) (6.3.0)\n",
            "Requirement already satisfied: tqdm<5.0.0,>=4.38.0 in /usr/local/lib/python3.10/dist-packages (from spacy) (4.66.1)\n",
            "Requirement already satisfied: numpy>=1.15.0 in /usr/local/lib/python3.10/dist-packages (from spacy) (1.23.5)\n",
            "Requirement already satisfied: requests<3.0.0,>=2.13.0 in /usr/local/lib/python3.10/dist-packages (from spacy) (2.31.0)\n",
            "Requirement already satisfied: pydantic!=1.8,!=1.8.1,<3.0.0,>=1.7.4 in /usr/local/lib/python3.10/dist-packages (from spacy) (2.2.1)\n",
            "Requirement already satisfied: jinja2 in /usr/local/lib/python3.10/dist-packages (from spacy) (3.1.2)\n",
            "Requirement already satisfied: setuptools in /usr/local/lib/python3.10/dist-packages (from spacy) (68.1.2)\n",
            "Requirement already satisfied: packaging>=20.0 in /usr/local/lib/python3.10/dist-packages (from spacy) (23.1)\n",
            "Requirement already satisfied: langcodes<4.0.0,>=3.2.0 in /usr/local/lib/python3.10/dist-packages (from spacy) (3.3.0)\n",
            "Requirement already satisfied: annotated-types>=0.4.0 in /usr/local/lib/python3.10/dist-packages (from pydantic!=1.8,!=1.8.1,<3.0.0,>=1.7.4->spacy) (0.5.0)\n",
            "Requirement already satisfied: pydantic-core==2.6.1 in /usr/local/lib/python3.10/dist-packages (from pydantic!=1.8,!=1.8.1,<3.0.0,>=1.7.4->spacy) (2.6.1)\n",
            "Requirement already satisfied: typing-extensions>=4.6.1 in /usr/local/lib/python3.10/dist-packages (from pydantic!=1.8,!=1.8.1,<3.0.0,>=1.7.4->spacy) (4.7.1)\n",
            "Requirement already satisfied: charset-normalizer<4,>=2 in /usr/local/lib/python3.10/dist-packages (from requests<3.0.0,>=2.13.0->spacy) (3.2.0)\n",
            "Requirement already satisfied: idna<4,>=2.5 in /usr/local/lib/python3.10/dist-packages (from requests<3.0.0,>=2.13.0->spacy) (3.4)\n",
            "Requirement already satisfied: urllib3<3,>=1.21.1 in /usr/local/lib/python3.10/dist-packages (from requests<3.0.0,>=2.13.0->spacy) (2.0.4)\n",
            "Requirement already satisfied: certifi>=2017.4.17 in /usr/local/lib/python3.10/dist-packages (from requests<3.0.0,>=2.13.0->spacy) (2023.7.22)\n",
            "Requirement already satisfied: blis<0.8.0,>=0.7.8 in /usr/local/lib/python3.10/dist-packages (from thinc<8.2.0,>=8.1.8->spacy) (0.7.10)\n",
            "Requirement already satisfied: confection<1.0.0,>=0.0.1 in /usr/local/lib/python3.10/dist-packages (from thinc<8.2.0,>=8.1.8->spacy) (0.1.1)\n",
            "Requirement already satisfied: click<9.0.0,>=7.1.1 in /usr/local/lib/python3.10/dist-packages (from typer<0.10.0,>=0.3.0->spacy) (8.1.7)\n",
            "Requirement already satisfied: MarkupSafe>=2.0 in /usr/local/lib/python3.10/dist-packages (from jinja2->spacy) (2.1.3)\n",
            "\u001b[33mWARNING: Running pip as the 'root' user can result in broken permissions and conflicting behaviour with the system package manager. It is recommended to use a virtual environment instead: https://pip.pypa.io/warnings/venv\u001b[0m\u001b[33m\n",
            "\u001b[0m"
          ]
        }
      ]
    },
    {
      "cell_type": "code",
      "source": [
        "import spacy"
      ],
      "metadata": {
        "id": "Qc_qBfWjxltw"
      },
      "execution_count": 22,
      "outputs": []
    },
    {
      "cell_type": "code",
      "source": [
        "nlp=spacy.load(\"en_core_web_sm\")"
      ],
      "metadata": {
        "id": "oF9NW99GzuWW"
      },
      "execution_count": 23,
      "outputs": []
    },
    {
      "cell_type": "code",
      "source": [
        "nlp.pipe_names"
      ],
      "metadata": {
        "colab": {
          "base_uri": "https://localhost:8080/"
        },
        "id": "QvTF1zZfz8k5",
        "outputId": "97a603e9-4d72-404e-c8ce-1bcbdd75dacd"
      },
      "execution_count": 24,
      "outputs": [
        {
          "output_type": "execute_result",
          "data": {
            "text/plain": [
              "['tok2vec', 'tagger', 'parser', 'attribute_ruler', 'lemmatizer', 'ner']"
            ]
          },
          "metadata": {},
          "execution_count": 24
        }
      ]
    },
    {
      "cell_type": "code",
      "source": [
        "df2=df['Text'][1]"
      ],
      "metadata": {
        "id": "j_UgZQXq0N1e"
      },
      "execution_count": 25,
      "outputs": []
    },
    {
      "cell_type": "code",
      "source": [
        "doc=nlp(df2)"
      ],
      "metadata": {
        "id": "_g13usMg0VKr"
      },
      "execution_count": 26,
      "outputs": []
    },
    {
      "cell_type": "code",
      "source": [
        "for ent in doc.ents:\n",
        "    print(ent.text, \" | \", ent.label_, \" | \", spacy.explain(ent.label_))"
      ],
      "metadata": {
        "colab": {
          "base_uri": "https://localhost:8080/"
        },
        "id": "ylr-JBTe0c9F",
        "outputId": "976e9a4d-a192-4599-adb2-e1bdb09d85c0"
      },
      "execution_count": 27,
      "outputs": [
        {
          "output_type": "stream",
          "name": "stdout",
          "text": [
            "german  |  NORP  |  Nationalities or religious or political groups\n",
            "german  |  NORP  |  Nationalities or religious or political groups\n",
            "february  |  DATE  |  Absolute or relative dates or periods\n",
            "europe  |  LOC  |  Non-GPE locations, mountain ranges, bodies of water\n",
            "munich  |  GPE  |  Countries, cities, states\n",
            "research institute ifo  |  ORG  |  Companies, agencies, institutions, etc.\n",
            "95.5  |  CARDINAL  |  Numerals that do not fall under another type\n",
            "february  |  DATE  |  Absolute or relative dates or periods\n",
            "97.5  |  CARDINAL  |  Numerals that do not fall under another type\n",
            "january  |  DATE  |  Absolute or relative dates or periods\n",
            "first  |  ORDINAL  |  \"first\", \"second\", etc.\n",
            "three months  |  DATE  |  Absolute or relative dates or periods\n",
            "dz bank  |  ORG  |  Companies, agencies, institutions, etc.\n",
            "bernd weidensteiner  |  PERSON  |  People, including fictional\n",
            "wolfgang clement  |  PERSON  |  People, including fictional\n",
            "february  |  DATE  |  Absolute or relative dates or periods\n",
            "germany  |  GPE  |  Countries, cities, states\n",
            "1.6%  |  PERCENT  |  Percentage, including \"%\"\n",
            "last year  |  DATE  |  Absolute or relative dates or periods\n",
            "2003  |  DATE  |  Absolute or relative dates or periods\n",
            "0.2%  |  PERCENT  |  Percentage, including \"%\"\n",
            "the last three months of 2004  |  DATE  |  Absolute or relative dates or periods\n",
            "hans  |  PERSON  |  People, including fictional\n",
            "german  |  NORP  |  Nationalities or religious or political groups\n",
            "the first half of 2004  |  DATE  |  Absolute or relative dates or periods\n",
            "german  |  NORP  |  Nationalities or religious or political groups\n",
            "close to 10%  |  PERCENT  |  Percentage, including \"%\"\n",
            "germany  |  GPE  |  Countries, cities, states\n",
            "the european central bank  |  ORG  |  Companies, agencies, institutions, etc.\n",
            "2%  |  PERCENT  |  Percentage, including \"%\"\n"
          ]
        }
      ]
    },
    {
      "cell_type": "code",
      "source": [
        "from spacy import displacy\n",
        "\n",
        "displacy.render(doc, style=\"ent\")"
      ],
      "metadata": {
        "colab": {
          "base_uri": "https://localhost:8080/",
          "height": 140
        },
        "id": "y1eYdsSQ0pCD",
        "outputId": "878f2b74-b6d3-41ec-fbf6-c0f883107763"
      },
      "execution_count": 28,
      "outputs": [
        {
          "output_type": "execute_result",
          "data": {
            "text/plain": [
              "'<div class=\"entities\" style=\"line-height: 2.5; direction: ltr\">\\n<mark class=\"entity\" style=\"background: #c887fb; padding: 0.45em 0.6em; margin: 0 0.25em; line-height: 1; border-radius: 0.35em;\">\\n    german\\n    <span style=\"font-size: 0.8em; font-weight: bold; line-height: 1; border-radius: 0.35em; vertical-align: middle; margin-left: 0.5rem\">NORP</span>\\n</mark>\\n business confidence slides \\n<mark class=\"entity\" style=\"background: #c887fb; padding: 0.45em 0.6em; margin: 0 0.25em; line-height: 1; border-radius: 0.35em;\">\\n    german\\n    <span style=\"font-size: 0.8em; font-weight: bold; line-height: 1; border-radius: 0.35em; vertical-align: middle; margin-left: 0.5rem\">NORP</span>\\n</mark>\\n business confidence fell in \\n<mark class=\"entity\" style=\"background: #bfe1d9; padding: 0.45em 0.6em; margin: 0 0.25em; line-height: 1; border-radius: 0.35em;\">\\n    february\\n    <span style=\"font-size: 0.8em; font-weight: bold; line-height: 1; border-radius: 0.35em; vertical-align: middle; margin-left: 0.5rem\">DATE</span>\\n</mark>\\n knocking hopes of a speedy recovery in \\n<mark class=\"entity\" style=\"background: #ff9561; padding: 0.45em 0.6em; margin: 0 0.25em; line-height: 1; border-radius: 0.35em;\">\\n    europe\\n    <span style=\"font-size: 0.8em; font-weight: bold; line-height: 1; border-radius: 0.35em; vertical-align: middle; margin-left: 0.5rem\">LOC</span>\\n</mark>\\n s largest economy.  \\n<mark class=\"entity\" style=\"background: #feca74; padding: 0.45em 0.6em; margin: 0 0.25em; line-height: 1; border-radius: 0.35em;\">\\n    munich\\n    <span style=\"font-size: 0.8em; font-weight: bold; line-height: 1; border-radius: 0.35em; vertical-align: middle; margin-left: 0.5rem\">GPE</span>\\n</mark>\\n-based \\n<mark class=\"entity\" style=\"background: #7aecec; padding: 0.45em 0.6em; margin: 0 0.25em; line-height: 1; border-radius: 0.35em;\">\\n    research institute ifo\\n    <span style=\"font-size: 0.8em; font-weight: bold; line-height: 1; border-radius: 0.35em; vertical-align: middle; margin-left: 0.5rem\">ORG</span>\\n</mark>\\n said that its confidence index fell to \\n<mark class=\"entity\" style=\"background: #e4e7d2; padding: 0.45em 0.6em; margin: 0 0.25em; line-height: 1; border-radius: 0.35em;\">\\n    95.5\\n    <span style=\"font-size: 0.8em; font-weight: bold; line-height: 1; border-radius: 0.35em; vertical-align: middle; margin-left: 0.5rem\">CARDINAL</span>\\n</mark>\\n in \\n<mark class=\"entity\" style=\"background: #bfe1d9; padding: 0.45em 0.6em; margin: 0 0.25em; line-height: 1; border-radius: 0.35em;\">\\n    february\\n    <span style=\"font-size: 0.8em; font-weight: bold; line-height: 1; border-radius: 0.35em; vertical-align: middle; margin-left: 0.5rem\">DATE</span>\\n</mark>\\n from \\n<mark class=\"entity\" style=\"background: #e4e7d2; padding: 0.45em 0.6em; margin: 0 0.25em; line-height: 1; border-radius: 0.35em;\">\\n    97.5\\n    <span style=\"font-size: 0.8em; font-weight: bold; line-height: 1; border-radius: 0.35em; vertical-align: middle; margin-left: 0.5rem\">CARDINAL</span>\\n</mark>\\n in \\n<mark class=\"entity\" style=\"background: #bfe1d9; padding: 0.45em 0.6em; margin: 0 0.25em; line-height: 1; border-radius: 0.35em;\">\\n    january\\n    <span style=\"font-size: 0.8em; font-weight: bold; line-height: 1; border-radius: 0.35em; vertical-align: middle; margin-left: 0.5rem\">DATE</span>\\n</mark>\\n  its \\n<mark class=\"entity\" style=\"background: #e4e7d2; padding: 0.45em 0.6em; margin: 0 0.25em; line-height: 1; border-radius: 0.35em;\">\\n    first\\n    <span style=\"font-size: 0.8em; font-weight: bold; line-height: 1; border-radius: 0.35em; vertical-align: middle; margin-left: 0.5rem\">ORDINAL</span>\\n</mark>\\n decline in \\n<mark class=\"entity\" style=\"background: #bfe1d9; padding: 0.45em 0.6em; margin: 0 0.25em; line-height: 1; border-radius: 0.35em;\">\\n    three months\\n    <span style=\"font-size: 0.8em; font-weight: bold; line-height: 1; border-radius: 0.35em; vertical-align: middle; margin-left: 0.5rem\">DATE</span>\\n</mark>\\n. the study found that the outlook in both the manufacturing and retail sectors had worsened. observers had been hoping that a more confident business sector would signal that economic activity was picking up.   we re surprised that the ifo index has taken such a knock   said \\n<mark class=\"entity\" style=\"background: #7aecec; padding: 0.45em 0.6em; margin: 0 0.25em; line-height: 1; border-radius: 0.35em;\">\\n    dz bank\\n    <span style=\"font-size: 0.8em; font-weight: bold; line-height: 1; border-radius: 0.35em; vertical-align: middle; margin-left: 0.5rem\">ORG</span>\\n</mark>\\n economist \\n<mark class=\"entity\" style=\"background: #aa9cfc; padding: 0.45em 0.6em; margin: 0 0.25em; line-height: 1; border-radius: 0.35em;\">\\n    bernd weidensteiner\\n    <span style=\"font-size: 0.8em; font-weight: bold; line-height: 1; border-radius: 0.35em; vertical-align: middle; margin-left: 0.5rem\">PERSON</span>\\n</mark>\\n.  the main reason is probably that the domestic economy is still weak  particularly in the retail trade.  economy and labour minister \\n<mark class=\"entity\" style=\"background: #aa9cfc; padding: 0.45em 0.6em; margin: 0 0.25em; line-height: 1; border-radius: 0.35em;\">\\n    wolfgang clement\\n    <span style=\"font-size: 0.8em; font-weight: bold; line-height: 1; border-radius: 0.35em; vertical-align: middle; margin-left: 0.5rem\">PERSON</span>\\n</mark>\\n called the dip in \\n<mark class=\"entity\" style=\"background: #bfe1d9; padding: 0.45em 0.6em; margin: 0 0.25em; line-height: 1; border-radius: 0.35em;\">\\n    february\\n    <span style=\"font-size: 0.8em; font-weight: bold; line-height: 1; border-radius: 0.35em; vertical-align: middle; margin-left: 0.5rem\">DATE</span>\\n</mark>\\n s ifo confidence figure  a very mild decline . he said that despite the retreat  the index remained at a relatively high level and that he expected  a modest economic upswing  to continue.  \\n<mark class=\"entity\" style=\"background: #feca74; padding: 0.45em 0.6em; margin: 0 0.25em; line-height: 1; border-radius: 0.35em;\">\\n    germany\\n    <span style=\"font-size: 0.8em; font-weight: bold; line-height: 1; border-radius: 0.35em; vertical-align: middle; margin-left: 0.5rem\">GPE</span>\\n</mark>\\n s economy grew \\n<mark class=\"entity\" style=\"background: #e4e7d2; padding: 0.45em 0.6em; margin: 0 0.25em; line-height: 1; border-radius: 0.35em;\">\\n    1.6%\\n    <span style=\"font-size: 0.8em; font-weight: bold; line-height: 1; border-radius: 0.35em; vertical-align: middle; margin-left: 0.5rem\">PERCENT</span>\\n</mark>\\n \\n<mark class=\"entity\" style=\"background: #bfe1d9; padding: 0.45em 0.6em; margin: 0 0.25em; line-height: 1; border-radius: 0.35em;\">\\n    last year\\n    <span style=\"font-size: 0.8em; font-weight: bold; line-height: 1; border-radius: 0.35em; vertical-align: middle; margin-left: 0.5rem\">DATE</span>\\n</mark>\\n after shrinking in \\n<mark class=\"entity\" style=\"background: #bfe1d9; padding: 0.45em 0.6em; margin: 0 0.25em; line-height: 1; border-radius: 0.35em;\">\\n    2003\\n    <span style=\"font-size: 0.8em; font-weight: bold; line-height: 1; border-radius: 0.35em; vertical-align: middle; margin-left: 0.5rem\">DATE</span>\\n</mark>\\n. however  the economy contracted by \\n<mark class=\"entity\" style=\"background: #e4e7d2; padding: 0.45em 0.6em; margin: 0 0.25em; line-height: 1; border-radius: 0.35em;\">\\n    0.2%\\n    <span style=\"font-size: 0.8em; font-weight: bold; line-height: 1; border-radius: 0.35em; vertical-align: middle; margin-left: 0.5rem\">PERCENT</span>\\n</mark>\\n during \\n<mark class=\"entity\" style=\"background: #bfe1d9; padding: 0.45em 0.6em; margin: 0 0.25em; line-height: 1; border-radius: 0.35em;\">\\n    the last three months of 2004\\n    <span style=\"font-size: 0.8em; font-weight: bold; line-height: 1; border-radius: 0.35em; vertical-align: middle; margin-left: 0.5rem\">DATE</span>\\n</mark>\\n  mainly due to the reluctance of consumers to spend. latest indications are that growth is still proving elusive and ifo president \\n<mark class=\"entity\" style=\"background: #aa9cfc; padding: 0.45em 0.6em; margin: 0 0.25em; line-height: 1; border-radius: 0.35em;\">\\n    hans\\n    <span style=\"font-size: 0.8em; font-weight: bold; line-height: 1; border-radius: 0.35em; vertical-align: middle; margin-left: 0.5rem\">PERSON</span>\\n</mark>\\n-werner sinn said any improvement in \\n<mark class=\"entity\" style=\"background: #c887fb; padding: 0.45em 0.6em; margin: 0 0.25em; line-height: 1; border-radius: 0.35em;\">\\n    german\\n    <span style=\"font-size: 0.8em; font-weight: bold; line-height: 1; border-radius: 0.35em; vertical-align: middle; margin-left: 0.5rem\">NORP</span>\\n</mark>\\n domestic demand was sluggish. exports had kept things going during \\n<mark class=\"entity\" style=\"background: #bfe1d9; padding: 0.45em 0.6em; margin: 0 0.25em; line-height: 1; border-radius: 0.35em;\">\\n    the first half of 2004\\n    <span style=\"font-size: 0.8em; font-weight: bold; line-height: 1; border-radius: 0.35em; vertical-align: middle; margin-left: 0.5rem\">DATE</span>\\n</mark>\\n  but demand for exports was then hit as the value of the euro hit record levels making \\n<mark class=\"entity\" style=\"background: #c887fb; padding: 0.45em 0.6em; margin: 0 0.25em; line-height: 1; border-radius: 0.35em;\">\\n    german\\n    <span style=\"font-size: 0.8em; font-weight: bold; line-height: 1; border-radius: 0.35em; vertical-align: middle; margin-left: 0.5rem\">NORP</span>\\n</mark>\\n products less competitive overseas. on top of that  the unemployment rate has been stuck at \\n<mark class=\"entity\" style=\"background: #e4e7d2; padding: 0.45em 0.6em; margin: 0 0.25em; line-height: 1; border-radius: 0.35em;\">\\n    close to 10%\\n    <span style=\"font-size: 0.8em; font-weight: bold; line-height: 1; border-radius: 0.35em; vertical-align: middle; margin-left: 0.5rem\">PERCENT</span>\\n</mark>\\n and manufacturing firms  including daimlerchrysler  siemens and volkswagen  have been negotiating with unions over cost cutting measures. analysts said that the ifo figures and \\n<mark class=\"entity\" style=\"background: #feca74; padding: 0.45em 0.6em; margin: 0 0.25em; line-height: 1; border-radius: 0.35em;\">\\n    germany\\n    <span style=\"font-size: 0.8em; font-weight: bold; line-height: 1; border-radius: 0.35em; vertical-align: middle; margin-left: 0.5rem\">GPE</span>\\n</mark>\\n s continuing problems may delay an interest rate rise by \\n<mark class=\"entity\" style=\"background: #7aecec; padding: 0.45em 0.6em; margin: 0 0.25em; line-height: 1; border-radius: 0.35em;\">\\n    the european central bank\\n    <span style=\"font-size: 0.8em; font-weight: bold; line-height: 1; border-radius: 0.35em; vertical-align: middle; margin-left: 0.5rem\">ORG</span>\\n</mark>\\n. eurozone interest rates are at \\n<mark class=\"entity\" style=\"background: #e4e7d2; padding: 0.45em 0.6em; margin: 0 0.25em; line-height: 1; border-radius: 0.35em;\">\\n    2%\\n    <span style=\"font-size: 0.8em; font-weight: bold; line-height: 1; border-radius: 0.35em; vertical-align: middle; margin-left: 0.5rem\">PERCENT</span>\\n</mark>\\n  but comments from senior officials have recently focused on the threat of inflation  prompting fears that interest rates may rise.</div>'"
            ],
            "application/vnd.google.colaboratory.intrinsic+json": {
              "type": "string"
            }
          },
          "metadata": {},
          "execution_count": 28
        }
      ]
    },
    {
      "cell_type": "code",
      "source": [
        " !pip install gensim\n",
        " !pip install python-Levenshtein"
      ],
      "metadata": {
        "colab": {
          "base_uri": "https://localhost:8080/"
        },
        "id": "t2FwZKO803cC",
        "outputId": "a35d8598-6a8e-44a2-801b-4cf2098761f7"
      },
      "execution_count": 29,
      "outputs": [
        {
          "output_type": "stream",
          "name": "stdout",
          "text": [
            "Requirement already satisfied: gensim in /usr/local/lib/python3.10/dist-packages (4.3.1)\n",
            "Requirement already satisfied: numpy>=1.18.5 in /usr/local/lib/python3.10/dist-packages (from gensim) (1.23.5)\n",
            "Requirement already satisfied: scipy>=1.7.0 in /usr/local/lib/python3.10/dist-packages (from gensim) (1.10.1)\n",
            "Requirement already satisfied: smart-open>=1.8.1 in /usr/local/lib/python3.10/dist-packages (from gensim) (6.3.0)\n",
            "\u001b[33mWARNING: Running pip as the 'root' user can result in broken permissions and conflicting behaviour with the system package manager. It is recommended to use a virtual environment instead: https://pip.pypa.io/warnings/venv\u001b[0m\u001b[33m\n",
            "\u001b[0mCollecting python-Levenshtein\n",
            "  Obtaining dependency information for python-Levenshtein from https://files.pythonhosted.org/packages/ae/9c/208f8ad7eb38492ac4f829790a500bcfca88b1d0a1c988f6480a52a6f681/python_Levenshtein-0.21.1-py3-none-any.whl.metadata\n",
            "  Downloading python_Levenshtein-0.21.1-py3-none-any.whl.metadata (3.8 kB)\n",
            "Collecting Levenshtein==0.21.1 (from python-Levenshtein)\n",
            "  Obtaining dependency information for Levenshtein==0.21.1 from https://files.pythonhosted.org/packages/e6/02/0a4ed6a9e2b78f6b57f25a87fc194d7d10c2bbe95d985f36390e86285232/Levenshtein-0.21.1-cp310-cp310-manylinux_2_17_x86_64.manylinux2014_x86_64.whl.metadata\n",
            "  Downloading Levenshtein-0.21.1-cp310-cp310-manylinux_2_17_x86_64.manylinux2014_x86_64.whl.metadata (3.4 kB)\n",
            "Collecting rapidfuzz<4.0.0,>=2.3.0 (from Levenshtein==0.21.1->python-Levenshtein)\n",
            "  Obtaining dependency information for rapidfuzz<4.0.0,>=2.3.0 from https://files.pythonhosted.org/packages/35/04/9ca97b17da457ed294519477da2aad0799c9ba8eebf37761a5ca94c35534/rapidfuzz-3.2.0-cp310-cp310-manylinux_2_17_x86_64.manylinux2014_x86_64.whl.metadata\n",
            "  Downloading rapidfuzz-3.2.0-cp310-cp310-manylinux_2_17_x86_64.manylinux2014_x86_64.whl.metadata (11 kB)\n",
            "Downloading python_Levenshtein-0.21.1-py3-none-any.whl (9.4 kB)\n",
            "Downloading Levenshtein-0.21.1-cp310-cp310-manylinux_2_17_x86_64.manylinux2014_x86_64.whl (172 kB)\n",
            "\u001b[2K   \u001b[90m━━━━━━━━━━━━━━━━━━━━━━━━━━━━━━━━━━━━━━━━\u001b[0m \u001b[32m172.5/172.5 kB\u001b[0m \u001b[31m4.0 MB/s\u001b[0m eta \u001b[36m0:00:00\u001b[0m\n",
            "\u001b[?25hDownloading rapidfuzz-3.2.0-cp310-cp310-manylinux_2_17_x86_64.manylinux2014_x86_64.whl (3.1 MB)\n",
            "\u001b[2K   \u001b[90m━━━━━━━━━━━━━━━━━━━━━━━━━━━━━━━━━━━━━━━━\u001b[0m \u001b[32m3.1/3.1 MB\u001b[0m \u001b[31m46.4 MB/s\u001b[0m eta \u001b[36m0:00:00\u001b[0m\n",
            "\u001b[?25hInstalling collected packages: rapidfuzz, Levenshtein, python-Levenshtein\n",
            "Successfully installed Levenshtein-0.21.1 python-Levenshtein-0.21.1 rapidfuzz-3.2.0\n",
            "\u001b[33mWARNING: Running pip as the 'root' user can result in broken permissions and conflicting behaviour with the system package manager. It is recommended to use a virtual environment instead: https://pip.pypa.io/warnings/venv\u001b[0m\u001b[33m\n",
            "\u001b[0m"
          ]
        }
      ]
    },
    {
      "cell_type": "code",
      "source": [
        "import gensim\n",
        "import pandas as pd"
      ],
      "metadata": {
        "id": "yT8xpfRn37Bk"
      },
      "execution_count": 30,
      "outputs": []
    },
    {
      "cell_type": "code",
      "source": [
        "df.shape"
      ],
      "metadata": {
        "colab": {
          "base_uri": "https://localhost:8080/"
        },
        "id": "12ZB-vdx4Gvd",
        "outputId": "f06f3477-b5ea-4b26-d139-7c19e3a0217d"
      },
      "execution_count": 32,
      "outputs": [
        {
          "output_type": "execute_result",
          "data": {
            "text/plain": [
              "(1490, 3)"
            ]
          },
          "metadata": {},
          "execution_count": 32
        }
      ]
    },
    {
      "cell_type": "code",
      "source": [
        "texts = df['Text'].apply(gensim.utils.simple_preprocess)"
      ],
      "metadata": {
        "id": "xkcZ1hQp4L4b"
      },
      "execution_count": 40,
      "outputs": []
    },
    {
      "cell_type": "code",
      "source": [
        "texts"
      ],
      "metadata": {
        "colab": {
          "base_uri": "https://localhost:8080/"
        },
        "id": "R6JSxJIj4W4A",
        "outputId": "aeae9fb5-d8ba-421f-e9e1-41d643afa11c"
      },
      "execution_count": 41,
      "outputs": [
        {
          "output_type": "execute_result",
          "data": {
            "text/plain": [
              "0       [worldcom, ex, boss, launches, defence, lawyer...\n",
              "1       [german, business, confidence, slides, german,...\n",
              "2       [bbc, poll, indicates, economic, gloom, citize...\n",
              "3       [lifestyle, governs, mobile, choice, faster, b...\n",
              "4       [enron, bosses, in, payout, eighteen, former, ...\n",
              "                              ...                        \n",
              "1485    [double, eviction, from, big, brother, model, ...\n",
              "1486    [dj, double, act, revamp, chart, show, dj, duo...\n",
              "1487    [weak, dollar, hits, reuters, revenues, at, me...\n",
              "1488    [apple, ipod, family, expands, market, apple, ...\n",
              "1489    [santy, worm, makes, unwelcome, visit, thousan...\n",
              "Name: Text, Length: 1490, dtype: object"
            ]
          },
          "metadata": {},
          "execution_count": 41
        }
      ]
    },
    {
      "cell_type": "code",
      "source": [
        "texts.loc[0]"
      ],
      "metadata": {
        "colab": {
          "base_uri": "https://localhost:8080/"
        },
        "id": "HCFEOdQ45h9U",
        "outputId": "fa806f2d-16b5-4aca-b1e0-ab8c4689490c"
      },
      "execution_count": 47,
      "outputs": [
        {
          "output_type": "execute_result",
          "data": {
            "text/plain": [
              "['worldcom',\n",
              " 'ex',\n",
              " 'boss',\n",
              " 'launches',\n",
              " 'defence',\n",
              " 'lawyers',\n",
              " 'defending',\n",
              " 'former',\n",
              " 'worldcom',\n",
              " 'chief',\n",
              " 'bernie',\n",
              " 'ebbers',\n",
              " 'against',\n",
              " 'battery',\n",
              " 'of',\n",
              " 'fraud',\n",
              " 'charges',\n",
              " 'have',\n",
              " 'called',\n",
              " 'company',\n",
              " 'whistleblower',\n",
              " 'as',\n",
              " 'their',\n",
              " 'first',\n",
              " 'witness',\n",
              " 'cynthia',\n",
              " 'cooper',\n",
              " 'worldcom',\n",
              " 'ex',\n",
              " 'head',\n",
              " 'of',\n",
              " 'internal',\n",
              " 'accounting',\n",
              " 'alerted',\n",
              " 'directors',\n",
              " 'to',\n",
              " 'irregular',\n",
              " 'accounting',\n",
              " 'practices',\n",
              " 'at',\n",
              " 'the',\n",
              " 'us',\n",
              " 'telecoms',\n",
              " 'giant',\n",
              " 'in',\n",
              " 'her',\n",
              " 'warnings',\n",
              " 'led',\n",
              " 'to',\n",
              " 'the',\n",
              " 'collapse',\n",
              " 'of',\n",
              " 'the',\n",
              " 'firm',\n",
              " 'following',\n",
              " 'the',\n",
              " 'discovery',\n",
              " 'of',\n",
              " 'an',\n",
              " 'bn',\n",
              " 'bn',\n",
              " 'accounting',\n",
              " 'fraud',\n",
              " 'mr',\n",
              " 'ebbers',\n",
              " 'has',\n",
              " 'pleaded',\n",
              " 'not',\n",
              " 'guilty',\n",
              " 'to',\n",
              " 'charges',\n",
              " 'of',\n",
              " 'fraud',\n",
              " 'and',\n",
              " 'conspiracy',\n",
              " 'prosecution',\n",
              " 'lawyers',\n",
              " 'have',\n",
              " 'argued',\n",
              " 'that',\n",
              " 'mr',\n",
              " 'ebbers',\n",
              " 'orchestrated',\n",
              " 'series',\n",
              " 'of',\n",
              " 'accounting',\n",
              " 'tricks',\n",
              " 'at',\n",
              " 'worldcom',\n",
              " 'ordering',\n",
              " 'employees',\n",
              " 'to',\n",
              " 'hide',\n",
              " 'expenses',\n",
              " 'and',\n",
              " 'inflate',\n",
              " 'revenues',\n",
              " 'to',\n",
              " 'meet',\n",
              " 'wall',\n",
              " 'street',\n",
              " 'earnings',\n",
              " 'estimates',\n",
              " 'but',\n",
              " 'ms',\n",
              " 'cooper',\n",
              " 'who',\n",
              " 'now',\n",
              " 'runs',\n",
              " 'her',\n",
              " 'own',\n",
              " 'consulting',\n",
              " 'business',\n",
              " 'told',\n",
              " 'jury',\n",
              " 'in',\n",
              " 'new',\n",
              " 'york',\n",
              " 'on',\n",
              " 'wednesday',\n",
              " 'that',\n",
              " 'external',\n",
              " 'auditors',\n",
              " 'arthur',\n",
              " 'andersen',\n",
              " 'had',\n",
              " 'approved',\n",
              " 'worldcom',\n",
              " 'accounting',\n",
              " 'in',\n",
              " 'early',\n",
              " 'and',\n",
              " 'she',\n",
              " 'said',\n",
              " 'andersen',\n",
              " 'had',\n",
              " 'given',\n",
              " 'green',\n",
              " 'light',\n",
              " 'to',\n",
              " 'the',\n",
              " 'procedures',\n",
              " 'and',\n",
              " 'practices',\n",
              " 'used',\n",
              " 'by',\n",
              " 'worldcom',\n",
              " 'mr',\n",
              " 'ebber',\n",
              " 'lawyers',\n",
              " 'have',\n",
              " 'said',\n",
              " 'he',\n",
              " 'was',\n",
              " 'unaware',\n",
              " 'of',\n",
              " 'the',\n",
              " 'fraud',\n",
              " 'arguing',\n",
              " 'that',\n",
              " 'auditors',\n",
              " 'did',\n",
              " 'not',\n",
              " 'alert',\n",
              " 'him',\n",
              " 'to',\n",
              " 'any',\n",
              " 'problems',\n",
              " 'ms',\n",
              " 'cooper',\n",
              " 'also',\n",
              " 'said',\n",
              " 'that',\n",
              " 'during',\n",
              " 'shareholder',\n",
              " 'meetings',\n",
              " 'mr',\n",
              " 'ebbers',\n",
              " 'often',\n",
              " 'passed',\n",
              " 'over',\n",
              " 'technical',\n",
              " 'questions',\n",
              " 'to',\n",
              " 'the',\n",
              " 'company',\n",
              " 'finance',\n",
              " 'chief',\n",
              " 'giving',\n",
              " 'only',\n",
              " 'brief',\n",
              " 'answers',\n",
              " 'himself',\n",
              " 'the',\n",
              " 'prosecution',\n",
              " 'star',\n",
              " 'witness',\n",
              " 'former',\n",
              " 'worldcom',\n",
              " 'financial',\n",
              " 'chief',\n",
              " 'scott',\n",
              " 'sullivan',\n",
              " 'has',\n",
              " 'said',\n",
              " 'that',\n",
              " 'mr',\n",
              " 'ebbers',\n",
              " 'ordered',\n",
              " 'accounting',\n",
              " 'adjustments',\n",
              " 'at',\n",
              " 'the',\n",
              " 'firm',\n",
              " 'telling',\n",
              " 'him',\n",
              " 'to',\n",
              " 'hit',\n",
              " 'our',\n",
              " 'books',\n",
              " 'however',\n",
              " 'ms',\n",
              " 'cooper',\n",
              " 'said',\n",
              " 'mr',\n",
              " 'sullivan',\n",
              " 'had',\n",
              " 'not',\n",
              " 'mentioned',\n",
              " 'anything',\n",
              " 'uncomfortable',\n",
              " 'about',\n",
              " 'worldcom',\n",
              " 'accounting',\n",
              " 'during',\n",
              " 'audit',\n",
              " 'committee',\n",
              " 'meeting',\n",
              " 'mr',\n",
              " 'ebbers',\n",
              " 'could',\n",
              " 'face',\n",
              " 'jail',\n",
              " 'sentence',\n",
              " 'of',\n",
              " 'years',\n",
              " 'if',\n",
              " 'convicted',\n",
              " 'of',\n",
              " 'all',\n",
              " 'the',\n",
              " 'charges',\n",
              " 'he',\n",
              " 'is',\n",
              " 'facing',\n",
              " 'worldcom',\n",
              " 'emerged',\n",
              " 'from',\n",
              " 'bankruptcy',\n",
              " 'protection',\n",
              " 'in',\n",
              " 'and',\n",
              " 'is',\n",
              " 'now',\n",
              " 'known',\n",
              " 'as',\n",
              " 'mci',\n",
              " 'last',\n",
              " 'week',\n",
              " 'mci',\n",
              " 'agreed',\n",
              " 'to',\n",
              " 'buyout',\n",
              " 'by',\n",
              " 'verizon',\n",
              " 'communications',\n",
              " 'in',\n",
              " 'deal',\n",
              " 'valued',\n",
              " 'at',\n",
              " 'bn']"
            ]
          },
          "metadata": {},
          "execution_count": 47
        }
      ]
    },
    {
      "cell_type": "code",
      "source": [
        "model = gensim.models.Word2Vec(\n",
        "    window=10,\n",
        "    min_count=2,\n",
        "    workers=4,\n",
        ")"
      ],
      "metadata": {
        "id": "2nP5KHu35snG"
      },
      "execution_count": 49,
      "outputs": []
    },
    {
      "cell_type": "code",
      "source": [
        "df2=model.build_vocab(texts, progress_per=1000)"
      ],
      "metadata": {
        "colab": {
          "base_uri": "https://localhost:8080/"
        },
        "id": "2Cl0CawV6I5F",
        "outputId": "8f42c95b-89aa-4a82-ef9d-ba45d276c86c"
      },
      "execution_count": 53,
      "outputs": [
        {
          "output_type": "stream",
          "name": "stderr",
          "text": [
            "WARNING:gensim.models.keyedvectors:sorting after vectors have been allocated is expensive & error-prone\n"
          ]
        }
      ]
    },
    {
      "cell_type": "code",
      "source": [
        "model.wv.most_similar(\"bad\")"
      ],
      "metadata": {
        "colab": {
          "base_uri": "https://localhost:8080/"
        },
        "id": "_-n27zLI6lQ1",
        "outputId": "2c91751a-8daa-4ff9-aeea-ec4ef59e5738"
      },
      "execution_count": 54,
      "outputs": [
        {
          "output_type": "execute_result",
          "data": {
            "text/plain": [
              "[('cruised', 0.3736862540245056),\n",
              " ('rennard', 0.36515888571739197),\n",
              " ('pavel', 0.3631989657878876),\n",
              " ('anna', 0.3406689465045929),\n",
              " ('crafted', 0.3401298522949219),\n",
              " ('budgetary', 0.3363548219203949),\n",
              " ('lawsuit', 0.33489203453063965),\n",
              " ('luis', 0.3318052291870117),\n",
              " ('comedian', 0.3241857886314392),\n",
              " ('achieving', 0.32138538360595703)]"
            ]
          },
          "metadata": {},
          "execution_count": 54
        }
      ]
    },
    {
      "cell_type": "code",
      "source": [
        "from sklearn.feature_extraction.text import TfidfVectorizer"
      ],
      "metadata": {
        "id": "EPQvFeEw604j"
      },
      "execution_count": 58,
      "outputs": []
    },
    {
      "cell_type": "code",
      "source": [
        "vectorizer=TfidfVectorizer(max_df=0.5)"
      ],
      "metadata": {
        "id": "YbyR9BMj8U73"
      },
      "execution_count": 67,
      "outputs": []
    },
    {
      "cell_type": "code",
      "source": [
        "X=vectorizer.fit_transform(corpus)"
      ],
      "metadata": {
        "id": "J0NlhKjJ8cgt"
      },
      "execution_count": 68,
      "outputs": []
    },
    {
      "cell_type": "code",
      "source": [
        "X"
      ],
      "metadata": {
        "colab": {
          "base_uri": "https://localhost:8080/"
        },
        "id": "gyOYYXvP8leP",
        "outputId": "a1624cb4-0b13-49b2-cabc-c45fd8507a0a"
      },
      "execution_count": 69,
      "outputs": [
        {
          "output_type": "execute_result",
          "data": {
            "text/plain": [
              "<12x166 sparse matrix of type '<class 'numpy.float64'>'\n",
              "\twith 241 stored elements in Compressed Sparse Row format>"
            ]
          },
          "metadata": {},
          "execution_count": 69
        }
      ]
    },
    {
      "cell_type": "code",
      "source": [
        "X.shape"
      ],
      "metadata": {
        "colab": {
          "base_uri": "https://localhost:8080/"
        },
        "id": "rIqItyIB8vnF",
        "outputId": "87b679b0-a283-4f2f-d2d3-28992d03bbcd"
      },
      "execution_count": 70,
      "outputs": [
        {
          "output_type": "execute_result",
          "data": {
            "text/plain": [
              "(12, 166)"
            ]
          },
          "metadata": {},
          "execution_count": 70
        }
      ]
    },
    {
      "cell_type": "code",
      "source": [],
      "metadata": {
        "id": "kt2FlDFk82BD"
      },
      "execution_count": 84,
      "outputs": []
    },
    {
      "cell_type": "code",
      "source": [],
      "metadata": {
        "id": "Y5pG8z9b9Jm8"
      },
      "execution_count": 84,
      "outputs": []
    },
    {
      "cell_type": "code",
      "source": [
        "cos"
      ],
      "metadata": {
        "colab": {
          "base_uri": "https://localhost:8080/"
        },
        "id": "4SB5K8zcAfQC",
        "outputId": "8f95a2e1-c508-47da-dabe-4ad13ba27f7f"
      },
      "execution_count": 78,
      "outputs": [
        {
          "output_type": "execute_result",
          "data": {
            "text/plain": [
              "[]"
            ]
          },
          "metadata": {},
          "execution_count": 78
        }
      ]
    },
    {
      "cell_type": "code",
      "source": [
        "cosine(texts)"
      ],
      "metadata": {
        "colab": {
          "base_uri": "https://localhost:8080/",
          "height": 321
        },
        "id": "iH4u2O6FAiuj",
        "outputId": "2291f6a6-a26c-4a4a-d004-fd9dc196e19d"
      },
      "execution_count": 80,
      "outputs": [
        {
          "output_type": "error",
          "ename": "ValueError",
          "evalue": "ignored",
          "traceback": [
            "\u001b[0;31m---------------------------------------------------------------------------\u001b[0m",
            "\u001b[0;31mValueError\u001b[0m                                Traceback (most recent call last)",
            "\u001b[0;32m<ipython-input-80-4de1b2b8f8f9>\u001b[0m in \u001b[0;36m<cell line: 1>\u001b[0;34m()\u001b[0m\n\u001b[0;32m----> 1\u001b[0;31m \u001b[0mcosine\u001b[0m\u001b[0;34m(\u001b[0m\u001b[0mtexts\u001b[0m\u001b[0;34m)\u001b[0m\u001b[0;34m\u001b[0m\u001b[0;34m\u001b[0m\u001b[0m\n\u001b[0m",
            "\u001b[0;32m<ipython-input-77-068137f70ffa>\u001b[0m in \u001b[0;36mcosine\u001b[0;34m(texts)\u001b[0m\n\u001b[1;32m      1\u001b[0m \u001b[0mcos\u001b[0m \u001b[0;34m=\u001b[0m \u001b[0;34m[\u001b[0m\u001b[0;34m]\u001b[0m\u001b[0;34m\u001b[0m\u001b[0;34m\u001b[0m\u001b[0m\n\u001b[1;32m      2\u001b[0m \u001b[0;32mdef\u001b[0m \u001b[0mcosine\u001b[0m\u001b[0;34m(\u001b[0m\u001b[0mtexts\u001b[0m\u001b[0;34m)\u001b[0m\u001b[0;34m:\u001b[0m\u001b[0;34m\u001b[0m\u001b[0;34m\u001b[0m\u001b[0m\n\u001b[0;32m----> 3\u001b[0;31m     \u001b[0mcos\u001b[0m\u001b[0;34m.\u001b[0m\u001b[0mappend\u001b[0m\u001b[0;34m(\u001b[0m\u001b[0mcosine_similarity\u001b[0m\u001b[0;34m(\u001b[0m\u001b[0mtexts\u001b[0m\u001b[0;34m[\u001b[0m\u001b[0;36m0\u001b[0m\u001b[0;34m]\u001b[0m\u001b[0;34m,\u001b[0m \u001b[0mtexts\u001b[0m\u001b[0;34m[\u001b[0m\u001b[0;36m1\u001b[0m\u001b[0;34m]\u001b[0m\u001b[0;34m)\u001b[0m\u001b[0;34m)\u001b[0m\u001b[0;34m\u001b[0m\u001b[0;34m\u001b[0m\u001b[0m\n\u001b[0m",
            "\u001b[0;32m/usr/local/lib/python3.10/dist-packages/sklearn/metrics/pairwise.py\u001b[0m in \u001b[0;36mcosine_similarity\u001b[0;34m(X, Y, dense_output)\u001b[0m\n\u001b[1;32m   1391\u001b[0m     \u001b[0;31m# to avoid recursive import\u001b[0m\u001b[0;34m\u001b[0m\u001b[0;34m\u001b[0m\u001b[0m\n\u001b[1;32m   1392\u001b[0m \u001b[0;34m\u001b[0m\u001b[0m\n\u001b[0;32m-> 1393\u001b[0;31m     \u001b[0mX\u001b[0m\u001b[0;34m,\u001b[0m \u001b[0mY\u001b[0m \u001b[0;34m=\u001b[0m \u001b[0mcheck_pairwise_arrays\u001b[0m\u001b[0;34m(\u001b[0m\u001b[0mX\u001b[0m\u001b[0;34m,\u001b[0m \u001b[0mY\u001b[0m\u001b[0;34m)\u001b[0m\u001b[0;34m\u001b[0m\u001b[0;34m\u001b[0m\u001b[0m\n\u001b[0m\u001b[1;32m   1394\u001b[0m \u001b[0;34m\u001b[0m\u001b[0m\n\u001b[1;32m   1395\u001b[0m     \u001b[0mX_normalized\u001b[0m \u001b[0;34m=\u001b[0m \u001b[0mnormalize\u001b[0m\u001b[0;34m(\u001b[0m\u001b[0mX\u001b[0m\u001b[0;34m,\u001b[0m \u001b[0mcopy\u001b[0m\u001b[0;34m=\u001b[0m\u001b[0;32mTrue\u001b[0m\u001b[0;34m)\u001b[0m\u001b[0;34m\u001b[0m\u001b[0;34m\u001b[0m\u001b[0m\n",
            "\u001b[0;32m/usr/local/lib/python3.10/dist-packages/sklearn/metrics/pairwise.py\u001b[0m in \u001b[0;36mcheck_pairwise_arrays\u001b[0;34m(X, Y, precomputed, dtype, accept_sparse, force_all_finite, copy)\u001b[0m\n\u001b[1;32m    153\u001b[0m         )\n\u001b[1;32m    154\u001b[0m     \u001b[0;32melse\u001b[0m\u001b[0;34m:\u001b[0m\u001b[0;34m\u001b[0m\u001b[0;34m\u001b[0m\u001b[0m\n\u001b[0;32m--> 155\u001b[0;31m         X = check_array(\n\u001b[0m\u001b[1;32m    156\u001b[0m             \u001b[0mX\u001b[0m\u001b[0;34m,\u001b[0m\u001b[0;34m\u001b[0m\u001b[0;34m\u001b[0m\u001b[0m\n\u001b[1;32m    157\u001b[0m             \u001b[0maccept_sparse\u001b[0m\u001b[0;34m=\u001b[0m\u001b[0maccept_sparse\u001b[0m\u001b[0;34m,\u001b[0m\u001b[0;34m\u001b[0m\u001b[0;34m\u001b[0m\u001b[0m\n",
            "\u001b[0;32m/usr/local/lib/python3.10/dist-packages/sklearn/utils/validation.py\u001b[0m in \u001b[0;36mcheck_array\u001b[0;34m(array, accept_sparse, accept_large_sparse, dtype, order, copy, force_all_finite, ensure_2d, allow_nd, ensure_min_samples, ensure_min_features, estimator, input_name)\u001b[0m\n\u001b[1;32m    877\u001b[0m                     \u001b[0marray\u001b[0m \u001b[0;34m=\u001b[0m \u001b[0mxp\u001b[0m\u001b[0;34m.\u001b[0m\u001b[0mastype\u001b[0m\u001b[0;34m(\u001b[0m\u001b[0marray\u001b[0m\u001b[0;34m,\u001b[0m \u001b[0mdtype\u001b[0m\u001b[0;34m,\u001b[0m \u001b[0mcopy\u001b[0m\u001b[0;34m=\u001b[0m\u001b[0;32mFalse\u001b[0m\u001b[0;34m)\u001b[0m\u001b[0;34m\u001b[0m\u001b[0;34m\u001b[0m\u001b[0m\n\u001b[1;32m    878\u001b[0m                 \u001b[0;32melse\u001b[0m\u001b[0;34m:\u001b[0m\u001b[0;34m\u001b[0m\u001b[0;34m\u001b[0m\u001b[0m\n\u001b[0;32m--> 879\u001b[0;31m                     \u001b[0marray\u001b[0m \u001b[0;34m=\u001b[0m \u001b[0m_asarray_with_order\u001b[0m\u001b[0;34m(\u001b[0m\u001b[0marray\u001b[0m\u001b[0;34m,\u001b[0m \u001b[0morder\u001b[0m\u001b[0;34m=\u001b[0m\u001b[0morder\u001b[0m\u001b[0;34m,\u001b[0m \u001b[0mdtype\u001b[0m\u001b[0;34m=\u001b[0m\u001b[0mdtype\u001b[0m\u001b[0;34m,\u001b[0m \u001b[0mxp\u001b[0m\u001b[0;34m=\u001b[0m\u001b[0mxp\u001b[0m\u001b[0;34m)\u001b[0m\u001b[0;34m\u001b[0m\u001b[0;34m\u001b[0m\u001b[0m\n\u001b[0m\u001b[1;32m    880\u001b[0m             \u001b[0;32mexcept\u001b[0m \u001b[0mComplexWarning\u001b[0m \u001b[0;32mas\u001b[0m \u001b[0mcomplex_warning\u001b[0m\u001b[0;34m:\u001b[0m\u001b[0;34m\u001b[0m\u001b[0;34m\u001b[0m\u001b[0m\n\u001b[1;32m    881\u001b[0m                 raise ValueError(\n",
            "\u001b[0;32m/usr/local/lib/python3.10/dist-packages/sklearn/utils/_array_api.py\u001b[0m in \u001b[0;36m_asarray_with_order\u001b[0;34m(array, dtype, order, copy, xp)\u001b[0m\n\u001b[1;32m    183\u001b[0m     \u001b[0;32mif\u001b[0m \u001b[0mxp\u001b[0m\u001b[0;34m.\u001b[0m\u001b[0m__name__\u001b[0m \u001b[0;32min\u001b[0m \u001b[0;34m{\u001b[0m\u001b[0;34m\"numpy\"\u001b[0m\u001b[0;34m,\u001b[0m \u001b[0;34m\"numpy.array_api\"\u001b[0m\u001b[0;34m}\u001b[0m\u001b[0;34m:\u001b[0m\u001b[0;34m\u001b[0m\u001b[0;34m\u001b[0m\u001b[0m\n\u001b[1;32m    184\u001b[0m         \u001b[0;31m# Use NumPy API to support order\u001b[0m\u001b[0;34m\u001b[0m\u001b[0;34m\u001b[0m\u001b[0m\n\u001b[0;32m--> 185\u001b[0;31m         \u001b[0marray\u001b[0m \u001b[0;34m=\u001b[0m \u001b[0mnumpy\u001b[0m\u001b[0;34m.\u001b[0m\u001b[0masarray\u001b[0m\u001b[0;34m(\u001b[0m\u001b[0marray\u001b[0m\u001b[0;34m,\u001b[0m \u001b[0morder\u001b[0m\u001b[0;34m=\u001b[0m\u001b[0morder\u001b[0m\u001b[0;34m,\u001b[0m \u001b[0mdtype\u001b[0m\u001b[0;34m=\u001b[0m\u001b[0mdtype\u001b[0m\u001b[0;34m)\u001b[0m\u001b[0;34m\u001b[0m\u001b[0;34m\u001b[0m\u001b[0m\n\u001b[0m\u001b[1;32m    186\u001b[0m         \u001b[0;32mreturn\u001b[0m \u001b[0mxp\u001b[0m\u001b[0;34m.\u001b[0m\u001b[0masarray\u001b[0m\u001b[0;34m(\u001b[0m\u001b[0marray\u001b[0m\u001b[0;34m,\u001b[0m \u001b[0mcopy\u001b[0m\u001b[0;34m=\u001b[0m\u001b[0mcopy\u001b[0m\u001b[0;34m)\u001b[0m\u001b[0;34m\u001b[0m\u001b[0;34m\u001b[0m\u001b[0m\n\u001b[1;32m    187\u001b[0m     \u001b[0;32melse\u001b[0m\u001b[0;34m:\u001b[0m\u001b[0;34m\u001b[0m\u001b[0;34m\u001b[0m\u001b[0m\n",
            "\u001b[0;31mValueError\u001b[0m: could not convert string to float: 'worldcom'"
          ]
        }
      ]
    },
    {
      "cell_type": "code",
      "source": [],
      "metadata": {
        "id": "Uu4FNLG1Aqg_"
      },
      "execution_count": null,
      "outputs": []
    }
  ]
}