{
  "nbformat": 4,
  "nbformat_minor": 0,
  "metadata": {
    "colab": {
      "provenance": []
    },
    "kernelspec": {
      "name": "python3",
      "display_name": "Python 3"
    },
    "language_info": {
      "name": "python"
    }
  },
  "cells": [
    {
      "cell_type": "code",
      "execution_count": null,
      "metadata": {
        "id": "5nhKiWxu79ix"
      },
      "outputs": [],
      "source": [
        "#1\n",
        "def dict_create(n1,n2):\n",
        "  if len(n1)==len(n2):\n",
        "    dictionary=dict()\n",
        "    for fea in range(len(n1)):\n",
        "      dictionary.update({'student'+str(fea):{n1[fea]:n2[fea]}})\n",
        "  print(dictionary)\n"
      ]
    },
    {
      "cell_type": "code",
      "source": [
        "n1=['abc','def']\n",
        "n2=[89,98]\n",
        "dict_create(n1,n2)"
      ],
      "metadata": {
        "colab": {
          "base_uri": "https://localhost:8080/"
        },
        "id": "Y7HfpvjM-lr6",
        "outputId": "cb0ec8fa-63af-471a-f1e5-1a3b725b491d"
      },
      "execution_count": null,
      "outputs": [
        {
          "output_type": "stream",
          "name": "stdout",
          "text": [
            "{'student0': {'abc': 89}, 'student1': {'def': 98}}\n"
          ]
        }
      ]
    },
    {
      "cell_type": "code",
      "source": [
        "#2\n",
        "def frequency(input):\n",
        "  freq=[]\n",
        "  di=dict()\n",
        "  for fea in input:\n",
        "    freq.append(input.count(fea))\n",
        "  for features in range(0,len(input)):\n",
        "    di.update({input[features]:freq[features]})\n",
        "  print(di)\n",
        "\n"
      ],
      "metadata": {
        "id": "BD4ybTnp_1ny"
      },
      "execution_count": null,
      "outputs": []
    },
    {
      "cell_type": "code",
      "source": [
        "Input=[1,1,2,2,3,3,4,5,5,5,5,5,6,6,7,7]\n",
        "frequency(Input)\n"
      ],
      "metadata": {
        "colab": {
          "base_uri": "https://localhost:8080/"
        },
        "id": "cQJhP7gaDeTC",
        "outputId": "a314ce8d-6edd-4464-ee1b-8b95fe433b82"
      },
      "execution_count": null,
      "outputs": [
        {
          "output_type": "stream",
          "name": "stdout",
          "text": [
            "{1: 2, 2: 2, 3: 2, 4: 1, 5: 5, 6: 2, 7: 2}\n"
          ]
        }
      ]
    },
    {
      "cell_type": "code",
      "source": [
        "#3\n",
        "def reverse_dict(n):\n",
        "  key=[]\n",
        "  value=[]\n",
        "  dic=dict()\n",
        "  for fea in n:\n",
        "    key.append(fea)\n",
        "    value.append(n[fea])\n",
        "  key=key[::-1]\n",
        "  value=value[::-1]\n",
        "  for char in range(len(key)):\n",
        "    dic.update({key[char]:value[char]})\n",
        "  print(dic)\n",
        "\n"
      ],
      "metadata": {
        "id": "Z99bFlEeDr6t"
      },
      "execution_count": null,
      "outputs": []
    },
    {
      "cell_type": "code",
      "source": [
        "n={'g':4,'k':5,'l':6}\n",
        "reverse_dict(n)"
      ],
      "metadata": {
        "colab": {
          "base_uri": "https://localhost:8080/"
        },
        "id": "6RxrLyLfG-qC",
        "outputId": "c26ec57d-9a67-4968-fb13-190f37d07c4a"
      },
      "execution_count": null,
      "outputs": [
        {
          "output_type": "stream",
          "name": "stdout",
          "text": [
            "{'l': 6, 'k': 5, 'g': 4}\n"
          ]
        }
      ]
    },
    {
      "cell_type": "code",
      "source": [
        "#4\n",
        "def prime_or_not(n):\n",
        "  dic=dict()\n",
        "  for fea in n:\n",
        "    for ele in range(2,fea):\n",
        "      if fea % ele ==0:\n",
        "        dic.update({fea:\"not a prime number\"})\n",
        "        break\n",
        "      else:\n",
        "        dic.update({fea:\"prime number\"})\n",
        "    if fea ==1:\n",
        "      dic.update({fea:\"not a prime number\"})\n",
        "  print(dic)\n"
      ],
      "metadata": {
        "id": "4Psgb4aGHZuG"
      },
      "execution_count": null,
      "outputs": []
    },
    {
      "cell_type": "code",
      "source": [
        "#5\n",
        "def grouping(n):\n",
        "  from collections import defaultdict\n",
        "  res=defaultdict(list)\n",
        "  for fea in n:\n",
        "    res[fea].append(fea)\n",
        "  print(res)\n",
        "\n",
        "\n",
        "\n",
        "\n"
      ],
      "metadata": {
        "id": "Ev2ViRdFGArT"
      },
      "execution_count": null,
      "outputs": []
    },
    {
      "cell_type": "code",
      "source": [
        "\n",
        "\n",
        "\n"
      ],
      "metadata": {
        "id": "tMvta8QaonQZ",
        "colab": {
          "base_uri": "https://localhost:8080/"
        },
        "outputId": "5970b6cb-5567-45ce-943c-97157f5f16e4"
      },
      "execution_count": null,
      "outputs": [
        {
          "output_type": "stream",
          "name": "stdout",
          "text": [
            "defaultdict(<class 'list'>, {2: [2], 4: [4, 4, 4], 45: [45], 5: [5, 5, 5], 6: [6]})\n"
          ]
        }
      ]
    },
    {
      "cell_type": "code",
      "source": [
        "#6\n",
        "def replace_word(sent,word):\n",
        "  replac=[]\n",
        "  for fea in word:\n",
        "    replac.append(fea)\n",
        "    replac.append(word[fea])\n",
        "  new_sent=sent.replace(replac[0],replac[1])\n",
        "  print(new_sent)\n",
        "\n",
        "\n"
      ],
      "metadata": {
        "id": "mqh430gfoyCU"
      },
      "execution_count": 17,
      "outputs": []
    },
    {
      "cell_type": "code",
      "source": [
        "test_str = 'INSIDEAIML is the best platform for geeks to learn and earn'\n",
        "Replace_dict = {'geeks': 'candidates'}\n",
        "replace_word(test_str,Replace_dict)"
      ],
      "metadata": {
        "colab": {
          "base_uri": "https://localhost:8080/"
        },
        "id": "ZRV8Jv_p4nha",
        "outputId": "a2ab52fd-0a8a-4076-afb6-10246e45794a"
      },
      "execution_count": 18,
      "outputs": [
        {
          "output_type": "stream",
          "name": "stdout",
          "text": [
            "INSIDEAIML is the best platform for candidates to learn and earn\n"
          ]
        }
      ]
    },
    {
      "cell_type": "code",
      "source": [
        "\n",
        "\n",
        "\n",
        "\n",
        "\n",
        "\n",
        "\n"
      ],
      "metadata": {
        "id": "G1DjITVUX3dw"
      },
      "execution_count": 35,
      "outputs": []
    },
    {
      "cell_type": "code",
      "source": [],
      "metadata": {
        "id": "SjKc2YJWbWCE"
      },
      "execution_count": null,
      "outputs": []
    }
  ]
}