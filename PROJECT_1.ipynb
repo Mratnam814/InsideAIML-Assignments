{
  "cells": [
    {
      "cell_type": "code",
      "execution_count": 75,
      "metadata": {
        "id": "--jsoZ0yrocY"
      },
      "outputs": [],
      "source": [
        "import tensorflow as tf\n",
        "from tensorflow.keras.datasets import cifar100\n",
        "from tensorflow.keras import Sequential\n",
        "import numpy as np\n",
        "from tensorflow.keras.layers import Conv2D,Dense,Flatten\n",
        "from tensorflow.keras.layers import GlobalMaxPooling2D, MaxPooling2D\n",
        "from tensorflow.keras.layers import BatchNormalization\n",
        "from tensorflow.keras.models import Model\n",
        "from tensorflow.keras.layers import Dropout\n",
        "import matplotlib.pyplot as plt"
      ]
    },
    {
      "cell_type": "code",
      "execution_count": 42,
      "metadata": {
        "id": "BbwTvn3wr4db"
      },
      "outputs": [],
      "source": [
        "(X_train,y_train),(X_test,y_test)=cifar100.load_data()"
      ]
    },
    {
      "cell_type": "code",
      "execution_count": 43,
      "metadata": {
        "colab": {
          "base_uri": "https://localhost:8080/"
        },
        "id": "GWwwXp-YK1GO",
        "outputId": "662178e5-930a-487c-bf5c-3290b628d330"
      },
      "outputs": [
        {
          "output_type": "stream",
          "name": "stdout",
          "text": [
            "(50000, 32, 32, 3)\n",
            "(50000, 1)\n",
            "(10000, 32, 32, 3)\n",
            "(10000, 1)\n"
          ]
        }
      ],
      "source": [
        "print(X_train.shape)\n",
        "print(y_train.shape)\n",
        "print(X_test.shape)\n",
        "print(y_test.shape)"
      ]
    },
    {
      "cell_type": "code",
      "execution_count": 44,
      "metadata": {
        "id": "QfUuPyrJMLI8"
      },
      "outputs": [],
      "source": [
        "y_train=y_train.reshape(-1,)\n",
        "y_test=y_test.reshape(-1,)\n"
      ]
    },
    {
      "cell_type": "code",
      "execution_count": 39,
      "metadata": {
        "id": "uaNJcPqeLNOq"
      },
      "outputs": [],
      "source": [
        "X_train=X_train/255.0\n",
        "X_test=X_test/255.0"
      ]
    },
    {
      "cell_type": "code",
      "source": [
        "model=Sequential()\n",
        "model.add(Conv2D(16, (3, 3), activation='relu',\n",
        "                  input_shape=(32, 32, 3), padding='same'))\n",
        "model.add(Conv2D(32, (3, 3),\n",
        "                  activation='relu',\n",
        "                  padding='same'))\n",
        "model.add(Conv2D(64, (3, 3),\n",
        "                  activation='relu',\n",
        "                  padding='same'))\n",
        "model.add(MaxPooling2D(2, 2))\n",
        "model.add(Conv2D(128, (3, 3),\n",
        "                  activation='relu',\n",
        "                  padding='same'))\n",
        "model.add(Flatten())\n",
        "model.add(BatchNormalization())\n",
        "model.add(Dense(256, activation='relu'))\n",
        "model.add(Dropout(0.3))\n",
        "model.add(BatchNormalization())\n",
        "model.add(Dense(100,activation='softmax'))\n",
        "\n"
      ],
      "metadata": {
        "id": "ils66unPAf4S"
      },
      "execution_count": 72,
      "outputs": []
    },
    {
      "cell_type": "code",
      "source": [
        "\n",
        "model.compile(\n",
        "    loss=sparse_categorical_crossentropy,\n",
        "    optimizer='adam',\n",
        "    metrics=[ 'accuracy']\n",
        ")\n",
        "\n",
        "model.summary()"
      ],
      "metadata": {
        "colab": {
          "base_uri": "https://localhost:8080/"
        },
        "id": "Vnjbt1jVDoxh",
        "outputId": "8ccb8d5a-a158-4a1e-bdc0-8e7857bc62a6"
      },
      "execution_count": 73,
      "outputs": [
        {
          "output_type": "stream",
          "name": "stdout",
          "text": [
            "Model: \"sequential_10\"\n",
            "_________________________________________________________________\n",
            " Layer (type)                Output Shape              Param #   \n",
            "=================================================================\n",
            " conv2d_40 (Conv2D)          (None, 32, 32, 16)        448       \n",
            "                                                                 \n",
            " conv2d_41 (Conv2D)          (None, 32, 32, 32)        4640      \n",
            "                                                                 \n",
            " conv2d_42 (Conv2D)          (None, 32, 32, 64)        18496     \n",
            "                                                                 \n",
            " max_pooling2d_10 (MaxPooli  (None, 16, 16, 64)        0         \n",
            " ng2D)                                                           \n",
            "                                                                 \n",
            " conv2d_43 (Conv2D)          (None, 16, 16, 128)       73856     \n",
            "                                                                 \n",
            " flatten_10 (Flatten)        (None, 32768)             0         \n",
            "                                                                 \n",
            " batch_normalization_20 (Ba  (None, 32768)             131072    \n",
            " tchNormalization)                                               \n",
            "                                                                 \n",
            " dense_26 (Dense)            (None, 256)               8388864   \n",
            "                                                                 \n",
            " dropout_10 (Dropout)        (None, 256)               0         \n",
            "                                                                 \n",
            " batch_normalization_21 (Ba  (None, 256)               1024      \n",
            " tchNormalization)                                               \n",
            "                                                                 \n",
            " dense_27 (Dense)            (None, 100)               25700     \n",
            "                                                                 \n",
            "=================================================================\n",
            "Total params: 8644100 (32.97 MB)\n",
            "Trainable params: 8578052 (32.72 MB)\n",
            "Non-trainable params: 66048 (258.00 KB)\n",
            "_________________________________________________________________\n"
          ]
        }
      ]
    },
    {
      "cell_type": "code",
      "source": [
        "hist = model.fit(X_train, y_train,\n",
        "                 epochs=5,\n",
        "                 validation_data=(X_test, y_test),batch_size=32)"
      ],
      "metadata": {
        "colab": {
          "base_uri": "https://localhost:8080/"
        },
        "id": "7Np9e5vQFZt_",
        "outputId": "21f426b3-c324-470b-ca48-a773feef5271"
      },
      "execution_count": 74,
      "outputs": [
        {
          "output_type": "stream",
          "name": "stdout",
          "text": [
            "Epoch 1/5\n",
            "1563/1563 [==============================] - 18s 10ms/step - loss: 3.7278 - accuracy: 0.1457 - val_loss: 3.4998 - val_accuracy: 0.2055\n",
            "Epoch 2/5\n",
            "1563/1563 [==============================] - 16s 10ms/step - loss: 3.0200 - accuracy: 0.2599 - val_loss: 3.0201 - val_accuracy: 0.2955\n",
            "Epoch 3/5\n",
            "1563/1563 [==============================] - 19s 12ms/step - loss: 2.6775 - accuracy: 0.3278 - val_loss: 2.7947 - val_accuracy: 0.3431\n",
            "Epoch 4/5\n",
            "1563/1563 [==============================] - 17s 11ms/step - loss: 2.4529 - accuracy: 0.3687 - val_loss: 4.2638 - val_accuracy: 0.2980\n",
            "Epoch 5/5\n",
            "1563/1563 [==============================] - 15s 10ms/step - loss: 2.3012 - accuracy: 0.4024 - val_loss: 3.8208 - val_accuracy: 0.3353\n"
          ]
        }
      ]
    },
    {
      "cell_type": "code",
      "source": [
        "plt.plot(hist.history['accuracy'], label='accuracy', color='red')\n",
        "plt.plot(hist.history['val_accuracy'], label='validation_accuracy', color='green')\n",
        "plt.legend()"
      ],
      "metadata": {
        "colab": {
          "base_uri": "https://localhost:8080/",
          "height": 447
        },
        "id": "T1y2FoxNFs1h",
        "outputId": "1baf3fe5-31e0-42f0-f90f-fe5e4db194e2"
      },
      "execution_count": 76,
      "outputs": [
        {
          "output_type": "execute_result",
          "data": {
            "text/plain": [
              "<matplotlib.legend.Legend at 0x7bf4a81e0940>"
            ]
          },
          "metadata": {},
          "execution_count": 76
        },
        {
          "output_type": "display_data",
          "data": {
            "text/plain": [
              "<Figure size 640x480 with 1 Axes>"
            ],
            "image/png": "[encoded data removed]"
          },
          "metadata": {}
        }
      ]
    },
    {
      "cell_type": "code",
      "source": [],
      "metadata": {
        "id": "nqXYofrjQ4JX"
      },
      "execution_count": null,
      "outputs": []
    }
  ],
  "metadata": {
    "accelerator": "GPU",
    "colab": {
      "provenance": [],
      "gpuType": "T4"
    },
    "kernelspec": {
      "display_name": "Python 3",
      "name": "python3"
    },
    "language_info": {
      "name": "python"
    }
  },
  "nbformat": 4,
  "nbformat_minor": 0
}