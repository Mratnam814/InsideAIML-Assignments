{
 "cells": [
  {
   "cell_type": "code",
   "execution_count": 7,
   "id": "787f293d",
   "metadata": {},
   "outputs": [
    {
     "name": "stdout",
     "output_type": "stream",
     "text": [
      "Enter the number:1331\n",
      "its a palindrome\n"
     ]
    }
   ],
   "source": [
    "#1\n",
    "def palindrome():\n",
    "    num=int(input(\"Enter the number:\"))\n",
    "    num=str(num)\n",
    "    l=[]\n",
    "    for j in num:\n",
    "        l.append(j)\n",
    "    k=l[::-1]\n",
    "    k=\"\".join(l)\n",
    "    if k == num:\n",
    "        print(\"its a palindrome\")\n",
    "    else:\n",
    "        print(\"nopp\")\n",
    "palindrome()"
   ]
  },
  {
   "cell_type": "code",
   "execution_count": 21,
   "id": "01ac3d2a",
   "metadata": {},
   "outputs": [
    {
     "name": "stdout",
     "output_type": "stream",
     "text": [
      "(3, 9, 8, 5, 4, 7, 6)\n"
     ]
    }
   ],
   "source": [
    "#2\n",
    "def nested(n):\n",
    "    s=set()\n",
    "    l=[]\n",
    "    for i in n:\n",
    "        for j in i:\n",
    "            s.add(str(j))\n",
    "    for i in s:\n",
    "        l.append(int(i))\n",
    "    print(tuple(l))\n",
    "    \n",
    "n=((3,4,5),(5,6,7),(7,8,9))\n",
    "nested(n)"
   ]
  },
  {
   "cell_type": "code",
   "execution_count": 40,
   "id": "6012c0b5",
   "metadata": {},
   "outputs": [
    {
     "data": {
      "text/plain": [
       "'1-22-2-22-3'"
      ]
     },
     "execution_count": 40,
     "metadata": {},
     "output_type": "execute_result"
    }
   ],
   "source": [
    "#3\n",
    "def test_tuple(n):\n",
    "    box=[]\n",
    "    for i in n:\n",
    "        box.append(str(i))\n",
    "    for j in range(1,(len(box)+1)):\n",
    "        if j%2 !=0:\n",
    "            box.insert(j,'22')\n",
    "    k=\"-\".join(box)\n",
    "    return k\n",
    "n=(1,2,3)\n",
    "test_tuple(n)\n",
    "    "
   ]
  },
  {
   "cell_type": "code",
   "execution_count": 43,
   "id": "3cb9d875",
   "metadata": {},
   "outputs": [
    {
     "name": "stdout",
     "output_type": "stream",
     "text": [
      "(28, 32, 24, 6)\n"
     ]
    }
   ],
   "source": [
    "#5\n",
    "def adjacent_elements(n):\n",
    "    l=[]\n",
    "    for i in range(len(n)-1):\n",
    "        k=n[i]*n[i+1]\n",
    "        l.append(k)\n",
    "    print(tuple(l))\n",
    "n=(7,4,8,3,2)\n",
    "adjacent_elements(n)\n",
    "    \n"
   ]
  },
  {
   "cell_type": "code",
   "execution_count": 47,
   "id": "ff87e94f",
   "metadata": {},
   "outputs": [
    {
     "name": "stdout",
     "output_type": "stream",
     "text": [
      "(1, 34, 78, 23, 56)\n"
     ]
    }
   ],
   "source": [
    "#9\n",
    "def remove_dupli(n):\n",
    "    print(tuple(set(n)))\n",
    "s=(1,1,1,34,56,78,23,23)\n",
    "remove_dupli(s)\n",
    "    \n"
   ]
  },
  {
   "cell_type": "code",
   "execution_count": null,
   "id": "f35a094d",
   "metadata": {},
   "outputs": [],
   "source": [
    "\n",
    "#DEAR INSIDE AIML TEAM ,THIS WAS MY LAST ASSIGNMENT. I HAVE SO FAR TRIED MY BEST TO BE A BETTER STUDENT.I EXPECT THAT I WILL BE PROVIDED CERTIFICATE AND MY REAL ASSIGNMENTS CAN BE CHECKED,THESE FRADULENT ONE'S FOR THE NAMESAKE IF REMAINS UNCHECKED THEN THAT WONT BOTHER ME.\n",
    "#THOSE SIX ASSIGNMENTS RELEASED BY INSTITUTE LATER ARE OF NO USE.I HAVE DONE THESE THINGS BEFORE.\n",
    "#I STILL HAVE RESPECT FOR THE TEAM THAT PREPARES PERSONALIZED ASSIGNMENTS FOR ME.\n",
    "#MAY YOU ALL BE BLESSED WITH PEACE AND PROSPERITY.\n",
    "#THANK YOU VERY MUCH"
   ]
  },
  {
   "cell_type": "code",
   "execution_count": null,
   "id": "1738ee38",
   "metadata": {},
   "outputs": [],
   "source": []
  }
 ],
 "metadata": {
  "kernelspec": {
   "display_name": "Python 3 (ipykernel)",
   "language": "python",
   "name": "python3"
  },
  "language_info": {
   "codemirror_mode": {
    "name": "ipython",
    "version": 3
   },
   "file_extension": ".py",
   "mimetype": "text/x-python",
   "name": "python",
   "nbconvert_exporter": "python",
   "pygments_lexer": "ipython3",
   "version": "3.9.12"
  }
 },
 "nbformat": 4,
 "nbformat_minor": 5
}
