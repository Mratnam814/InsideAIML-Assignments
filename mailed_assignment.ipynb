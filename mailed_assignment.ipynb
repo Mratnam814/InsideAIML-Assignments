{
  "nbformat": 4,
  "nbformat_minor": 0,
  "metadata": {
    "colab": {
      "provenance": []
    },
    "kernelspec": {
      "name": "python3",
      "display_name": "Python 3"
    },
    "language_info": {
      "name": "python"
    }
  },
  "cells": [
    {
      "cell_type": "markdown",
      "source": [
        "1. REVERSE THE STRING\n",
        "Given an input strings, reverse the order of the words.\n",
        "A word is defined as a sequence of non-space characters. The words in s will be separated by at least\n",
        "one space.\n",
        "Return a string of the words in reverse order concatenated by a single space.\n",
        "Note that s may contain leading or trailing spaces or multiple spaces between two words. The\n",
        "returned string should only have a single space separating the words. Do not include any extra\n",
        "spaces"
      ],
      "metadata": {
        "id": "w8Sz9xg4y6jr"
      }
    },
    {
      "cell_type": "code",
      "execution_count": null,
      "metadata": {
        "id": "jIx3vbrOyY7m"
      },
      "outputs": [],
      "source": [
        "def reverse_string(n):\n",
        "  n=n.split()\n",
        "  reverse=n[::-1]\n",
        "  reverse_join= \" \".join(reverse)\n",
        "  return (str(reverse_join))"
      ]
    },
    {
      "cell_type": "code",
      "source": [
        "s = \"the sky is blue\"\n",
        "reverse_string(s)"
      ],
      "metadata": {
        "colab": {
          "base_uri": "https://localhost:8080/",
          "height": 35
        },
        "id": "eubtMWOZzRL9",
        "outputId": "53545cd4-1a6a-4edb-e6f1-333e56872802"
      },
      "execution_count": null,
      "outputs": [
        {
          "output_type": "execute_result",
          "data": {
            "text/plain": [
              "'blue is sky the'"
            ],
            "application/vnd.google.colaboratory.intrinsic+json": {
              "type": "string"
            }
          },
          "metadata": {},
          "execution_count": 219
        }
      ]
    },
    {
      "cell_type": "code",
      "source": [
        "s = \"hello world\"\n",
        "reverse_string(s)"
      ],
      "metadata": {
        "colab": {
          "base_uri": "https://localhost:8080/",
          "height": 35
        },
        "id": "rn1OM4av0OA2",
        "outputId": "20fc53b9-7efe-4849-c4ac-bd48c12c0d7b"
      },
      "execution_count": null,
      "outputs": [
        {
          "output_type": "execute_result",
          "data": {
            "text/plain": [
              "'world hello'"
            ],
            "application/vnd.google.colaboratory.intrinsic+json": {
              "type": "string"
            }
          },
          "metadata": {},
          "execution_count": 220
        }
      ]
    },
    {
      "cell_type": "code",
      "source": [
        "s = \"a      good example\"\n",
        "reverse_string(s)"
      ],
      "metadata": {
        "colab": {
          "base_uri": "https://localhost:8080/",
          "height": 35
        },
        "id": "AgAUSKS70kDp",
        "outputId": "5b5c84a3-d113-4f8f-e930-4c1838f8540d"
      },
      "execution_count": null,
      "outputs": [
        {
          "output_type": "execute_result",
          "data": {
            "text/plain": [
              "'example good a'"
            ],
            "application/vnd.google.colaboratory.intrinsic+json": {
              "type": "string"
            }
          },
          "metadata": {},
          "execution_count": 221
        }
      ]
    },
    {
      "cell_type": "markdown",
      "source": [
        "2. STRING COMPRESSION\n",
        "Given an array of characters chars, compress it using the following algorithm:\n",
        "Begin with an empty string s. For each group of consecutive repeating characters in chars:\n",
        "If the group's length is 1, append the character to s.\n",
        "Otherwise, append the character followed by the group's length.\n",
        "The compressed string s should not be returned separately, but instead, be stored in the input\n",
        "character array chars. Note that group lengths that are 10 or longer will be split into multiple\n",
        "characters in chars.\n",
        "After you are done modifying the input array, return the new length of the array.\n",
        "You must write an algorithm that uses only constant extra space"
      ],
      "metadata": {
        "id": "VBri3ezw176y"
      }
    },
    {
      "cell_type": "code",
      "source": [
        "def compress(n):\n",
        "  dic=dict()\n",
        "  new_list=[]\n",
        "  final_list=[]\n",
        "  for fea in n:\n",
        "    dic.update({fea:n.count(fea)})\n",
        "  for features in dic:\n",
        "    if dic[features]>1:\n",
        "      new_list.append(features+str(dic[features]))\n",
        "    elif dic[features]==1:\n",
        "      new_list.append(features)\n",
        "  string=\"\".join(new_list)\n",
        "  for num in string:\n",
        "    final_list.append(str(num))\n",
        "  print(final_list)\n",
        "\n",
        "\n"
      ],
      "metadata": {
        "id": "JPzGScKL1XQU"
      },
      "execution_count": null,
      "outputs": []
    },
    {
      "cell_type": "code",
      "source": [
        " chars = [\"a\", \"a\", \"b\", \"b\", \"c\", \"c\", \"c\"]\n",
        " compress(chars)\n"
      ],
      "metadata": {
        "colab": {
          "base_uri": "https://localhost:8080/"
        },
        "id": "0LdifZd22iZP",
        "outputId": "132fcaaf-2ee8-4385-dccc-5ea0a1bbf6ac"
      },
      "execution_count": null,
      "outputs": [
        {
          "output_type": "stream",
          "name": "stdout",
          "text": [
            "['a', '2', 'b', '2', 'c', '3']\n"
          ]
        }
      ]
    },
    {
      "cell_type": "code",
      "source": [
        "chars = [\"a\"]\n",
        "compress(chars)"
      ],
      "metadata": {
        "colab": {
          "base_uri": "https://localhost:8080/"
        },
        "id": "CQqMD_O728Cb",
        "outputId": "adc040d4-4dff-4a36-e48d-d7a95524ea54"
      },
      "execution_count": null,
      "outputs": [
        {
          "output_type": "stream",
          "name": "stdout",
          "text": [
            "['a']\n"
          ]
        }
      ]
    },
    {
      "cell_type": "code",
      "source": [
        "chars = [\"a\", \"b\", \"b\", \"b\", \"b\", \"b\", \"b\", \"b\", \"b\", \"b\", \"b\", \"b\", \"b\"]\n",
        "compress(chars)"
      ],
      "metadata": {
        "colab": {
          "base_uri": "https://localhost:8080/"
        },
        "id": "lZCLSFHx3mKp",
        "outputId": "4c04baed-4e9e-4203-c9b0-026382c98ab5"
      },
      "execution_count": null,
      "outputs": [
        {
          "output_type": "stream",
          "name": "stdout",
          "text": [
            "['a', 'b', '1', '2']\n"
          ]
        }
      ]
    },
    {
      "cell_type": "markdown",
      "source": [
        "3. Given Temperatures\n",
        "Given an array of integer’s temperatures represents the daily temperatures, return an array answer\n",
        "such that answer[i] is the number of days you have to wait after the ith day to get a warmer\n",
        "temperature. If there is no future day for which this is possible, keep answer[i] == 0 instead."
      ],
      "metadata": {
        "id": "SYWEbWzMZ1FL"
      }
    },
    {
      "cell_type": "code",
      "source": [
        "def temp_days(n):\n",
        "  Days=[]\n",
        "  if n[0] == n[(len(n)-1)]:\n",
        "    for fea in range(0,(len(n)-2)):\n",
        "      if n[fea]<n[fea+1]:\n",
        "        Days.append(1)\n",
        "      elif n[fea]>n[fea+1]:\n",
        "        Days.append(n[fea]-n[fea+1])\n",
        "    Days.append(0)\n",
        "    Days.append(0)\n",
        "  else:\n",
        "    for fea in range(0,(len(n)-1)):\n",
        "      if n[fea]<n[fea+1]:\n",
        "        Days.append(1)\n",
        "      elif n[fea]>n[fea+1]:\n",
        "        Days.append(n[fea]-n[fea+1])\n",
        "    Days.append(0)\n",
        "\n",
        "\n",
        "\n",
        "\n",
        "\n",
        "  print(Days)\n",
        "\n",
        "\n"
      ],
      "metadata": {
        "id": "6ZOynRJ93u3u"
      },
      "execution_count": null,
      "outputs": []
    },
    {
      "cell_type": "code",
      "source": [
        "temperatures = [73, 74, 75, 71, 69, 72, 76, 73]\n",
        "temp_days(temperatures)\n"
      ],
      "metadata": {
        "colab": {
          "base_uri": "https://localhost:8080/"
        },
        "id": "fAv-fK_ZsSQe",
        "outputId": "cc3f1ff7-e9c8-460c-dd88-3aa7b3b20cef"
      },
      "execution_count": null,
      "outputs": [
        {
          "output_type": "stream",
          "name": "stdout",
          "text": [
            "[1, 1, 4, 2, 1, 1, 0, 0]\n"
          ]
        }
      ]
    },
    {
      "cell_type": "code",
      "source": [
        " temperatures = [30, 40, 50, 60]\n",
        " temp_days(temperatures)"
      ],
      "metadata": {
        "colab": {
          "base_uri": "https://localhost:8080/"
        },
        "id": "ceVvKuGxsfRl",
        "outputId": "129bb137-4198-4800-b2da-4eacf2645422"
      },
      "execution_count": null,
      "outputs": [
        {
          "output_type": "stream",
          "name": "stdout",
          "text": [
            "[1, 1, 1, 0]\n"
          ]
        }
      ]
    },
    {
      "cell_type": "code",
      "source": [
        "temperatures = [30, 60, 90]\n",
        "temp_days(temperatures)\n"
      ],
      "metadata": {
        "colab": {
          "base_uri": "https://localhost:8080/"
        },
        "id": "QWP_ChZD6Rll",
        "outputId": "b2494785-0bf6-4a9a-a98c-ea7d413669e0"
      },
      "execution_count": null,
      "outputs": [
        {
          "output_type": "stream",
          "name": "stdout",
          "text": [
            "[1, 1, 0]\n"
          ]
        }
      ]
    },
    {
      "cell_type": "markdown",
      "source": [
        "4. Find the closest pair from two sorted arrays\n",
        "Given two sorted arrays and a number x, find the pair whose sum is closest to x and the pair has an\n",
        "element from each array.\n",
        "We are given two arrays ar1 [0...m-1] and ar2 [0..n-1] and a number x, we need to find the pair ar1 [i]\n",
        "+ ar2 [j] such that absolute value of (ar1 [i] + ar2[j] - x) is minimum.\n"
      ],
      "metadata": {
        "id": "knPTDqlR6rzb"
      }
    },
    {
      "cell_type": "code",
      "source": [
        "def sorted_array(n1,n2,x):\n",
        "  d=dict()\n",
        "  dic=dict()\n",
        "  add=[]\n",
        "  subtract=[]\n",
        "  keep=[]\n",
        "  for fea in n1:\n",
        "    for num in n2:\n",
        "      d.update({fea+num:[fea,num]})\n",
        "      add.append(fea+num)\n",
        "  for features in add:\n",
        "    if features < x:\n",
        "      k=x-features\n",
        "      dic.update({k:features})\n",
        "  express=dic[min(dic)]\n",
        "  for alph in d:\n",
        "    if alph == express:\n",
        "      value=d[alph]\n",
        "  print(\"Output is\",value[0] ,\"and\",value[1])\n",
        "\n",
        "\n",
        "\n",
        "\n",
        "\n",
        "\n"
      ],
      "metadata": {
        "id": "gLTupYK-6rHr"
      },
      "execution_count": null,
      "outputs": []
    },
    {
      "cell_type": "code",
      "source": [
        "ar1 = (1, 4, 5, 7)\n",
        "ar2= (10, 20, 30, 40)\n",
        "x = 32"
      ],
      "metadata": {
        "id": "0oKc7re82R2S"
      },
      "execution_count": null,
      "outputs": []
    },
    {
      "cell_type": "code",
      "source": [
        "sorted_array(ar1,ar2,x)"
      ],
      "metadata": {
        "colab": {
          "base_uri": "https://localhost:8080/"
        },
        "id": "5cPPEuyn7hib",
        "outputId": "d78d5c05-d005-4043-a7d6-29eaf3624794"
      },
      "execution_count": null,
      "outputs": [
        {
          "output_type": "stream",
          "name": "stdout",
          "text": [
            "Output is 1 and 30\n"
          ]
        }
      ]
    },
    {
      "cell_type": "code",
      "source": [
        "ar1=1, 4, 5, 7\n",
        "ar2=10, 20, 30, 40\n",
        "x = 58\n",
        "sorted_array(ar1,ar2,x)"
      ],
      "metadata": {
        "colab": {
          "base_uri": "https://localhost:8080/"
        },
        "id": "9HyNPHdl7n0R",
        "outputId": "a09c56ee-048c-49ee-c7e2-82bde71ef3a4"
      },
      "execution_count": null,
      "outputs": [
        {
          "output_type": "stream",
          "name": "stdout",
          "text": [
            "Output is 7 and 40\n"
          ]
        }
      ]
    },
    {
      "cell_type": "markdown",
      "source": [
        "5. Longest palindromic string\n",
        "Given a string s, return the longest palindromic substring in s.\n",
        "Example 1:\n",
        "Input: s = \"babad\"\n",
        "Output: \"bab\"\n",
        "Explanation: \"aba\" is also a valid answer.\n",
        "Example 2:\n",
        "Input: s = \"cbbd\"\n",
        "Output: \"bb\""
      ],
      "metadata": {
        "id": "F_047txe8vxs"
      }
    },
    {
      "cell_type": "code",
      "source": [
        "\n",
        "def palindro(n):\n",
        "  new_alph=n[::-1]\n",
        "  if n==new_alph:\n",
        "    result=new_alph\n",
        "    print(result)\n",
        "    Break\n",
        "\n",
        "\n",
        "  else:\n",
        "    box=[]\n",
        "    for fea in range(len(n)):\n",
        "      n=n[fea:(len(n)-1+fea)]\n",
        "      box.append(n)\n",
        "    for features in box:\n",
        "      if len(features)==1:\n",
        "        Break\n",
        "      elif len(features)==0:\n",
        "        Break\n",
        "      else:\n",
        "        palindro(features)\n",
        "\n",
        "\n",
        "\n",
        "\n",
        "\n",
        "\n"
      ],
      "metadata": {
        "id": "LAoRhJXZ78GW"
      },
      "execution_count": null,
      "outputs": []
    },
    {
      "cell_type": "code",
      "source": [
        "s=\"cbbd\"\n",
        "palindro(s)"
      ],
      "metadata": {
        "colab": {
          "base_uri": "https://localhost:8080/"
        },
        "id": "244KBrddShQ3",
        "outputId": "c9c0b101-4021-40f5-96d4-47ae202e288a"
      },
      "execution_count": null,
      "outputs": [
        {
          "output_type": "stream",
          "name": "stdout",
          "text": [
            "bb\n"
          ]
        }
      ]
    },
    {
      "cell_type": "code",
      "source": [
        "s=\"babad\"\n",
        "palindro(s)"
      ],
      "metadata": {
        "id": "7NMHTdCPSj53",
        "colab": {
          "base_uri": "https://localhost:8080/"
        },
        "outputId": "881f4ca2-6c95-48a4-c9e4-c58c5b6e4f91"
      },
      "execution_count": null,
      "outputs": [
        {
          "output_type": "stream",
          "name": "stdout",
          "text": [
            "bab\n",
            "aba\n"
          ]
        }
      ]
    },
    {
      "cell_type": "markdown",
      "source": [
        "6. Longest substring without repeating character\n",
        "Given a string s, find the length of the longest substring without repeating characters."
      ],
      "metadata": {
        "id": "FjmuULcouncJ"
      }
    },
    {
      "cell_type": "code",
      "source": [
        "def substring(n):\n",
        "  box=[]\n",
        "  for fea in n:\n",
        "    box.append(fea)\n",
        "  box.remove(box[0])\n",
        "  new_str=\"\".join(box)\n",
        "  print(len(set(new_str)))\n",
        "\n"
      ],
      "metadata": {
        "id": "AP6-e9QZhYE6"
      },
      "execution_count": null,
      "outputs": []
    },
    {
      "cell_type": "code",
      "source": [
        " s = \"abcabcbb\"\n",
        " substring(s)"
      ],
      "metadata": {
        "colab": {
          "base_uri": "https://localhost:8080/"
        },
        "id": "EXce36zXsn8H",
        "outputId": "43a514ae-fc9f-4ca7-898a-d2d9b72d308d"
      },
      "execution_count": null,
      "outputs": [
        {
          "output_type": "stream",
          "name": "stdout",
          "text": [
            "3\n"
          ]
        }
      ]
    },
    {
      "cell_type": "code",
      "source": [
        "s = \"bbbbb\"\n",
        "substring(s)"
      ],
      "metadata": {
        "colab": {
          "base_uri": "https://localhost:8080/"
        },
        "id": "uyw94iRY-0yL",
        "outputId": "82be2ec7-b9a3-4d9c-c57e-85d67e56c15d"
      },
      "execution_count": null,
      "outputs": [
        {
          "output_type": "stream",
          "name": "stdout",
          "text": [
            "1\n"
          ]
        }
      ]
    },
    {
      "cell_type": "code",
      "source": [
        "s = \"pwwkew\"\n",
        "substring(s)\n"
      ],
      "metadata": {
        "colab": {
          "base_uri": "https://localhost:8080/"
        },
        "id": "zLg2r3lF-5ml",
        "outputId": "27fb97bb-b6cc-4287-af7a-265e50564cab"
      },
      "execution_count": null,
      "outputs": [
        {
          "output_type": "stream",
          "name": "stdout",
          "text": [
            "3\n"
          ]
        }
      ]
    },
    {
      "cell_type": "markdown",
      "source": [
        "7. SORT colors\n",
        "Given an array nums with n objects colored red, white, or blue, sort them in-place so that objects of\n",
        "the same color are adjacent, with the colors in the order red, white, and blue.\n",
        "We will use the integers 0, 1, and 2 to represent the color red, white, and blue, respectively.\n",
        "You must solve this problem without using the library's sort function."
      ],
      "metadata": {
        "id": "lVUbIhtaB3MY"
      }
    },
    {
      "cell_type": "code",
      "source": [
        "def Sort(n):\n",
        "  for fea in range(len(n)):\n",
        "    for num in range(fea+1,len(n)):\n",
        "      if n[fea]>=n[num]:\n",
        "        n[fea],n[num]=n[num],n[fea]\n",
        "  print(n)\n",
        "\n"
      ],
      "metadata": {
        "id": "Lp3-3vC3BojP"
      },
      "execution_count": null,
      "outputs": []
    },
    {
      "cell_type": "code",
      "source": [
        "nums = [2, 0, 2, 1, 1, 0]\n",
        "Sort(nums)\n",
        "\n"
      ],
      "metadata": {
        "colab": {
          "base_uri": "https://localhost:8080/"
        },
        "id": "f-lu40YcITB5",
        "outputId": "b1d00a7f-964a-45df-9cf3-faad781040db"
      },
      "execution_count": null,
      "outputs": [
        {
          "output_type": "stream",
          "name": "stdout",
          "text": [
            "[0, 0, 1, 1, 2, 2]\n"
          ]
        }
      ]
    },
    {
      "cell_type": "code",
      "source": [
        " nums = [2, 0, 1]\n",
        " Sort(nums)"
      ],
      "metadata": {
        "colab": {
          "base_uri": "https://localhost:8080/"
        },
        "id": "2rfyAEWjNS33",
        "outputId": "bf994c13-c922-45c3-b260-ca1733d227d0"
      },
      "execution_count": null,
      "outputs": [
        {
          "output_type": "stream",
          "name": "stdout",
          "text": [
            "[0, 1, 2]\n"
          ]
        }
      ]
    },
    {
      "cell_type": "markdown",
      "source": [
        "8. Removing stars from string\n",
        "You are given a string s, which contains stars *.\n",
        "In one operation, you can:\n",
        "Choose a star in s.\n",
        "Remove the closest non-star character to its left, as well as remove the star itself.\n",
        "Return the string after all stars have been removed.\n",
        "Note:\n",
        "The input will be generated such that the operation is always possible.\n",
        "It can be shown that the resulting string will always be unique."
      ],
      "metadata": {
        "id": "WOdfe88Tbc9u"
      }
    },
    {
      "cell_type": "code",
      "source": [
        "def remove_star(n):\n",
        "  box=[]\n",
        "  for fea in range(len(n)):\n",
        "    if n[fea]==\"*\":\n",
        "      box.pop()\n",
        "    else:\n",
        "      box.append(n[fea])\n",
        "  new_str=\"\".join(box)\n",
        "  print(new_str)\n",
        "\n"
      ],
      "metadata": {
        "id": "QoWIOCCPbOkm"
      },
      "execution_count": 24,
      "outputs": []
    },
    {
      "cell_type": "code",
      "source": [
        " s = \"leet**cod*e\"\n",
        " remove_star(s)"
      ],
      "metadata": {
        "colab": {
          "base_uri": "https://localhost:8080/"
        },
        "id": "_blePmD3dFAJ",
        "outputId": "a6aecfc6-f82f-4840-b98d-b345a830534f"
      },
      "execution_count": 25,
      "outputs": [
        {
          "output_type": "stream",
          "name": "stdout",
          "text": [
            "lecoe\n"
          ]
        }
      ]
    },
    {
      "cell_type": "code",
      "source": [
        " s = \"erase*****\"\n",
        " remove_star(s)"
      ],
      "metadata": {
        "id": "pOBMp2Rqmdks",
        "colab": {
          "base_uri": "https://localhost:8080/"
        },
        "outputId": "3a53942a-eebb-4667-f98d-7d9686e04da6"
      },
      "execution_count": 26,
      "outputs": [
        {
          "output_type": "stream",
          "name": "stdout",
          "text": [
            "\n"
          ]
        }
      ]
    },
    {
      "cell_type": "code",
      "source": [],
      "metadata": {
        "id": "XA-UXiQ1zyNa"
      },
      "execution_count": null,
      "outputs": []
    }
  ]
}